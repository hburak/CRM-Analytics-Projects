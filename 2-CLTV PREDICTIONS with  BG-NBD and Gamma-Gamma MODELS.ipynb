{
 "cells": [
  {
   "cell_type": "code",
   "execution_count": 1,
   "metadata": {
    "collapsed": true
   },
   "outputs": [],
   "source": [
    "##############################################################\n",
    "# CLTV PREDICTIONS with  BG-NBD and Gamma-Gamma MODELS\n",
    "##############################################################"
   ]
  },
  {
   "cell_type": "code",
   "execution_count": null,
   "outputs": [],
   "source": [
    "###############################################################\n",
    "# Business Problem\n",
    "###############################################################\n",
    "# FLO RETAIL CHAIN COMPANY IS PLANNING DEFINE A ROADMAP FOR SALED AND MARKETING STRATEGIES\n",
    "# COMPANY IS AIMING TO PREDICT LIFE TIME VALUE FOR OF ITS CUSTOMERS TO SET A APPROPRIATE STRATEGY\n"
   ],
   "metadata": {
    "collapsed": false
   }
  },
  {
   "cell_type": "code",
   "execution_count": 2,
   "outputs": [],
   "source": [
    "###############################################################\n",
    "# Dataset\n",
    "###############################################################\n",
    "\n",
    "# This dataset consist of customer purchase history data from 2020-2021\n",
    "# master_id: Unique customer id\n",
    "# order_channel : Purchase channel (Android, ios, Desktop, Mobile, Offline)\n",
    "# last_order_channel :\n",
    "# first_order_date :\n",
    "# last_order_date :\n",
    "# last_order_date_online : Total number of customer's online shoppings\n",
    "# last_order_date_offline : Total number of customer's offline shoppings\n",
    "# order_num_total_ever_online : Total nr. of customer's all online shoppings\n",
    "# order_num_total_ever_offline :Total nr. of customer's all online shoppings\n",
    "# customer_value_total_ever_offline : Total price of customer's offline shopping\n",
    "# customer_value_total_ever_online : Total price of customer's online shopping\n",
    "# interested_in_categories_12 : List of categories which customer purchased in last 12 months"
   ],
   "metadata": {
    "collapsed": false
   }
  },
  {
   "cell_type": "code",
   "execution_count": 4,
   "outputs": [
    {
     "data": {
      "text/plain": "                              master_id order_channel last_order_channel  \\\n0  cc294636-19f0-11eb-8d74-000d3a38a36f   Android App            Offline   \n1  f431bd5a-ab7b-11e9-a2fc-000d3a38a36f   Android App             Mobile   \n2  69b69676-1a40-11ea-941b-000d3a38a36f   Android App        Android App   \n3  1854e56c-491f-11eb-806e-000d3a38a36f   Android App        Android App   \n4  d6ea1074-f1f5-11e9-9346-000d3a38a36f       Desktop            Desktop   \n\n  first_order_date last_order_date last_order_date_online  \\\n0       2020-10-30      2021-02-26             2021-02-21   \n1       2017-02-08      2021-02-16             2021-02-16   \n2       2019-11-27      2020-11-27             2020-11-27   \n3       2021-01-06      2021-01-17             2021-01-17   \n4       2019-08-03      2021-03-07             2021-03-07   \n\n  last_order_date_offline  order_num_total_ever_online  \\\n0              2021-02-26                         4.00   \n1              2020-01-10                        19.00   \n2              2019-12-01                         3.00   \n3              2021-01-06                         1.00   \n4              2019-08-03                         1.00   \n\n   order_num_total_ever_offline  customer_value_total_ever_offline  \\\n0                          1.00                             139.99   \n1                          2.00                             159.97   \n2                          2.00                             189.97   \n3                          1.00                              39.99   \n4                          1.00                              49.99   \n\n   customer_value_total_ever_online       interested_in_categories_12  \n0                            799.38                           [KADIN]  \n1                           1853.58  [ERKEK, COCUK, KADIN, AKTIFSPOR]  \n2                            395.35                    [ERKEK, KADIN]  \n3                             81.98               [AKTIFCOCUK, COCUK]  \n4                            159.99                       [AKTIFSPOR]  ",
      "text/html": "<div>\n<style scoped>\n    .dataframe tbody tr th:only-of-type {\n        vertical-align: middle;\n    }\n\n    .dataframe tbody tr th {\n        vertical-align: top;\n    }\n\n    .dataframe thead th {\n        text-align: right;\n    }\n</style>\n<table border=\"1\" class=\"dataframe\">\n  <thead>\n    <tr style=\"text-align: right;\">\n      <th></th>\n      <th>master_id</th>\n      <th>order_channel</th>\n      <th>last_order_channel</th>\n      <th>first_order_date</th>\n      <th>last_order_date</th>\n      <th>last_order_date_online</th>\n      <th>last_order_date_offline</th>\n      <th>order_num_total_ever_online</th>\n      <th>order_num_total_ever_offline</th>\n      <th>customer_value_total_ever_offline</th>\n      <th>customer_value_total_ever_online</th>\n      <th>interested_in_categories_12</th>\n    </tr>\n  </thead>\n  <tbody>\n    <tr>\n      <th>0</th>\n      <td>cc294636-19f0-11eb-8d74-000d3a38a36f</td>\n      <td>Android App</td>\n      <td>Offline</td>\n      <td>2020-10-30</td>\n      <td>2021-02-26</td>\n      <td>2021-02-21</td>\n      <td>2021-02-26</td>\n      <td>4.00</td>\n      <td>1.00</td>\n      <td>139.99</td>\n      <td>799.38</td>\n      <td>[KADIN]</td>\n    </tr>\n    <tr>\n      <th>1</th>\n      <td>f431bd5a-ab7b-11e9-a2fc-000d3a38a36f</td>\n      <td>Android App</td>\n      <td>Mobile</td>\n      <td>2017-02-08</td>\n      <td>2021-02-16</td>\n      <td>2021-02-16</td>\n      <td>2020-01-10</td>\n      <td>19.00</td>\n      <td>2.00</td>\n      <td>159.97</td>\n      <td>1853.58</td>\n      <td>[ERKEK, COCUK, KADIN, AKTIFSPOR]</td>\n    </tr>\n    <tr>\n      <th>2</th>\n      <td>69b69676-1a40-11ea-941b-000d3a38a36f</td>\n      <td>Android App</td>\n      <td>Android App</td>\n      <td>2019-11-27</td>\n      <td>2020-11-27</td>\n      <td>2020-11-27</td>\n      <td>2019-12-01</td>\n      <td>3.00</td>\n      <td>2.00</td>\n      <td>189.97</td>\n      <td>395.35</td>\n      <td>[ERKEK, KADIN]</td>\n    </tr>\n    <tr>\n      <th>3</th>\n      <td>1854e56c-491f-11eb-806e-000d3a38a36f</td>\n      <td>Android App</td>\n      <td>Android App</td>\n      <td>2021-01-06</td>\n      <td>2021-01-17</td>\n      <td>2021-01-17</td>\n      <td>2021-01-06</td>\n      <td>1.00</td>\n      <td>1.00</td>\n      <td>39.99</td>\n      <td>81.98</td>\n      <td>[AKTIFCOCUK, COCUK]</td>\n    </tr>\n    <tr>\n      <th>4</th>\n      <td>d6ea1074-f1f5-11e9-9346-000d3a38a36f</td>\n      <td>Desktop</td>\n      <td>Desktop</td>\n      <td>2019-08-03</td>\n      <td>2021-03-07</td>\n      <td>2021-03-07</td>\n      <td>2019-08-03</td>\n      <td>1.00</td>\n      <td>1.00</td>\n      <td>49.99</td>\n      <td>159.99</td>\n      <td>[AKTIFSPOR]</td>\n    </tr>\n  </tbody>\n</table>\n</div>"
     },
     "execution_count": 4,
     "metadata": {},
     "output_type": "execute_result"
    }
   ],
   "source": [
    "###############################################################\n",
    "# TASK 1: DATA PREPROCESSING\n",
    "###############################################################\n",
    "import pandas as pd\n",
    "import datetime as dt\n",
    "from lifetimes import BetaGeoFitter\n",
    "from lifetimes import GammaGammaFitter\n",
    "from sklearn.preprocessing import MinMaxScaler\n",
    "pd.set_option('display.max_columns', None)\n",
    "pd.set_option('display.max_rows', None)\n",
    "pd.set_option('display.float_format', lambda x: '%.2f' % x)\n",
    "pd.options.mode.chained_assignment = None\n",
    "\n",
    "# Read the date\n",
    "df_ = pd.read_csv(\"flo_data_20K.csv\")\n",
    "df = df_.copy()\n",
    "df.head()"
   ],
   "metadata": {
    "collapsed": false
   }
  },
  {
   "cell_type": "code",
   "execution_count": 5,
   "outputs": [],
   "source": [
    "#  Detect outliers and replace them with thresholds\n",
    "# In order to calculate cltv , frequency values should be in integers. So round  the low and up limits\n",
    "def outlier_thresholds(dataframe, variable):\n",
    "    quartile1 = dataframe[variable].quantile(0.01)\n",
    "    quartile3 = dataframe[variable].quantile(0.99)\n",
    "    interquantile_range = quartile3 - quartile1\n",
    "    up_limit = quartile3 + 1.5 * interquantile_range\n",
    "    low_limit = quartile1 - 1.5 * interquantile_range\n",
    "    return low_limit, up_limit\n",
    "\n",
    "def replace_with_thresholds(dataframe, variable):\n",
    "    low_limit, up_limit = outlier_thresholds(dataframe, variable)\n",
    "    dataframe.loc[(dataframe[variable] < low_limit), variable] = round(low_limit,0)\n",
    "    dataframe.loc[(dataframe[variable] > up_limit), variable] = round(up_limit,0)"
   ],
   "metadata": {
    "collapsed": false
   }
  },
  {
   "cell_type": "code",
   "execution_count": 6,
   "outputs": [],
   "source": [
    "# OUTLIER VALUES IN \"order_num_total_ever_online\",\"order_num_total_ever_offline\",\"customer_value_total_ever_offline\", AND #\"customer_value_total_ever_online\" VARIABLES SHOULD BE REPLACED WITH THRESHOLDS\n",
    "#aykırı değerleri varsa baskılayanız.\n",
    "columns = [\"order_num_total_ever_online\", \"order_num_total_ever_offline\", \"customer_value_total_ever_offline\",\"customer_value_total_ever_online\"]\n",
    "for col in columns:\n",
    "    replace_with_thresholds(df, col)"
   ],
   "metadata": {
    "collapsed": false
   }
  },
  {
   "cell_type": "code",
   "execution_count": 7,
   "outputs": [],
   "source": [
    "# Here we gather the sum of both customer shopping from both online and offline shopping and save them as new variables.\n",
    "df[\"order_num_total\"] = df[\"order_num_total_ever_online\"] + df[\"order_num_total_ever_offline\"]\n",
    "df[\"customer_value_total\"] = df[\"customer_value_total_ever_offline\"] + df[\"customer_value_total_ever_online\"]"
   ],
   "metadata": {
    "collapsed": false
   }
  },
  {
   "cell_type": "code",
   "execution_count": 8,
   "outputs": [],
   "source": [
    "# Here we need to convert some objectS data types to datetime\n",
    "date_columns = df.columns[df.columns.str.contains(\"date\")]\n",
    "df[date_columns] = df[date_columns].apply(pd.to_datetime)"
   ],
   "metadata": {
    "collapsed": false
   }
  },
  {
   "cell_type": "code",
   "execution_count": 9,
   "outputs": [],
   "source": [
    "###############################################################\n",
    "# TASK 2: SETTING UP THE DATASET FOR CLTV DATA STRUCTURE\n",
    "###############################################################"
   ],
   "metadata": {
    "collapsed": false
   }
  },
  {
   "cell_type": "code",
   "execution_count": 10,
   "outputs": [
    {
     "data": {
      "text/plain": "Timestamp('2021-05-30 00:00:00')"
     },
     "execution_count": 10,
     "metadata": {},
     "output_type": "execute_result"
    }
   ],
   "source": [
    "# IN order to analyze, firstly an analysis date should be set which is 2 days later than the latest order date in dataset\n",
    "df[\"last_order_date\"].max()"
   ],
   "metadata": {
    "collapsed": false
   }
  },
  {
   "cell_type": "code",
   "execution_count": 11,
   "outputs": [],
   "source": [
    "analysis_date = dt.datetime(2021,6,1)"
   ],
   "metadata": {
    "collapsed": false
   }
  },
  {
   "cell_type": "code",
   "execution_count": 12,
   "outputs": [
    {
     "data": {
      "text/plain": "                            customer_id  recency_cltv_weekly  T_weekly  \\\n0  cc294636-19f0-11eb-8d74-000d3a38a36f                17.00     30.57   \n1  f431bd5a-ab7b-11e9-a2fc-000d3a38a36f               209.86    224.86   \n2  69b69676-1a40-11ea-941b-000d3a38a36f                52.29     78.86   \n3  1854e56c-491f-11eb-806e-000d3a38a36f                 1.57     20.86   \n4  d6ea1074-f1f5-11e9-9346-000d3a38a36f                83.14     95.43   \n\n   frequency  monetary_cltv_avg  \n0       5.00             187.87  \n1      21.00              95.88  \n2       5.00             117.06  \n3       2.00              60.98  \n4       2.00             104.99  ",
      "text/html": "<div>\n<style scoped>\n    .dataframe tbody tr th:only-of-type {\n        vertical-align: middle;\n    }\n\n    .dataframe tbody tr th {\n        vertical-align: top;\n    }\n\n    .dataframe thead th {\n        text-align: right;\n    }\n</style>\n<table border=\"1\" class=\"dataframe\">\n  <thead>\n    <tr style=\"text-align: right;\">\n      <th></th>\n      <th>customer_id</th>\n      <th>recency_cltv_weekly</th>\n      <th>T_weekly</th>\n      <th>frequency</th>\n      <th>monetary_cltv_avg</th>\n    </tr>\n  </thead>\n  <tbody>\n    <tr>\n      <th>0</th>\n      <td>cc294636-19f0-11eb-8d74-000d3a38a36f</td>\n      <td>17.00</td>\n      <td>30.57</td>\n      <td>5.00</td>\n      <td>187.87</td>\n    </tr>\n    <tr>\n      <th>1</th>\n      <td>f431bd5a-ab7b-11e9-a2fc-000d3a38a36f</td>\n      <td>209.86</td>\n      <td>224.86</td>\n      <td>21.00</td>\n      <td>95.88</td>\n    </tr>\n    <tr>\n      <th>2</th>\n      <td>69b69676-1a40-11ea-941b-000d3a38a36f</td>\n      <td>52.29</td>\n      <td>78.86</td>\n      <td>5.00</td>\n      <td>117.06</td>\n    </tr>\n    <tr>\n      <th>3</th>\n      <td>1854e56c-491f-11eb-806e-000d3a38a36f</td>\n      <td>1.57</td>\n      <td>20.86</td>\n      <td>2.00</td>\n      <td>60.98</td>\n    </tr>\n    <tr>\n      <th>4</th>\n      <td>d6ea1074-f1f5-11e9-9346-000d3a38a36f</td>\n      <td>83.14</td>\n      <td>95.43</td>\n      <td>2.00</td>\n      <td>104.99</td>\n    </tr>\n  </tbody>\n</table>\n</div>"
     },
     "execution_count": 12,
     "metadata": {},
     "output_type": "execute_result"
    }
   ],
   "source": [
    "# steps of creating a new dataframe to work on it called as cltv_df :\"recency_cltv_weekly\",T_weekly\",\"frequency\",\"monetary_cltv_avg\"\n",
    "cltv_df = pd.DataFrame()\n",
    "cltv_df[\"customer_id\"] = df[\"master_id\"]\n",
    "cltv_df[\"recency_cltv_weekly\"] = ((df[\"last_order_date\"]- df[\"first_order_date\"]).astype('timedelta64[D]')) / 7\n",
    "cltv_df[\"T_weekly\"] = ((analysis_date - df[\"first_order_date\"]).astype('timedelta64[D]'))/7\n",
    "cltv_df[\"frequency\"] = df[\"order_num_total\"]\n",
    "cltv_df[\"monetary_cltv_avg\"] = df[\"customer_value_total\"] / df[\"order_num_total\"]\n",
    "\n",
    "cltv_df.head()"
   ],
   "metadata": {
    "collapsed": false
   }
  },
  {
   "cell_type": "code",
   "execution_count": 13,
   "outputs": [
    {
     "name": "stderr",
     "output_type": "stream",
     "text": [
      "C:\\Users\\HuseyinBurakBolat\\Anaconda3\\Lib\\site-packages\\pandas\\core\\arraylike.py:364: RuntimeWarning: invalid value encountered in sqrt\n",
      "  result = getattr(ufunc, method)(*inputs, **kwargs)\n"
     ]
    },
    {
     "data": {
      "text/plain": "<lifetimes.BetaGeoFitter: fitted with 19945 subjects, a: 0.00, alpha: 76.17, b: 0.00, r: 3.66>"
     },
     "execution_count": 13,
     "metadata": {},
     "output_type": "execute_result"
    }
   ],
   "source": [
    "###############################################################\n",
    "# TASK 3: BUILDING BG/NBD AND Gamma-Gamma MODELS AND CALCULATING CLTV FOR 6 MONTHS\n",
    "###############################################################\n",
    "\n",
    "# BUILDING BG/NBD MODEL\n",
    "bgf = BetaGeoFitter(penalizer_coef=0.001)\n",
    "bgf.fit(cltv_df['frequency'],\n",
    "        cltv_df['recency_cltv_weekly'],\n",
    "        cltv_df['T_weekly'])\n",
    "\n",
    "# 3 ay içerisinde müşterilerden b"
   ],
   "metadata": {
    "collapsed": false
   }
  },
  {
   "cell_type": "code",
   "execution_count": 15,
   "outputs": [],
   "source": [
    "# PREDICT THE EXPECTED NUMBER OF TRANSACTIONS FOR 3 AND 6 MONTHS OF PERIOD AND SAVE IN DATAFRAME\n",
    "\n",
    "# PREDICTIONS FOR 3 MONTHS OF PERIOD\n",
    "cltv_df[\"exp_sales_3_month\"] = bgf.predict(4*3,\n",
    "                                           cltv_df['frequency'],\n",
    "                                           cltv_df['recency_cltv_weekly'],\n",
    "                                           cltv_df['T_weekly'])"
   ],
   "metadata": {
    "collapsed": false
   }
  },
  {
   "cell_type": "code",
   "execution_count": 16,
   "outputs": [],
   "source": [
    "# PREDICTIONS FOR 6 MONTHS OF PERIOD\n",
    "cltv_df[\"exp_sales_6_month\"] = bgf.predict(4*6,\n",
    "                                           cltv_df['frequency'],\n",
    "                                           cltv_df['recency_cltv_weekly'],\n",
    "                                           cltv_df['T_weekly'])"
   ],
   "metadata": {
    "collapsed": false
   }
  },
  {
   "cell_type": "code",
   "execution_count": null,
   "outputs": [],
   "source": [
    "# COMPARE TOP 5 PREDICTIONS FOR 3 AND 6 MONTHS OF PERIODS"
   ],
   "metadata": {
    "collapsed": false
   }
  },
  {
   "cell_type": "code",
   "execution_count": 18,
   "outputs": [
    {
     "data": {
      "text/plain": "                                customer_id  recency_cltv_weekly  T_weekly  \\\n7330   a4d534a2-5b1b-11eb-8dbd-000d3a38a36f                62.71     67.29   \n15611  4a7e875e-e6ce-11ea-8f44-000d3a38a36f                39.71     40.00   \n8328   1902bf80-0035-11eb-8341-000d3a38a36f                28.86     33.29   \n19538  55d54d9e-8ac7-11ea-8ec0-000d3a38a36f                52.57     58.71   \n14373  f00ad516-c4f4-11ea-98f7-000d3a38a36f                38.00     46.43   \n\n       frequency  monetary_cltv_avg  exp_sales_6_month  exp_sales_3_month  \n7330       52.00             166.22               9.31               4.66  \n15611      29.00             165.30               6.75               3.37  \n8328       25.00              97.44               6.28               3.14  \n19538      31.00             228.53               6.17               3.08  \n14373      27.00             141.35               6.00               3.00  ",
      "text/html": "<div>\n<style scoped>\n    .dataframe tbody tr th:only-of-type {\n        vertical-align: middle;\n    }\n\n    .dataframe tbody tr th {\n        vertical-align: top;\n    }\n\n    .dataframe thead th {\n        text-align: right;\n    }\n</style>\n<table border=\"1\" class=\"dataframe\">\n  <thead>\n    <tr style=\"text-align: right;\">\n      <th></th>\n      <th>customer_id</th>\n      <th>recency_cltv_weekly</th>\n      <th>T_weekly</th>\n      <th>frequency</th>\n      <th>monetary_cltv_avg</th>\n      <th>exp_sales_6_month</th>\n      <th>exp_sales_3_month</th>\n    </tr>\n  </thead>\n  <tbody>\n    <tr>\n      <th>7330</th>\n      <td>a4d534a2-5b1b-11eb-8dbd-000d3a38a36f</td>\n      <td>62.71</td>\n      <td>67.29</td>\n      <td>52.00</td>\n      <td>166.22</td>\n      <td>9.31</td>\n      <td>4.66</td>\n    </tr>\n    <tr>\n      <th>15611</th>\n      <td>4a7e875e-e6ce-11ea-8f44-000d3a38a36f</td>\n      <td>39.71</td>\n      <td>40.00</td>\n      <td>29.00</td>\n      <td>165.30</td>\n      <td>6.75</td>\n      <td>3.37</td>\n    </tr>\n    <tr>\n      <th>8328</th>\n      <td>1902bf80-0035-11eb-8341-000d3a38a36f</td>\n      <td>28.86</td>\n      <td>33.29</td>\n      <td>25.00</td>\n      <td>97.44</td>\n      <td>6.28</td>\n      <td>3.14</td>\n    </tr>\n    <tr>\n      <th>19538</th>\n      <td>55d54d9e-8ac7-11ea-8ec0-000d3a38a36f</td>\n      <td>52.57</td>\n      <td>58.71</td>\n      <td>31.00</td>\n      <td>228.53</td>\n      <td>6.17</td>\n      <td>3.08</td>\n    </tr>\n    <tr>\n      <th>14373</th>\n      <td>f00ad516-c4f4-11ea-98f7-000d3a38a36f</td>\n      <td>38.00</td>\n      <td>46.43</td>\n      <td>27.00</td>\n      <td>141.35</td>\n      <td>6.00</td>\n      <td>3.00</td>\n    </tr>\n  </tbody>\n</table>\n</div>"
     },
     "execution_count": 18,
     "metadata": {},
     "output_type": "execute_result"
    }
   ],
   "source": [
    "cltv_df.sort_values(\"exp_sales_3_month\",ascending=False)[:5]\n"
   ],
   "metadata": {
    "collapsed": false
   }
  },
  {
   "cell_type": "code",
   "execution_count": 19,
   "outputs": [
    {
     "data": {
      "text/plain": "                                customer_id  recency_cltv_weekly  T_weekly  \\\n7330   a4d534a2-5b1b-11eb-8dbd-000d3a38a36f                62.71     67.29   \n15611  4a7e875e-e6ce-11ea-8f44-000d3a38a36f                39.71     40.00   \n8328   1902bf80-0035-11eb-8341-000d3a38a36f                28.86     33.29   \n19538  55d54d9e-8ac7-11ea-8ec0-000d3a38a36f                52.57     58.71   \n14373  f00ad516-c4f4-11ea-98f7-000d3a38a36f                38.00     46.43   \n\n       frequency  monetary_cltv_avg  exp_sales_6_month  exp_sales_3_month  \n7330       52.00             166.22               9.31               4.66  \n15611      29.00             165.30               6.75               3.37  \n8328       25.00              97.44               6.28               3.14  \n19538      31.00             228.53               6.17               3.08  \n14373      27.00             141.35               6.00               3.00  ",
      "text/html": "<div>\n<style scoped>\n    .dataframe tbody tr th:only-of-type {\n        vertical-align: middle;\n    }\n\n    .dataframe tbody tr th {\n        vertical-align: top;\n    }\n\n    .dataframe thead th {\n        text-align: right;\n    }\n</style>\n<table border=\"1\" class=\"dataframe\">\n  <thead>\n    <tr style=\"text-align: right;\">\n      <th></th>\n      <th>customer_id</th>\n      <th>recency_cltv_weekly</th>\n      <th>T_weekly</th>\n      <th>frequency</th>\n      <th>monetary_cltv_avg</th>\n      <th>exp_sales_6_month</th>\n      <th>exp_sales_3_month</th>\n    </tr>\n  </thead>\n  <tbody>\n    <tr>\n      <th>7330</th>\n      <td>a4d534a2-5b1b-11eb-8dbd-000d3a38a36f</td>\n      <td>62.71</td>\n      <td>67.29</td>\n      <td>52.00</td>\n      <td>166.22</td>\n      <td>9.31</td>\n      <td>4.66</td>\n    </tr>\n    <tr>\n      <th>15611</th>\n      <td>4a7e875e-e6ce-11ea-8f44-000d3a38a36f</td>\n      <td>39.71</td>\n      <td>40.00</td>\n      <td>29.00</td>\n      <td>165.30</td>\n      <td>6.75</td>\n      <td>3.37</td>\n    </tr>\n    <tr>\n      <th>8328</th>\n      <td>1902bf80-0035-11eb-8341-000d3a38a36f</td>\n      <td>28.86</td>\n      <td>33.29</td>\n      <td>25.00</td>\n      <td>97.44</td>\n      <td>6.28</td>\n      <td>3.14</td>\n    </tr>\n    <tr>\n      <th>19538</th>\n      <td>55d54d9e-8ac7-11ea-8ec0-000d3a38a36f</td>\n      <td>52.57</td>\n      <td>58.71</td>\n      <td>31.00</td>\n      <td>228.53</td>\n      <td>6.17</td>\n      <td>3.08</td>\n    </tr>\n    <tr>\n      <th>14373</th>\n      <td>f00ad516-c4f4-11ea-98f7-000d3a38a36f</td>\n      <td>38.00</td>\n      <td>46.43</td>\n      <td>27.00</td>\n      <td>141.35</td>\n      <td>6.00</td>\n      <td>3.00</td>\n    </tr>\n  </tbody>\n</table>\n</div>"
     },
     "execution_count": 19,
     "metadata": {},
     "output_type": "execute_result"
    }
   ],
   "source": [
    "cltv_df.sort_values(\"exp_sales_6_month\",ascending=False)[:5]"
   ],
   "metadata": {
    "collapsed": false
   }
  },
  {
   "cell_type": "code",
   "execution_count": 20,
   "outputs": [
    {
     "data": {
      "text/plain": "                            customer_id  recency_cltv_weekly  T_weekly  \\\n0  cc294636-19f0-11eb-8d74-000d3a38a36f                17.00     30.57   \n1  f431bd5a-ab7b-11e9-a2fc-000d3a38a36f               209.86    224.86   \n2  69b69676-1a40-11ea-941b-000d3a38a36f                52.29     78.86   \n3  1854e56c-491f-11eb-806e-000d3a38a36f                 1.57     20.86   \n4  d6ea1074-f1f5-11e9-9346-000d3a38a36f                83.14     95.43   \n\n   frequency  monetary_cltv_avg  exp_sales_6_month  exp_sales_3_month  \\\n0       5.00             187.87               1.95               0.97   \n1      21.00              95.88               1.97               0.98   \n2       5.00             117.06               1.34               0.67   \n3       2.00              60.98               1.40               0.70   \n4       2.00             104.99               0.79               0.40   \n\n   exp_average_value  \n0             193.63  \n1              96.67  \n2             120.97  \n3              67.32  \n4             114.33  ",
      "text/html": "<div>\n<style scoped>\n    .dataframe tbody tr th:only-of-type {\n        vertical-align: middle;\n    }\n\n    .dataframe tbody tr th {\n        vertical-align: top;\n    }\n\n    .dataframe thead th {\n        text-align: right;\n    }\n</style>\n<table border=\"1\" class=\"dataframe\">\n  <thead>\n    <tr style=\"text-align: right;\">\n      <th></th>\n      <th>customer_id</th>\n      <th>recency_cltv_weekly</th>\n      <th>T_weekly</th>\n      <th>frequency</th>\n      <th>monetary_cltv_avg</th>\n      <th>exp_sales_6_month</th>\n      <th>exp_sales_3_month</th>\n      <th>exp_average_value</th>\n    </tr>\n  </thead>\n  <tbody>\n    <tr>\n      <th>0</th>\n      <td>cc294636-19f0-11eb-8d74-000d3a38a36f</td>\n      <td>17.00</td>\n      <td>30.57</td>\n      <td>5.00</td>\n      <td>187.87</td>\n      <td>1.95</td>\n      <td>0.97</td>\n      <td>193.63</td>\n    </tr>\n    <tr>\n      <th>1</th>\n      <td>f431bd5a-ab7b-11e9-a2fc-000d3a38a36f</td>\n      <td>209.86</td>\n      <td>224.86</td>\n      <td>21.00</td>\n      <td>95.88</td>\n      <td>1.97</td>\n      <td>0.98</td>\n      <td>96.67</td>\n    </tr>\n    <tr>\n      <th>2</th>\n      <td>69b69676-1a40-11ea-941b-000d3a38a36f</td>\n      <td>52.29</td>\n      <td>78.86</td>\n      <td>5.00</td>\n      <td>117.06</td>\n      <td>1.34</td>\n      <td>0.67</td>\n      <td>120.97</td>\n    </tr>\n    <tr>\n      <th>3</th>\n      <td>1854e56c-491f-11eb-806e-000d3a38a36f</td>\n      <td>1.57</td>\n      <td>20.86</td>\n      <td>2.00</td>\n      <td>60.98</td>\n      <td>1.40</td>\n      <td>0.70</td>\n      <td>67.32</td>\n    </tr>\n    <tr>\n      <th>4</th>\n      <td>d6ea1074-f1f5-11e9-9346-000d3a38a36f</td>\n      <td>83.14</td>\n      <td>95.43</td>\n      <td>2.00</td>\n      <td>104.99</td>\n      <td>0.79</td>\n      <td>0.40</td>\n      <td>114.33</td>\n    </tr>\n  </tbody>\n</table>\n</div>"
     },
     "execution_count": 20,
     "metadata": {},
     "output_type": "execute_result"
    }
   ],
   "source": [
    "# BUILD THE GAMMA-GAMMA MODEL AND SAVE EXPECTED AVERAGE PROFITS IN CLTV_DF DATAFRAME AS \"exp_average_value\"\n",
    "ggf = GammaGammaFitter(penalizer_coef=0.01)\n",
    "ggf.fit(cltv_df['frequency'], cltv_df['monetary_cltv_avg'])\n",
    "cltv_df[\"exp_average_value\"] = ggf.conditional_expected_average_profit(cltv_df['frequency'],\n",
    "                                                                       cltv_df['monetary_cltv_avg'])\n",
    "cltv_df.head()"
   ],
   "metadata": {
    "collapsed": false
   }
  },
  {
   "cell_type": "code",
   "execution_count": 21,
   "outputs": [],
   "source": [
    "# CALCULATE THE CLTV FOR 6 MONTHS AND SAVE IN DATAFRAME AS cltv\n",
    "cltv = ggf.customer_lifetime_value(bgf,\n",
    "                                   cltv_df['frequency'],\n",
    "                                   cltv_df['recency_cltv_weekly'],\n",
    "                                   cltv_df['T_weekly'],\n",
    "                                   cltv_df['monetary_cltv_avg'],\n",
    "                                   time=6,\n",
    "                                   freq=\"W\",\n",
    "                                   discount_rate=0.01)\n",
    "cltv_df[\"cltv\"] = cltv"
   ],
   "metadata": {
    "collapsed": false
   }
  },
  {
   "cell_type": "code",
   "execution_count": 23,
   "outputs": [
    {
     "data": {
      "text/plain": "                                customer_id  recency_cltv_weekly  T_weekly  \\\n9055   47a642fe-975b-11eb-8c2a-000d3a38a36f                 2.86      7.86   \n13880  7137a5c0-7aad-11ea-8f20-000d3a38a36f                 6.14     13.14   \n17323  f59053e2-a503-11e9-a2fc-000d3a38a36f                51.71    101.00   \n12438  625f40a2-5bd2-11ea-98b0-000d3a38a36f                74.29     74.57   \n7330   a4d534a2-5b1b-11eb-8dbd-000d3a38a36f                62.71     67.29   \n\n       frequency  monetary_cltv_avg  exp_sales_6_month  exp_sales_3_month  \\\n9055        4.00            1401.80               2.19               1.09   \n13880      11.00             758.09               3.94               1.97   \n17323       7.00            1106.47               1.44               0.72   \n12438      16.00             501.87               3.13               1.57   \n7330       52.00             166.22               9.31               4.66   \n\n       exp_average_value    cltv  \n9055             1449.06 3327.78  \n13880             767.36 3172.39  \n17323            1127.61 1708.98  \n12438             506.17 1662.61  \n7330              166.71 1628.89  ",
      "text/html": "<div>\n<style scoped>\n    .dataframe tbody tr th:only-of-type {\n        vertical-align: middle;\n    }\n\n    .dataframe tbody tr th {\n        vertical-align: top;\n    }\n\n    .dataframe thead th {\n        text-align: right;\n    }\n</style>\n<table border=\"1\" class=\"dataframe\">\n  <thead>\n    <tr style=\"text-align: right;\">\n      <th></th>\n      <th>customer_id</th>\n      <th>recency_cltv_weekly</th>\n      <th>T_weekly</th>\n      <th>frequency</th>\n      <th>monetary_cltv_avg</th>\n      <th>exp_sales_6_month</th>\n      <th>exp_sales_3_month</th>\n      <th>exp_average_value</th>\n      <th>cltv</th>\n    </tr>\n  </thead>\n  <tbody>\n    <tr>\n      <th>9055</th>\n      <td>47a642fe-975b-11eb-8c2a-000d3a38a36f</td>\n      <td>2.86</td>\n      <td>7.86</td>\n      <td>4.00</td>\n      <td>1401.80</td>\n      <td>2.19</td>\n      <td>1.09</td>\n      <td>1449.06</td>\n      <td>3327.78</td>\n    </tr>\n    <tr>\n      <th>13880</th>\n      <td>7137a5c0-7aad-11ea-8f20-000d3a38a36f</td>\n      <td>6.14</td>\n      <td>13.14</td>\n      <td>11.00</td>\n      <td>758.09</td>\n      <td>3.94</td>\n      <td>1.97</td>\n      <td>767.36</td>\n      <td>3172.39</td>\n    </tr>\n    <tr>\n      <th>17323</th>\n      <td>f59053e2-a503-11e9-a2fc-000d3a38a36f</td>\n      <td>51.71</td>\n      <td>101.00</td>\n      <td>7.00</td>\n      <td>1106.47</td>\n      <td>1.44</td>\n      <td>0.72</td>\n      <td>1127.61</td>\n      <td>1708.98</td>\n    </tr>\n    <tr>\n      <th>12438</th>\n      <td>625f40a2-5bd2-11ea-98b0-000d3a38a36f</td>\n      <td>74.29</td>\n      <td>74.57</td>\n      <td>16.00</td>\n      <td>501.87</td>\n      <td>3.13</td>\n      <td>1.57</td>\n      <td>506.17</td>\n      <td>1662.61</td>\n    </tr>\n    <tr>\n      <th>7330</th>\n      <td>a4d534a2-5b1b-11eb-8dbd-000d3a38a36f</td>\n      <td>62.71</td>\n      <td>67.29</td>\n      <td>52.00</td>\n      <td>166.22</td>\n      <td>9.31</td>\n      <td>4.66</td>\n      <td>166.71</td>\n      <td>1628.89</td>\n    </tr>\n  </tbody>\n</table>\n</div>"
     },
     "execution_count": 23,
     "metadata": {},
     "output_type": "execute_result"
    }
   ],
   "source": [
    "# INDICATE CUSTOMERS HAVING TOP 5 CLTV VALUES.\n",
    "cltv_df.sort_values(\"cltv\",ascending=False)[:5]"
   ],
   "metadata": {
    "collapsed": false
   }
  },
  {
   "cell_type": "code",
   "execution_count": 24,
   "outputs": [
    {
     "data": {
      "text/plain": "                            customer_id  recency_cltv_weekly  T_weekly  \\\n0  cc294636-19f0-11eb-8d74-000d3a38a36f                17.00     30.57   \n1  f431bd5a-ab7b-11e9-a2fc-000d3a38a36f               209.86    224.86   \n2  69b69676-1a40-11ea-941b-000d3a38a36f                52.29     78.86   \n3  1854e56c-491f-11eb-806e-000d3a38a36f                 1.57     20.86   \n4  d6ea1074-f1f5-11e9-9346-000d3a38a36f                83.14     95.43   \n\n   frequency  monetary_cltv_avg  exp_sales_6_month  exp_sales_3_month  \\\n0       5.00             187.87               1.95               0.97   \n1      21.00              95.88               1.97               0.98   \n2       5.00             117.06               1.34               0.67   \n3       2.00              60.98               1.40               0.70   \n4       2.00             104.99               0.79               0.40   \n\n   exp_average_value   cltv cltv_segment  \n0             193.63 395.73            A  \n1              96.67 199.43            B  \n2             120.97 170.22            B  \n3              67.32  98.95            D  \n4             114.33  95.01            D  ",
      "text/html": "<div>\n<style scoped>\n    .dataframe tbody tr th:only-of-type {\n        vertical-align: middle;\n    }\n\n    .dataframe tbody tr th {\n        vertical-align: top;\n    }\n\n    .dataframe thead th {\n        text-align: right;\n    }\n</style>\n<table border=\"1\" class=\"dataframe\">\n  <thead>\n    <tr style=\"text-align: right;\">\n      <th></th>\n      <th>customer_id</th>\n      <th>recency_cltv_weekly</th>\n      <th>T_weekly</th>\n      <th>frequency</th>\n      <th>monetary_cltv_avg</th>\n      <th>exp_sales_6_month</th>\n      <th>exp_sales_3_month</th>\n      <th>exp_average_value</th>\n      <th>cltv</th>\n      <th>cltv_segment</th>\n    </tr>\n  </thead>\n  <tbody>\n    <tr>\n      <th>0</th>\n      <td>cc294636-19f0-11eb-8d74-000d3a38a36f</td>\n      <td>17.00</td>\n      <td>30.57</td>\n      <td>5.00</td>\n      <td>187.87</td>\n      <td>1.95</td>\n      <td>0.97</td>\n      <td>193.63</td>\n      <td>395.73</td>\n      <td>A</td>\n    </tr>\n    <tr>\n      <th>1</th>\n      <td>f431bd5a-ab7b-11e9-a2fc-000d3a38a36f</td>\n      <td>209.86</td>\n      <td>224.86</td>\n      <td>21.00</td>\n      <td>95.88</td>\n      <td>1.97</td>\n      <td>0.98</td>\n      <td>96.67</td>\n      <td>199.43</td>\n      <td>B</td>\n    </tr>\n    <tr>\n      <th>2</th>\n      <td>69b69676-1a40-11ea-941b-000d3a38a36f</td>\n      <td>52.29</td>\n      <td>78.86</td>\n      <td>5.00</td>\n      <td>117.06</td>\n      <td>1.34</td>\n      <td>0.67</td>\n      <td>120.97</td>\n      <td>170.22</td>\n      <td>B</td>\n    </tr>\n    <tr>\n      <th>3</th>\n      <td>1854e56c-491f-11eb-806e-000d3a38a36f</td>\n      <td>1.57</td>\n      <td>20.86</td>\n      <td>2.00</td>\n      <td>60.98</td>\n      <td>1.40</td>\n      <td>0.70</td>\n      <td>67.32</td>\n      <td>98.95</td>\n      <td>D</td>\n    </tr>\n    <tr>\n      <th>4</th>\n      <td>d6ea1074-f1f5-11e9-9346-000d3a38a36f</td>\n      <td>83.14</td>\n      <td>95.43</td>\n      <td>2.00</td>\n      <td>104.99</td>\n      <td>0.79</td>\n      <td>0.40</td>\n      <td>114.33</td>\n      <td>95.01</td>\n      <td>D</td>\n    </tr>\n  </tbody>\n</table>\n</div>"
     },
     "execution_count": 24,
     "metadata": {},
     "output_type": "execute_result"
    }
   ],
   "source": [
    "###############################################################\n",
    "# TASK3 :SEGMENTATION ACCORDING TO CLTV\n",
    "###############################################################\n",
    "\n",
    "#  CREATE 4 LEVELS OF SEGMENTS FROM A TO D\n",
    "cltv_df[\"cltv_segment\"] = pd.qcut(cltv_df[\"cltv\"], 4, labels=[\"D\", \"C\", \"B\", \"A\"])\n",
    "cltv_df.head()"
   ],
   "metadata": {
    "collapsed": false
   }
  },
  {
   "cell_type": "code",
   "execution_count": null,
   "outputs": [],
   "source": [
    "# ANALYZE CLTV_DF GROUPED BY CLTV_SEGMENTS"
   ],
   "metadata": {
    "collapsed": false
   }
  },
  {
   "cell_type": "markdown",
   "source": [],
   "metadata": {
    "collapsed": false
   }
  },
  {
   "cell_type": "code",
   "execution_count": 25,
   "outputs": [],
   "source": [
    "coll2 = [col for col in cltv_df.columns if col != \"customer_id\"]"
   ],
   "metadata": {
    "collapsed": false
   }
  },
  {
   "cell_type": "code",
   "execution_count": 28,
   "outputs": [
    {
     "data": {
      "text/plain": "['recency_cltv_weekly',\n 'T_weekly',\n 'frequency',\n 'monetary_cltv_avg',\n 'exp_sales_6_month',\n 'exp_sales_3_month',\n 'exp_average_value',\n 'cltv',\n 'cltv_segment']"
     },
     "execution_count": 28,
     "metadata": {},
     "output_type": "execute_result"
    }
   ],
   "source": [
    "coll2"
   ],
   "metadata": {
    "collapsed": false
   }
  },
  {
   "cell_type": "code",
   "execution_count": 29,
   "outputs": [
    {
     "data": {
      "text/plain": "             recency_cltv_weekly               T_weekly                \\\n                           count   mean median    count   mean median   \ncltv_segment                                                            \nD                           4987 139.00 100.57     4987 162.18 118.14   \nC                           4986  92.63  77.86     4986 112.82  95.43   \nB                           4986  81.99  72.57     4986 100.33  89.50   \nA                           4986  67.43  62.43     4986  82.55  79.14   \n\n             frequency             monetary_cltv_avg                \\\n                 count mean median             count   mean median   \ncltv_segment                                                         \nD                 4987 3.77   3.00              4987  93.15  89.50   \nC                 4986 4.40   4.00              4986 125.79 121.99   \nB                 4986 5.09   4.00              4986 160.64 156.87   \nA                 4986 6.65   5.00              4986 228.83 209.96   \n\n             exp_sales_6_month             exp_sales_3_month              \\\n                         count mean median             count mean median   \ncltv_segment                                                               \nD                         4987 0.82   0.82              4987 0.41   0.41   \nC                         4986 1.05   1.02              4986 0.53   0.51   \nB                         4986 1.20   1.15              4986 0.60   0.58   \nA                         4986 1.55   1.42              4986 0.77   0.71   \n\n             exp_average_value                cltv                \n                         count   mean median count   mean median  \ncltv_segment                                                      \nD                         4987  98.69  94.56  4987  80.34  83.72  \nC                         4986 132.25 128.41  4986 138.31 138.03  \nB                         4986 168.00 163.28  4986 199.53 198.10  \nA                         4986 238.02 218.27  4986 362.32 312.93  ",
      "text/html": "<div>\n<style scoped>\n    .dataframe tbody tr th:only-of-type {\n        vertical-align: middle;\n    }\n\n    .dataframe tbody tr th {\n        vertical-align: top;\n    }\n\n    .dataframe thead tr th {\n        text-align: left;\n    }\n\n    .dataframe thead tr:last-of-type th {\n        text-align: right;\n    }\n</style>\n<table border=\"1\" class=\"dataframe\">\n  <thead>\n    <tr>\n      <th></th>\n      <th colspan=\"3\" halign=\"left\">recency_cltv_weekly</th>\n      <th colspan=\"3\" halign=\"left\">T_weekly</th>\n      <th colspan=\"3\" halign=\"left\">frequency</th>\n      <th colspan=\"3\" halign=\"left\">monetary_cltv_avg</th>\n      <th colspan=\"3\" halign=\"left\">exp_sales_6_month</th>\n      <th colspan=\"3\" halign=\"left\">exp_sales_3_month</th>\n      <th colspan=\"3\" halign=\"left\">exp_average_value</th>\n      <th colspan=\"3\" halign=\"left\">cltv</th>\n    </tr>\n    <tr>\n      <th></th>\n      <th>count</th>\n      <th>mean</th>\n      <th>median</th>\n      <th>count</th>\n      <th>mean</th>\n      <th>median</th>\n      <th>count</th>\n      <th>mean</th>\n      <th>median</th>\n      <th>count</th>\n      <th>mean</th>\n      <th>median</th>\n      <th>count</th>\n      <th>mean</th>\n      <th>median</th>\n      <th>count</th>\n      <th>mean</th>\n      <th>median</th>\n      <th>count</th>\n      <th>mean</th>\n      <th>median</th>\n      <th>count</th>\n      <th>mean</th>\n      <th>median</th>\n    </tr>\n    <tr>\n      <th>cltv_segment</th>\n      <th></th>\n      <th></th>\n      <th></th>\n      <th></th>\n      <th></th>\n      <th></th>\n      <th></th>\n      <th></th>\n      <th></th>\n      <th></th>\n      <th></th>\n      <th></th>\n      <th></th>\n      <th></th>\n      <th></th>\n      <th></th>\n      <th></th>\n      <th></th>\n      <th></th>\n      <th></th>\n      <th></th>\n      <th></th>\n      <th></th>\n      <th></th>\n    </tr>\n  </thead>\n  <tbody>\n    <tr>\n      <th>D</th>\n      <td>4987</td>\n      <td>139.00</td>\n      <td>100.57</td>\n      <td>4987</td>\n      <td>162.18</td>\n      <td>118.14</td>\n      <td>4987</td>\n      <td>3.77</td>\n      <td>3.00</td>\n      <td>4987</td>\n      <td>93.15</td>\n      <td>89.50</td>\n      <td>4987</td>\n      <td>0.82</td>\n      <td>0.82</td>\n      <td>4987</td>\n      <td>0.41</td>\n      <td>0.41</td>\n      <td>4987</td>\n      <td>98.69</td>\n      <td>94.56</td>\n      <td>4987</td>\n      <td>80.34</td>\n      <td>83.72</td>\n    </tr>\n    <tr>\n      <th>C</th>\n      <td>4986</td>\n      <td>92.63</td>\n      <td>77.86</td>\n      <td>4986</td>\n      <td>112.82</td>\n      <td>95.43</td>\n      <td>4986</td>\n      <td>4.40</td>\n      <td>4.00</td>\n      <td>4986</td>\n      <td>125.79</td>\n      <td>121.99</td>\n      <td>4986</td>\n      <td>1.05</td>\n      <td>1.02</td>\n      <td>4986</td>\n      <td>0.53</td>\n      <td>0.51</td>\n      <td>4986</td>\n      <td>132.25</td>\n      <td>128.41</td>\n      <td>4986</td>\n      <td>138.31</td>\n      <td>138.03</td>\n    </tr>\n    <tr>\n      <th>B</th>\n      <td>4986</td>\n      <td>81.99</td>\n      <td>72.57</td>\n      <td>4986</td>\n      <td>100.33</td>\n      <td>89.50</td>\n      <td>4986</td>\n      <td>5.09</td>\n      <td>4.00</td>\n      <td>4986</td>\n      <td>160.64</td>\n      <td>156.87</td>\n      <td>4986</td>\n      <td>1.20</td>\n      <td>1.15</td>\n      <td>4986</td>\n      <td>0.60</td>\n      <td>0.58</td>\n      <td>4986</td>\n      <td>168.00</td>\n      <td>163.28</td>\n      <td>4986</td>\n      <td>199.53</td>\n      <td>198.10</td>\n    </tr>\n    <tr>\n      <th>A</th>\n      <td>4986</td>\n      <td>67.43</td>\n      <td>62.43</td>\n      <td>4986</td>\n      <td>82.55</td>\n      <td>79.14</td>\n      <td>4986</td>\n      <td>6.65</td>\n      <td>5.00</td>\n      <td>4986</td>\n      <td>228.83</td>\n      <td>209.96</td>\n      <td>4986</td>\n      <td>1.55</td>\n      <td>1.42</td>\n      <td>4986</td>\n      <td>0.77</td>\n      <td>0.71</td>\n      <td>4986</td>\n      <td>238.02</td>\n      <td>218.27</td>\n      <td>4986</td>\n      <td>362.32</td>\n      <td>312.93</td>\n    </tr>\n  </tbody>\n</table>\n</div>"
     },
     "execution_count": 29,
     "metadata": {},
     "output_type": "execute_result"
    }
   ],
   "source": [
    "cltv_df.groupby(\"cltv_segment\")[coll2].agg([\"count\",\"mean\",\"median\"])"
   ],
   "metadata": {
    "collapsed": false
   }
  },
  {
   "cell_type": "code",
   "execution_count": 30,
   "outputs": [
    {
     "name": "stderr",
     "output_type": "stream",
     "text": [
      "C:\\Users\\HuseyinBurakBolat\\Anaconda3\\Lib\\site-packages\\pandas\\core\\arraylike.py:364: RuntimeWarning: invalid value encountered in sqrt\n",
      "  result = getattr(ufunc, method)(*inputs, **kwargs)\n"
     ]
    },
    {
     "data": {
      "text/plain": "                            customer_id  recency_cltv_weekly  T_weekly  \\\n0  cc294636-19f0-11eb-8d74-000d3a38a36f                17.00     30.57   \n1  f431bd5a-ab7b-11e9-a2fc-000d3a38a36f               209.86    224.86   \n2  69b69676-1a40-11ea-941b-000d3a38a36f                52.29     78.86   \n3  1854e56c-491f-11eb-806e-000d3a38a36f                 1.57     20.86   \n4  d6ea1074-f1f5-11e9-9346-000d3a38a36f                83.14     95.43   \n\n   frequency  monetary_cltv_avg  exp_sales_3_month  exp_sales_6_month  \\\n0       5.00             187.87               0.97               1.95   \n1      21.00              95.88               0.98               1.97   \n2       5.00             117.06               0.67               1.34   \n3       2.00              60.98               0.70               1.40   \n4       2.00             104.99               0.40               0.79   \n\n   exp_average_value   cltv cltv_segment  \n0             193.63 395.73            A  \n1              96.67 199.43            B  \n2             120.97 170.22            B  \n3              67.32  98.95            D  \n4             114.33  95.01            D  ",
      "text/html": "<div>\n<style scoped>\n    .dataframe tbody tr th:only-of-type {\n        vertical-align: middle;\n    }\n\n    .dataframe tbody tr th {\n        vertical-align: top;\n    }\n\n    .dataframe thead th {\n        text-align: right;\n    }\n</style>\n<table border=\"1\" class=\"dataframe\">\n  <thead>\n    <tr style=\"text-align: right;\">\n      <th></th>\n      <th>customer_id</th>\n      <th>recency_cltv_weekly</th>\n      <th>T_weekly</th>\n      <th>frequency</th>\n      <th>monetary_cltv_avg</th>\n      <th>exp_sales_3_month</th>\n      <th>exp_sales_6_month</th>\n      <th>exp_average_value</th>\n      <th>cltv</th>\n      <th>cltv_segment</th>\n    </tr>\n  </thead>\n  <tbody>\n    <tr>\n      <th>0</th>\n      <td>cc294636-19f0-11eb-8d74-000d3a38a36f</td>\n      <td>17.00</td>\n      <td>30.57</td>\n      <td>5.00</td>\n      <td>187.87</td>\n      <td>0.97</td>\n      <td>1.95</td>\n      <td>193.63</td>\n      <td>395.73</td>\n      <td>A</td>\n    </tr>\n    <tr>\n      <th>1</th>\n      <td>f431bd5a-ab7b-11e9-a2fc-000d3a38a36f</td>\n      <td>209.86</td>\n      <td>224.86</td>\n      <td>21.00</td>\n      <td>95.88</td>\n      <td>0.98</td>\n      <td>1.97</td>\n      <td>96.67</td>\n      <td>199.43</td>\n      <td>B</td>\n    </tr>\n    <tr>\n      <th>2</th>\n      <td>69b69676-1a40-11ea-941b-000d3a38a36f</td>\n      <td>52.29</td>\n      <td>78.86</td>\n      <td>5.00</td>\n      <td>117.06</td>\n      <td>0.67</td>\n      <td>1.34</td>\n      <td>120.97</td>\n      <td>170.22</td>\n      <td>B</td>\n    </tr>\n    <tr>\n      <th>3</th>\n      <td>1854e56c-491f-11eb-806e-000d3a38a36f</td>\n      <td>1.57</td>\n      <td>20.86</td>\n      <td>2.00</td>\n      <td>60.98</td>\n      <td>0.70</td>\n      <td>1.40</td>\n      <td>67.32</td>\n      <td>98.95</td>\n      <td>D</td>\n    </tr>\n    <tr>\n      <th>4</th>\n      <td>d6ea1074-f1f5-11e9-9346-000d3a38a36f</td>\n      <td>83.14</td>\n      <td>95.43</td>\n      <td>2.00</td>\n      <td>104.99</td>\n      <td>0.40</td>\n      <td>0.79</td>\n      <td>114.33</td>\n      <td>95.01</td>\n      <td>D</td>\n    </tr>\n  </tbody>\n</table>\n</div>"
     },
     "execution_count": 30,
     "metadata": {},
     "output_type": "execute_result"
    }
   ],
   "source": [
    "#  FUNCTIONING THE ALL CLTV STEPS\n",
    "def create_cltv_df(dataframe):\n",
    "\n",
    "    # Veriyi Hazırlama\n",
    "    columns = [\"order_num_total_ever_online\", \"order_num_total_ever_offline\", \"customer_value_total_ever_offline\",\"customer_value_total_ever_online\"]\n",
    "    for col in columns:\n",
    "        replace_with_thresholds(dataframe, col)\n",
    "\n",
    "    dataframe[\"order_num_total\"] = dataframe[\"order_num_total_ever_online\"] + dataframe[\"order_num_total_ever_offline\"]\n",
    "    dataframe[\"customer_value_total\"] = dataframe[\"customer_value_total_ever_offline\"] + dataframe[\"customer_value_total_ever_online\"]\n",
    "    dataframe = dataframe[~(dataframe[\"customer_value_total\"] == 0) | (dataframe[\"order_num_total\"] == 0)]\n",
    "    date_columns = dataframe.columns[dataframe.columns.str.contains(\"date\")]\n",
    "    dataframe[date_columns] = dataframe[date_columns].apply(pd.to_datetime)\n",
    "\n",
    "    # CLTV veri yapısının oluşturulması\n",
    "    dataframe[\"last_order_date\"].max()  # 2021-05-30\n",
    "    analysis_date = dt.datetime(2021, 6, 1)\n",
    "    cltv_df = pd.DataFrame()\n",
    "    cltv_df[\"customer_id\"] = dataframe[\"master_id\"]\n",
    "    cltv_df[\"recency_cltv_weekly\"] = ((dataframe[\"last_order_date\"] - dataframe[\"first_order_date\"]).astype('timedelta64[D]')) / 7\n",
    "    cltv_df[\"T_weekly\"] = ((analysis_date - dataframe[\"first_order_date\"]).astype('timedelta64[D]')) / 7\n",
    "    cltv_df[\"frequency\"] = dataframe[\"order_num_total\"]\n",
    "    cltv_df[\"monetary_cltv_avg\"] = dataframe[\"customer_value_total\"] / dataframe[\"order_num_total\"]\n",
    "    cltv_df = cltv_df[(cltv_df['frequency'] > 1)]\n",
    "\n",
    "    # BG-NBD Modelinin Kurulması\n",
    "    bgf = BetaGeoFitter(penalizer_coef=0.001)\n",
    "    bgf.fit(cltv_df['frequency'],\n",
    "            cltv_df['recency_cltv_weekly'],\n",
    "            cltv_df['T_weekly'])\n",
    "    cltv_df[\"exp_sales_3_month\"] = bgf.predict(4 * 3,\n",
    "                                               cltv_df['frequency'],\n",
    "                                               cltv_df['recency_cltv_weekly'],\n",
    "                                               cltv_df['T_weekly'])\n",
    "    cltv_df[\"exp_sales_6_month\"] = bgf.predict(4 * 6,\n",
    "                                               cltv_df['frequency'],\n",
    "                                               cltv_df['recency_cltv_weekly'],\n",
    "                                               cltv_df['T_weekly'])\n",
    "\n",
    "    # # Gamma-Gamma Modelinin Kurulması\n",
    "    ggf = GammaGammaFitter(penalizer_coef=0.01)\n",
    "    ggf.fit(cltv_df['frequency'], cltv_df['monetary_cltv_avg'])\n",
    "    cltv_df[\"exp_average_value\"] = ggf.conditional_expected_average_profit(cltv_df['frequency'],\n",
    "                                                                           cltv_df['monetary_cltv_avg'])\n",
    "\n",
    "    # Cltv tahmini\n",
    "    cltv = ggf.customer_lifetime_value(bgf,\n",
    "                                       cltv_df['frequency'],\n",
    "                                       cltv_df['recency_cltv_weekly'],\n",
    "                                       cltv_df['T_weekly'],\n",
    "                                       cltv_df['monetary_cltv_avg'],\n",
    "                                       time=6,\n",
    "                                       freq=\"W\",\n",
    "                                       discount_rate=0.01)\n",
    "    cltv_df[\"cltv\"] = cltv\n",
    "\n",
    "    # CLTV segmentleme\n",
    "    cltv_df[\"cltv_segment\"] = pd.qcut(cltv_df[\"cltv\"], 4, labels=[\"D\", \"C\", \"B\", \"A\"])\n",
    "\n",
    "    return cltv_df\n",
    "\n",
    "cltv_df = create_cltv_df(df)\n",
    "cltv_df.head()"
   ],
   "metadata": {
    "collapsed": false
   }
  },
  {
   "cell_type": "code",
   "execution_count": null,
   "outputs": [],
   "source": [],
   "metadata": {
    "collapsed": false
   }
  }
 ],
 "metadata": {
  "kernelspec": {
   "display_name": "Python 3",
   "language": "python",
   "name": "python3"
  },
  "language_info": {
   "codemirror_mode": {
    "name": "ipython",
    "version": 2
   },
   "file_extension": ".py",
   "mimetype": "text/x-python",
   "name": "python",
   "nbconvert_exporter": "python",
   "pygments_lexer": "ipython2",
   "version": "2.7.6"
  }
 },
 "nbformat": 4,
 "nbformat_minor": 0
}
