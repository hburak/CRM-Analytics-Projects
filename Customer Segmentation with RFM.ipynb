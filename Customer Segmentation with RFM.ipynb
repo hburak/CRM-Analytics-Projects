{
 "cells": [
  {
   "cell_type": "code",
   "execution_count": null,
   "outputs": [],
   "source": [
    "###############################################################\n",
    "Customer Segmentation with RFM\n",
    "###############################################################\n",
    "\n",
    "###############################################################\n",
    "# Business Problem\n",
    "###############################################################\n",
    "# FLO is a shoe retail chain aiming to develop Customer Segmentation in order to create appropriate marketing strategies.\n",
    "# This project is to create Customer Segments based on a RFM Analysis"
   ],
   "metadata": {
    "collapsed": false
   }
  },
  {
   "cell_type": "code",
   "execution_count": null,
   "outputs": [],
   "source": [
    "###############################################################\n",
    "# Dataset\n",
    "###############################################################\n",
    "\n",
    "# This dataset consist of customer purchase history data from 2020-2021\n",
    "# master_id: Unique customer id\n",
    "# order_channel : Purchase channel (Android, ios, Desktop, Mobile, Offline)\n",
    "# last_order_channel :\n",
    "# first_order_date :\n",
    "# last_order_date :\n",
    "# last_order_date_online : Total number of customer's online shoppings\n",
    "# last_order_date_offline : Total number of customer's offline shoppings\n",
    "# order_num_total_ever_online : Total nr. of customer's all online shoppings\n",
    "# order_num_total_ever_offline :Total nr. of customer's all online shoppings\n",
    "# customer_value_total_ever_offline : Total price of customer's offline shopping\n",
    "# customer_value_total_ever_online : Total price of customer's online shopping\n",
    "# interested_in_categories_12 : List of categories which customer purchased in last 12 months"
   ],
   "metadata": {
    "collapsed": false
   }
  },
  {
   "cell_type": "code",
   "execution_count": 1,
   "outputs": [
    {
     "data": {
      "text/plain": "                              master_id order_channel last_order_channel first_order_date last_order_date last_order_date_online last_order_date_offline  order_num_total_ever_online  order_num_total_ever_offline  customer_value_total_ever_offline  customer_value_total_ever_online       interested_in_categories_12\n0  cc294636-19f0-11eb-8d74-000d3a38a36f   Android App            Offline       2020-10-30      2021-02-26             2021-02-21              2021-02-26                         4.00                          1.00                             139.99                            799.38                           [KADIN]\n1  f431bd5a-ab7b-11e9-a2fc-000d3a38a36f   Android App             Mobile       2017-02-08      2021-02-16             2021-02-16              2020-01-10                        19.00                          2.00                             159.97                           1853.58  [ERKEK, COCUK, KADIN, AKTIFSPOR]\n2  69b69676-1a40-11ea-941b-000d3a38a36f   Android App        Android App       2019-11-27      2020-11-27             2020-11-27              2019-12-01                         3.00                          2.00                             189.97                            395.35                    [ERKEK, KADIN]\n3  1854e56c-491f-11eb-806e-000d3a38a36f   Android App        Android App       2021-01-06      2021-01-17             2021-01-17              2021-01-06                         1.00                          1.00                              39.99                             81.98               [AKTIFCOCUK, COCUK]\n4  d6ea1074-f1f5-11e9-9346-000d3a38a36f       Desktop            Desktop       2019-08-03      2021-03-07             2021-03-07              2019-08-03                         1.00                          1.00                              49.99                            159.99                       [AKTIFSPOR]",
      "text/html": "<div>\n<style scoped>\n    .dataframe tbody tr th:only-of-type {\n        vertical-align: middle;\n    }\n\n    .dataframe tbody tr th {\n        vertical-align: top;\n    }\n\n    .dataframe thead th {\n        text-align: right;\n    }\n</style>\n<table border=\"1\" class=\"dataframe\">\n  <thead>\n    <tr style=\"text-align: right;\">\n      <th></th>\n      <th>master_id</th>\n      <th>order_channel</th>\n      <th>last_order_channel</th>\n      <th>first_order_date</th>\n      <th>last_order_date</th>\n      <th>last_order_date_online</th>\n      <th>last_order_date_offline</th>\n      <th>order_num_total_ever_online</th>\n      <th>order_num_total_ever_offline</th>\n      <th>customer_value_total_ever_offline</th>\n      <th>customer_value_total_ever_online</th>\n      <th>interested_in_categories_12</th>\n    </tr>\n  </thead>\n  <tbody>\n    <tr>\n      <th>0</th>\n      <td>cc294636-19f0-11eb-8d74-000d3a38a36f</td>\n      <td>Android App</td>\n      <td>Offline</td>\n      <td>2020-10-30</td>\n      <td>2021-02-26</td>\n      <td>2021-02-21</td>\n      <td>2021-02-26</td>\n      <td>4.00</td>\n      <td>1.00</td>\n      <td>139.99</td>\n      <td>799.38</td>\n      <td>[KADIN]</td>\n    </tr>\n    <tr>\n      <th>1</th>\n      <td>f431bd5a-ab7b-11e9-a2fc-000d3a38a36f</td>\n      <td>Android App</td>\n      <td>Mobile</td>\n      <td>2017-02-08</td>\n      <td>2021-02-16</td>\n      <td>2021-02-16</td>\n      <td>2020-01-10</td>\n      <td>19.00</td>\n      <td>2.00</td>\n      <td>159.97</td>\n      <td>1853.58</td>\n      <td>[ERKEK, COCUK, KADIN, AKTIFSPOR]</td>\n    </tr>\n    <tr>\n      <th>2</th>\n      <td>69b69676-1a40-11ea-941b-000d3a38a36f</td>\n      <td>Android App</td>\n      <td>Android App</td>\n      <td>2019-11-27</td>\n      <td>2020-11-27</td>\n      <td>2020-11-27</td>\n      <td>2019-12-01</td>\n      <td>3.00</td>\n      <td>2.00</td>\n      <td>189.97</td>\n      <td>395.35</td>\n      <td>[ERKEK, KADIN]</td>\n    </tr>\n    <tr>\n      <th>3</th>\n      <td>1854e56c-491f-11eb-806e-000d3a38a36f</td>\n      <td>Android App</td>\n      <td>Android App</td>\n      <td>2021-01-06</td>\n      <td>2021-01-17</td>\n      <td>2021-01-17</td>\n      <td>2021-01-06</td>\n      <td>1.00</td>\n      <td>1.00</td>\n      <td>39.99</td>\n      <td>81.98</td>\n      <td>[AKTIFCOCUK, COCUK]</td>\n    </tr>\n    <tr>\n      <th>4</th>\n      <td>d6ea1074-f1f5-11e9-9346-000d3a38a36f</td>\n      <td>Desktop</td>\n      <td>Desktop</td>\n      <td>2019-08-03</td>\n      <td>2021-03-07</td>\n      <td>2021-03-07</td>\n      <td>2019-08-03</td>\n      <td>1.00</td>\n      <td>1.00</td>\n      <td>49.99</td>\n      <td>159.99</td>\n      <td>[AKTIFSPOR]</td>\n    </tr>\n  </tbody>\n</table>\n</div>"
     },
     "execution_count": 1,
     "metadata": {},
     "output_type": "execute_result"
    }
   ],
   "source": [
    "###############################################################\n",
    "# TASK 1: DATA PREPROCESSING\n",
    "###############################################################\n",
    "import pandas as pd\n",
    "import datetime as dt\n",
    "pd.set_option('display.max_columns', 15)\n",
    "pd.set_option('display.max_rows', None)\n",
    "pd.set_option('display.float_format', lambda x: '%.2f' % x)\n",
    "pd.set_option('display.width',1000)\n",
    "\n",
    "df_ = pd.read_csv(\"flo_data_20K.csv\")\n",
    "df = df_.copy()\n",
    "df.head()"
   ],
   "metadata": {
    "collapsed": false
   }
  },
  {
   "cell_type": "code",
   "execution_count": 2,
   "outputs": [
    {
     "name": "stdout",
     "output_type": "stream",
     "text": [
      "<class 'pandas.core.frame.DataFrame'>\n",
      "RangeIndex: 19945 entries, 0 to 19944\n",
      "Data columns (total 12 columns):\n",
      " #   Column                             Non-Null Count  Dtype  \n",
      "---  ------                             --------------  -----  \n",
      " 0   master_id                          19945 non-null  object \n",
      " 1   order_channel                      19945 non-null  object \n",
      " 2   last_order_channel                 19945 non-null  object \n",
      " 3   first_order_date                   19945 non-null  object \n",
      " 4   last_order_date                    19945 non-null  object \n",
      " 5   last_order_date_online             19945 non-null  object \n",
      " 6   last_order_date_offline            19945 non-null  object \n",
      " 7   order_num_total_ever_online        19945 non-null  float64\n",
      " 8   order_num_total_ever_offline       19945 non-null  float64\n",
      " 9   customer_value_total_ever_offline  19945 non-null  float64\n",
      " 10  customer_value_total_ever_online   19945 non-null  float64\n",
      " 11  interested_in_categories_12        19945 non-null  object \n",
      "dtypes: float64(4), object(8)\n",
      "memory usage: 1.8+ MB\n"
     ]
    },
    {
     "data": {
      "text/plain": "                                     count   mean    std   min    25%    50%    75%      max\norder_num_total_ever_online       19945.00   3.11   4.23  1.00   1.00   2.00   4.00   200.00\norder_num_total_ever_offline      19945.00   1.91   2.06  1.00   1.00   1.00   2.00   109.00\ncustomer_value_total_ever_offline 19945.00 253.92 301.53 10.00  99.99 179.98 319.97 18119.14\ncustomer_value_total_ever_online  19945.00 497.32 832.60 12.99 149.98 286.46 578.44 45220.13",
      "text/html": "<div>\n<style scoped>\n    .dataframe tbody tr th:only-of-type {\n        vertical-align: middle;\n    }\n\n    .dataframe tbody tr th {\n        vertical-align: top;\n    }\n\n    .dataframe thead th {\n        text-align: right;\n    }\n</style>\n<table border=\"1\" class=\"dataframe\">\n  <thead>\n    <tr style=\"text-align: right;\">\n      <th></th>\n      <th>count</th>\n      <th>mean</th>\n      <th>std</th>\n      <th>min</th>\n      <th>25%</th>\n      <th>50%</th>\n      <th>75%</th>\n      <th>max</th>\n    </tr>\n  </thead>\n  <tbody>\n    <tr>\n      <th>order_num_total_ever_online</th>\n      <td>19945.00</td>\n      <td>3.11</td>\n      <td>4.23</td>\n      <td>1.00</td>\n      <td>1.00</td>\n      <td>2.00</td>\n      <td>4.00</td>\n      <td>200.00</td>\n    </tr>\n    <tr>\n      <th>order_num_total_ever_offline</th>\n      <td>19945.00</td>\n      <td>1.91</td>\n      <td>2.06</td>\n      <td>1.00</td>\n      <td>1.00</td>\n      <td>1.00</td>\n      <td>2.00</td>\n      <td>109.00</td>\n    </tr>\n    <tr>\n      <th>customer_value_total_ever_offline</th>\n      <td>19945.00</td>\n      <td>253.92</td>\n      <td>301.53</td>\n      <td>10.00</td>\n      <td>99.99</td>\n      <td>179.98</td>\n      <td>319.97</td>\n      <td>18119.14</td>\n    </tr>\n    <tr>\n      <th>customer_value_total_ever_online</th>\n      <td>19945.00</td>\n      <td>497.32</td>\n      <td>832.60</td>\n      <td>12.99</td>\n      <td>149.98</td>\n      <td>286.46</td>\n      <td>578.44</td>\n      <td>45220.13</td>\n    </tr>\n  </tbody>\n</table>\n</div>"
     },
     "execution_count": 2,
     "metadata": {},
     "output_type": "execute_result"
    }
   ],
   "source": [
    "df.head(10)\n",
    "df.columns\n",
    "df.shape\n",
    "df.isnull().sum()\n",
    "df.info()\n",
    "df.describe().T\n"
   ],
   "metadata": {
    "collapsed": false
   }
  },
  {
   "cell_type": "code",
   "execution_count": 3,
   "outputs": [],
   "source": [
    "# Here we gather the sum of both customer shopping from both online and offline shopping and save them as new variables.\n",
    "df[\"order_num_total\"] = df[\"order_num_total_ever_online\"] + df[\"order_num_total_ever_offline\"]\n",
    "df[\"customer_value_total\"] = df[\"customer_value_total_ever_offline\"] + df[\"customer_value_total_ever_online\"]"
   ],
   "metadata": {
    "collapsed": false
   }
  },
  {
   "cell_type": "code",
   "execution_count": 4,
   "outputs": [
    {
     "name": "stdout",
     "output_type": "stream",
     "text": [
      "<class 'pandas.core.frame.DataFrame'>\n",
      "RangeIndex: 19945 entries, 0 to 19944\n",
      "Data columns (total 14 columns):\n",
      " #   Column                             Non-Null Count  Dtype         \n",
      "---  ------                             --------------  -----         \n",
      " 0   master_id                          19945 non-null  object        \n",
      " 1   order_channel                      19945 non-null  object        \n",
      " 2   last_order_channel                 19945 non-null  object        \n",
      " 3   first_order_date                   19945 non-null  datetime64[ns]\n",
      " 4   last_order_date                    19945 non-null  datetime64[ns]\n",
      " 5   last_order_date_online             19945 non-null  datetime64[ns]\n",
      " 6   last_order_date_offline            19945 non-null  datetime64[ns]\n",
      " 7   order_num_total_ever_online        19945 non-null  float64       \n",
      " 8   order_num_total_ever_offline       19945 non-null  float64       \n",
      " 9   customer_value_total_ever_offline  19945 non-null  float64       \n",
      " 10  customer_value_total_ever_online   19945 non-null  float64       \n",
      " 11  interested_in_categories_12        19945 non-null  object        \n",
      " 12  order_num_total                    19945 non-null  float64       \n",
      " 13  customer_value_total               19945 non-null  float64       \n",
      "dtypes: datetime64[ns](4), float64(6), object(4)\n",
      "memory usage: 2.1+ MB\n"
     ]
    }
   ],
   "source": [
    "# Here we need to convert some objectS data types to datetime\n",
    "date_columns = df.columns[df.columns.str.contains(\"date\")]\n",
    "df[date_columns] = df[date_columns].apply(pd.to_datetime)\n",
    "df.info()"
   ],
   "metadata": {
    "collapsed": false
   }
  },
  {
   "cell_type": "code",
   "execution_count": 5,
   "outputs": [
    {
     "data": {
      "text/plain": "               master_id  order_num_total  customer_value_total\norder_channel                                                  \nAndroid App         9495         52269.00            7819062.76\nDesktop             2735         10920.00            1610321.46\nIos App             2833         15351.00            2525999.93\nMobile              4882         21679.00            3028183.16",
      "text/html": "<div>\n<style scoped>\n    .dataframe tbody tr th:only-of-type {\n        vertical-align: middle;\n    }\n\n    .dataframe tbody tr th {\n        vertical-align: top;\n    }\n\n    .dataframe thead th {\n        text-align: right;\n    }\n</style>\n<table border=\"1\" class=\"dataframe\">\n  <thead>\n    <tr style=\"text-align: right;\">\n      <th></th>\n      <th>master_id</th>\n      <th>order_num_total</th>\n      <th>customer_value_total</th>\n    </tr>\n    <tr>\n      <th>order_channel</th>\n      <th></th>\n      <th></th>\n      <th></th>\n    </tr>\n  </thead>\n  <tbody>\n    <tr>\n      <th>Android App</th>\n      <td>9495</td>\n      <td>52269.00</td>\n      <td>7819062.76</td>\n    </tr>\n    <tr>\n      <th>Desktop</th>\n      <td>2735</td>\n      <td>10920.00</td>\n      <td>1610321.46</td>\n    </tr>\n    <tr>\n      <th>Ios App</th>\n      <td>2833</td>\n      <td>15351.00</td>\n      <td>2525999.93</td>\n    </tr>\n    <tr>\n      <th>Mobile</th>\n      <td>4882</td>\n      <td>21679.00</td>\n      <td>3028183.16</td>\n    </tr>\n  </tbody>\n</table>\n</div>"
     },
     "execution_count": 5,
     "metadata": {},
     "output_type": "execute_result"
    }
   ],
   "source": [
    "# It is necessary to calculate id counts , order nr. sums and  value sums grouped by order channel to explore the data .\n",
    "df.groupby(\"order_channel\").agg({\"master_id\":\"count\",\n",
    "                                 \"order_num_total\":\"sum\",\n",
    "                                 \"customer_value_total\":\"sum\"})"
   ],
   "metadata": {
    "collapsed": false
   }
  },
  {
   "cell_type": "code",
   "execution_count": 6,
   "outputs": [
    {
     "data": {
      "text/plain": "                                  master_id order_channel last_order_channel first_order_date last_order_date last_order_date_online last_order_date_offline  order_num_total_ever_online  order_num_total_ever_offline  customer_value_total_ever_offline  customer_value_total_ever_online                   interested_in_categories_12  order_num_total  customer_value_total\n11150  5d1c466a-9cfd-11e9-9897-000d3a38a36f   Android App            Desktop       2013-10-11      2021-04-30             2021-04-30              2020-12-24                       200.00                          2.00                             684.97                          45220.13  [AKTIFCOCUK, ERKEK, COCUK, KADIN, AKTIFSPOR]           202.00              45905.10\n4315   d5ef8058-a5c6-11e9-a2fc-000d3a38a36f   Android App        Android App       2018-08-06      2021-02-23             2021-02-23              2020-07-06                        67.00                          1.00                             130.49                          36687.80         [AKTIFCOCUK, ERKEK, KADIN, AKTIFSPOR]            68.00              36818.29\n7613   73fd19aa-9e37-11e9-9897-000d3a38a36f       Ios App            Offline       2014-01-14      2021-05-18             2021-01-30              2021-05-18                        81.00                          1.00                            1263.76                          32654.34              [ERKEK, COCUK, KADIN, AKTIFSPOR]            82.00              33918.10\n13880  7137a5c0-7aad-11ea-8f20-000d3a38a36f       Ios App            Offline       2021-03-01      2021-04-13             2021-03-18              2021-04-13                        10.00                          1.00                             538.94                          30688.47                     [ERKEK, KADIN, AKTIFSPOR]            11.00              31227.41\n9055   47a642fe-975b-11eb-8c2a-000d3a38a36f   Android App            Offline       2021-04-07      2021-04-27             2021-04-07              2021-04-27                         1.00                          3.00                           18119.14                           2587.20                                   [AKTIFSPOR]             4.00              20706.34\n7330   a4d534a2-5b1b-11eb-8dbd-000d3a38a36f       Desktop            Desktop       2020-02-16      2021-04-30             2021-04-30              2020-12-18                        66.00                          4.00                             843.68                          17599.89                     [ERKEK, KADIN, AKTIFSPOR]            70.00              18443.57\n8068   d696c654-2633-11ea-8e1c-000d3a38a36f       Ios App            Ios App       2017-05-10      2021-04-13             2021-04-13              2019-08-15                        69.00                          1.00                              82.48                          16836.09  [AKTIFCOCUK, ERKEK, COCUK, KADIN, AKTIFSPOR]            70.00              16918.57\n163    fef57ffa-aae6-11e9-a2fc-000d3a38a36f        Mobile            Desktop       2016-11-08      2021-05-12             2021-05-12              2020-07-09                        36.00                          1.00                             180.73                          12545.37                            [ERKEK, AKTIFSPOR]            37.00              12726.10\n7223   cba59206-9dd1-11e9-9897-000d3a38a36f   Android App        Android App       2013-02-21      2021-05-09             2021-05-09              2020-01-25                       130.00                          1.00                              49.99                          12232.25         [AKTIFCOCUK, ERKEK, KADIN, AKTIFSPOR]           131.00              12282.24\n18767  fc0ce7a4-9d87-11e9-9897-000d3a38a36f       Desktop            Desktop       2018-11-24      2020-11-11             2020-11-11              2019-12-06                        18.00                          2.00                              64.97                          12038.18                                [ERKEK, KADIN]            20.00              12103.15",
      "text/html": "<div>\n<style scoped>\n    .dataframe tbody tr th:only-of-type {\n        vertical-align: middle;\n    }\n\n    .dataframe tbody tr th {\n        vertical-align: top;\n    }\n\n    .dataframe thead th {\n        text-align: right;\n    }\n</style>\n<table border=\"1\" class=\"dataframe\">\n  <thead>\n    <tr style=\"text-align: right;\">\n      <th></th>\n      <th>master_id</th>\n      <th>order_channel</th>\n      <th>last_order_channel</th>\n      <th>first_order_date</th>\n      <th>last_order_date</th>\n      <th>last_order_date_online</th>\n      <th>last_order_date_offline</th>\n      <th>order_num_total_ever_online</th>\n      <th>order_num_total_ever_offline</th>\n      <th>customer_value_total_ever_offline</th>\n      <th>customer_value_total_ever_online</th>\n      <th>interested_in_categories_12</th>\n      <th>order_num_total</th>\n      <th>customer_value_total</th>\n    </tr>\n  </thead>\n  <tbody>\n    <tr>\n      <th>11150</th>\n      <td>5d1c466a-9cfd-11e9-9897-000d3a38a36f</td>\n      <td>Android App</td>\n      <td>Desktop</td>\n      <td>2013-10-11</td>\n      <td>2021-04-30</td>\n      <td>2021-04-30</td>\n      <td>2020-12-24</td>\n      <td>200.00</td>\n      <td>2.00</td>\n      <td>684.97</td>\n      <td>45220.13</td>\n      <td>[AKTIFCOCUK, ERKEK, COCUK, KADIN, AKTIFSPOR]</td>\n      <td>202.00</td>\n      <td>45905.10</td>\n    </tr>\n    <tr>\n      <th>4315</th>\n      <td>d5ef8058-a5c6-11e9-a2fc-000d3a38a36f</td>\n      <td>Android App</td>\n      <td>Android App</td>\n      <td>2018-08-06</td>\n      <td>2021-02-23</td>\n      <td>2021-02-23</td>\n      <td>2020-07-06</td>\n      <td>67.00</td>\n      <td>1.00</td>\n      <td>130.49</td>\n      <td>36687.80</td>\n      <td>[AKTIFCOCUK, ERKEK, KADIN, AKTIFSPOR]</td>\n      <td>68.00</td>\n      <td>36818.29</td>\n    </tr>\n    <tr>\n      <th>7613</th>\n      <td>73fd19aa-9e37-11e9-9897-000d3a38a36f</td>\n      <td>Ios App</td>\n      <td>Offline</td>\n      <td>2014-01-14</td>\n      <td>2021-05-18</td>\n      <td>2021-01-30</td>\n      <td>2021-05-18</td>\n      <td>81.00</td>\n      <td>1.00</td>\n      <td>1263.76</td>\n      <td>32654.34</td>\n      <td>[ERKEK, COCUK, KADIN, AKTIFSPOR]</td>\n      <td>82.00</td>\n      <td>33918.10</td>\n    </tr>\n    <tr>\n      <th>13880</th>\n      <td>7137a5c0-7aad-11ea-8f20-000d3a38a36f</td>\n      <td>Ios App</td>\n      <td>Offline</td>\n      <td>2021-03-01</td>\n      <td>2021-04-13</td>\n      <td>2021-03-18</td>\n      <td>2021-04-13</td>\n      <td>10.00</td>\n      <td>1.00</td>\n      <td>538.94</td>\n      <td>30688.47</td>\n      <td>[ERKEK, KADIN, AKTIFSPOR]</td>\n      <td>11.00</td>\n      <td>31227.41</td>\n    </tr>\n    <tr>\n      <th>9055</th>\n      <td>47a642fe-975b-11eb-8c2a-000d3a38a36f</td>\n      <td>Android App</td>\n      <td>Offline</td>\n      <td>2021-04-07</td>\n      <td>2021-04-27</td>\n      <td>2021-04-07</td>\n      <td>2021-04-27</td>\n      <td>1.00</td>\n      <td>3.00</td>\n      <td>18119.14</td>\n      <td>2587.20</td>\n      <td>[AKTIFSPOR]</td>\n      <td>4.00</td>\n      <td>20706.34</td>\n    </tr>\n    <tr>\n      <th>7330</th>\n      <td>a4d534a2-5b1b-11eb-8dbd-000d3a38a36f</td>\n      <td>Desktop</td>\n      <td>Desktop</td>\n      <td>2020-02-16</td>\n      <td>2021-04-30</td>\n      <td>2021-04-30</td>\n      <td>2020-12-18</td>\n      <td>66.00</td>\n      <td>4.00</td>\n      <td>843.68</td>\n      <td>17599.89</td>\n      <td>[ERKEK, KADIN, AKTIFSPOR]</td>\n      <td>70.00</td>\n      <td>18443.57</td>\n    </tr>\n    <tr>\n      <th>8068</th>\n      <td>d696c654-2633-11ea-8e1c-000d3a38a36f</td>\n      <td>Ios App</td>\n      <td>Ios App</td>\n      <td>2017-05-10</td>\n      <td>2021-04-13</td>\n      <td>2021-04-13</td>\n      <td>2019-08-15</td>\n      <td>69.00</td>\n      <td>1.00</td>\n      <td>82.48</td>\n      <td>16836.09</td>\n      <td>[AKTIFCOCUK, ERKEK, COCUK, KADIN, AKTIFSPOR]</td>\n      <td>70.00</td>\n      <td>16918.57</td>\n    </tr>\n    <tr>\n      <th>163</th>\n      <td>fef57ffa-aae6-11e9-a2fc-000d3a38a36f</td>\n      <td>Mobile</td>\n      <td>Desktop</td>\n      <td>2016-11-08</td>\n      <td>2021-05-12</td>\n      <td>2021-05-12</td>\n      <td>2020-07-09</td>\n      <td>36.00</td>\n      <td>1.00</td>\n      <td>180.73</td>\n      <td>12545.37</td>\n      <td>[ERKEK, AKTIFSPOR]</td>\n      <td>37.00</td>\n      <td>12726.10</td>\n    </tr>\n    <tr>\n      <th>7223</th>\n      <td>cba59206-9dd1-11e9-9897-000d3a38a36f</td>\n      <td>Android App</td>\n      <td>Android App</td>\n      <td>2013-02-21</td>\n      <td>2021-05-09</td>\n      <td>2021-05-09</td>\n      <td>2020-01-25</td>\n      <td>130.00</td>\n      <td>1.00</td>\n      <td>49.99</td>\n      <td>12232.25</td>\n      <td>[AKTIFCOCUK, ERKEK, KADIN, AKTIFSPOR]</td>\n      <td>131.00</td>\n      <td>12282.24</td>\n    </tr>\n    <tr>\n      <th>18767</th>\n      <td>fc0ce7a4-9d87-11e9-9897-000d3a38a36f</td>\n      <td>Desktop</td>\n      <td>Desktop</td>\n      <td>2018-11-24</td>\n      <td>2020-11-11</td>\n      <td>2020-11-11</td>\n      <td>2019-12-06</td>\n      <td>18.00</td>\n      <td>2.00</td>\n      <td>64.97</td>\n      <td>12038.18</td>\n      <td>[ERKEK, KADIN]</td>\n      <td>20.00</td>\n      <td>12103.15</td>\n    </tr>\n  </tbody>\n</table>\n</div>"
     },
     "execution_count": 6,
     "metadata": {},
     "output_type": "execute_result"
    }
   ],
   "source": [
    "# 6. Here we print top 10 customers by price value.\n",
    "df.sort_values(\"customer_value_total\", ascending=False)[:10]"
   ],
   "metadata": {
    "collapsed": false
   }
  },
  {
   "cell_type": "code",
   "execution_count": 7,
   "outputs": [
    {
     "data": {
      "text/plain": "                                  master_id order_channel last_order_channel first_order_date last_order_date last_order_date_online last_order_date_offline  order_num_total_ever_online  order_num_total_ever_offline  customer_value_total_ever_offline  customer_value_total_ever_online                   interested_in_categories_12  order_num_total  customer_value_total\n11150  5d1c466a-9cfd-11e9-9897-000d3a38a36f   Android App            Desktop       2013-10-11      2021-04-30             2021-04-30              2020-12-24                       200.00                          2.00                             684.97                          45220.13  [AKTIFCOCUK, ERKEK, COCUK, KADIN, AKTIFSPOR]           202.00              45905.10\n7223   cba59206-9dd1-11e9-9897-000d3a38a36f   Android App        Android App       2013-02-21      2021-05-09             2021-05-09              2020-01-25                       130.00                          1.00                              49.99                          12232.25         [AKTIFCOCUK, ERKEK, KADIN, AKTIFSPOR]           131.00              12282.24\n8783   a57f4302-b1a8-11e9-89fa-000d3a38a36f   Android App            Offline       2019-08-07      2020-11-04             2020-09-07              2020-11-04                         2.00                        109.00                           10239.46                            143.98  [AKTIFCOCUK, ERKEK, COCUK, KADIN, AKTIFSPOR]           111.00              10383.44\n2619   fdbe8304-a7ab-11e9-a2fc-000d3a38a36f   Android App            Offline       2018-10-18      2020-06-30             2018-10-18              2020-06-30                         1.00                         87.00                            8432.25                            139.98                                       [ERKEK]            88.00               8572.23\n6322   329968c6-a0e2-11e9-a2fc-000d3a38a36f       Ios App            Ios App       2019-02-14      2021-04-05             2021-04-05              2020-02-17                         2.00                         81.00                            3997.55                            242.81                                       [ERKEK]            83.00               4240.36\n7613   73fd19aa-9e37-11e9-9897-000d3a38a36f       Ios App            Offline       2014-01-14      2021-05-18             2021-01-30              2021-05-18                        81.00                          1.00                            1263.76                          32654.34              [ERKEK, COCUK, KADIN, AKTIFSPOR]            82.00              33918.10\n9347   44d032ee-a0d4-11e9-a2fc-000d3a38a36f        Mobile             Mobile       2019-02-11      2021-02-11             2021-02-11              2020-12-24                         3.00                         74.00                            4640.77                            543.28                            [KADIN, AKTIFSPOR]            77.00               5184.05\n10954  b27e241a-a901-11e9-a2fc-000d3a38a36f        Mobile             Mobile       2015-09-12      2021-04-01             2021-04-01              2019-10-08                        72.00                          3.00                             292.93                           5004.95         [AKTIFCOCUK, ERKEK, KADIN, AKTIFSPOR]            75.00               5297.88\n8068   d696c654-2633-11ea-8e1c-000d3a38a36f       Ios App            Ios App       2017-05-10      2021-04-13             2021-04-13              2019-08-15                        69.00                          1.00                              82.48                          16836.09  [AKTIFCOCUK, ERKEK, COCUK, KADIN, AKTIFSPOR]            70.00              16918.57\n7330   a4d534a2-5b1b-11eb-8dbd-000d3a38a36f       Desktop            Desktop       2020-02-16      2021-04-30             2021-04-30              2020-12-18                        66.00                          4.00                             843.68                          17599.89                     [ERKEK, KADIN, AKTIFSPOR]            70.00              18443.57",
      "text/html": "<div>\n<style scoped>\n    .dataframe tbody tr th:only-of-type {\n        vertical-align: middle;\n    }\n\n    .dataframe tbody tr th {\n        vertical-align: top;\n    }\n\n    .dataframe thead th {\n        text-align: right;\n    }\n</style>\n<table border=\"1\" class=\"dataframe\">\n  <thead>\n    <tr style=\"text-align: right;\">\n      <th></th>\n      <th>master_id</th>\n      <th>order_channel</th>\n      <th>last_order_channel</th>\n      <th>first_order_date</th>\n      <th>last_order_date</th>\n      <th>last_order_date_online</th>\n      <th>last_order_date_offline</th>\n      <th>order_num_total_ever_online</th>\n      <th>order_num_total_ever_offline</th>\n      <th>customer_value_total_ever_offline</th>\n      <th>customer_value_total_ever_online</th>\n      <th>interested_in_categories_12</th>\n      <th>order_num_total</th>\n      <th>customer_value_total</th>\n    </tr>\n  </thead>\n  <tbody>\n    <tr>\n      <th>11150</th>\n      <td>5d1c466a-9cfd-11e9-9897-000d3a38a36f</td>\n      <td>Android App</td>\n      <td>Desktop</td>\n      <td>2013-10-11</td>\n      <td>2021-04-30</td>\n      <td>2021-04-30</td>\n      <td>2020-12-24</td>\n      <td>200.00</td>\n      <td>2.00</td>\n      <td>684.97</td>\n      <td>45220.13</td>\n      <td>[AKTIFCOCUK, ERKEK, COCUK, KADIN, AKTIFSPOR]</td>\n      <td>202.00</td>\n      <td>45905.10</td>\n    </tr>\n    <tr>\n      <th>7223</th>\n      <td>cba59206-9dd1-11e9-9897-000d3a38a36f</td>\n      <td>Android App</td>\n      <td>Android App</td>\n      <td>2013-02-21</td>\n      <td>2021-05-09</td>\n      <td>2021-05-09</td>\n      <td>2020-01-25</td>\n      <td>130.00</td>\n      <td>1.00</td>\n      <td>49.99</td>\n      <td>12232.25</td>\n      <td>[AKTIFCOCUK, ERKEK, KADIN, AKTIFSPOR]</td>\n      <td>131.00</td>\n      <td>12282.24</td>\n    </tr>\n    <tr>\n      <th>8783</th>\n      <td>a57f4302-b1a8-11e9-89fa-000d3a38a36f</td>\n      <td>Android App</td>\n      <td>Offline</td>\n      <td>2019-08-07</td>\n      <td>2020-11-04</td>\n      <td>2020-09-07</td>\n      <td>2020-11-04</td>\n      <td>2.00</td>\n      <td>109.00</td>\n      <td>10239.46</td>\n      <td>143.98</td>\n      <td>[AKTIFCOCUK, ERKEK, COCUK, KADIN, AKTIFSPOR]</td>\n      <td>111.00</td>\n      <td>10383.44</td>\n    </tr>\n    <tr>\n      <th>2619</th>\n      <td>fdbe8304-a7ab-11e9-a2fc-000d3a38a36f</td>\n      <td>Android App</td>\n      <td>Offline</td>\n      <td>2018-10-18</td>\n      <td>2020-06-30</td>\n      <td>2018-10-18</td>\n      <td>2020-06-30</td>\n      <td>1.00</td>\n      <td>87.00</td>\n      <td>8432.25</td>\n      <td>139.98</td>\n      <td>[ERKEK]</td>\n      <td>88.00</td>\n      <td>8572.23</td>\n    </tr>\n    <tr>\n      <th>6322</th>\n      <td>329968c6-a0e2-11e9-a2fc-000d3a38a36f</td>\n      <td>Ios App</td>\n      <td>Ios App</td>\n      <td>2019-02-14</td>\n      <td>2021-04-05</td>\n      <td>2021-04-05</td>\n      <td>2020-02-17</td>\n      <td>2.00</td>\n      <td>81.00</td>\n      <td>3997.55</td>\n      <td>242.81</td>\n      <td>[ERKEK]</td>\n      <td>83.00</td>\n      <td>4240.36</td>\n    </tr>\n    <tr>\n      <th>7613</th>\n      <td>73fd19aa-9e37-11e9-9897-000d3a38a36f</td>\n      <td>Ios App</td>\n      <td>Offline</td>\n      <td>2014-01-14</td>\n      <td>2021-05-18</td>\n      <td>2021-01-30</td>\n      <td>2021-05-18</td>\n      <td>81.00</td>\n      <td>1.00</td>\n      <td>1263.76</td>\n      <td>32654.34</td>\n      <td>[ERKEK, COCUK, KADIN, AKTIFSPOR]</td>\n      <td>82.00</td>\n      <td>33918.10</td>\n    </tr>\n    <tr>\n      <th>9347</th>\n      <td>44d032ee-a0d4-11e9-a2fc-000d3a38a36f</td>\n      <td>Mobile</td>\n      <td>Mobile</td>\n      <td>2019-02-11</td>\n      <td>2021-02-11</td>\n      <td>2021-02-11</td>\n      <td>2020-12-24</td>\n      <td>3.00</td>\n      <td>74.00</td>\n      <td>4640.77</td>\n      <td>543.28</td>\n      <td>[KADIN, AKTIFSPOR]</td>\n      <td>77.00</td>\n      <td>5184.05</td>\n    </tr>\n    <tr>\n      <th>10954</th>\n      <td>b27e241a-a901-11e9-a2fc-000d3a38a36f</td>\n      <td>Mobile</td>\n      <td>Mobile</td>\n      <td>2015-09-12</td>\n      <td>2021-04-01</td>\n      <td>2021-04-01</td>\n      <td>2019-10-08</td>\n      <td>72.00</td>\n      <td>3.00</td>\n      <td>292.93</td>\n      <td>5004.95</td>\n      <td>[AKTIFCOCUK, ERKEK, KADIN, AKTIFSPOR]</td>\n      <td>75.00</td>\n      <td>5297.88</td>\n    </tr>\n    <tr>\n      <th>8068</th>\n      <td>d696c654-2633-11ea-8e1c-000d3a38a36f</td>\n      <td>Ios App</td>\n      <td>Ios App</td>\n      <td>2017-05-10</td>\n      <td>2021-04-13</td>\n      <td>2021-04-13</td>\n      <td>2019-08-15</td>\n      <td>69.00</td>\n      <td>1.00</td>\n      <td>82.48</td>\n      <td>16836.09</td>\n      <td>[AKTIFCOCUK, ERKEK, COCUK, KADIN, AKTIFSPOR]</td>\n      <td>70.00</td>\n      <td>16918.57</td>\n    </tr>\n    <tr>\n      <th>7330</th>\n      <td>a4d534a2-5b1b-11eb-8dbd-000d3a38a36f</td>\n      <td>Desktop</td>\n      <td>Desktop</td>\n      <td>2020-02-16</td>\n      <td>2021-04-30</td>\n      <td>2021-04-30</td>\n      <td>2020-12-18</td>\n      <td>66.00</td>\n      <td>4.00</td>\n      <td>843.68</td>\n      <td>17599.89</td>\n      <td>[ERKEK, KADIN, AKTIFSPOR]</td>\n      <td>70.00</td>\n      <td>18443.57</td>\n    </tr>\n  </tbody>\n</table>\n</div>"
     },
     "execution_count": 7,
     "metadata": {},
     "output_type": "execute_result"
    }
   ],
   "source": [
    "# 7. Here we print top 10 customers by purchase counts\n",
    "df.sort_values(\"order_num_total\", ascending=False)[:10]"
   ],
   "metadata": {
    "collapsed": false
   }
  },
  {
   "cell_type": "code",
   "execution_count": 8,
   "outputs": [],
   "source": [
    "# This function ise to aggregate all the process above\n",
    "def data_prep(dataframe):\n",
    "    dataframe[\"order_num_total\"] = dataframe[\"order_num_total_ever_online\"] + dataframe[\"order_num_total_ever_offline\"]\n",
    "    dataframe[\"customer_value_total\"] = dataframe[\"customer_value_total_ever_offline\"] + dataframe[\"customer_value_total_ever_online\"]\n",
    "    date_columns = dataframe.columns[dataframe.columns.str.contains(\"date\")]\n",
    "    dataframe[date_columns] = dataframe[date_columns].apply(pd.to_datetime)\n",
    "    return df"
   ],
   "metadata": {
    "collapsed": false
   }
  },
  {
   "cell_type": "code",
   "execution_count": 9,
   "outputs": [],
   "source": [
    "###############################################################\n",
    "# TASK 2: CALCULATING RFM METRICS\n",
    "###############################################################\n",
    "\n",
    "# IN order to analyze, firstly an analysis date should be set which is 2 days later than the latest order date in dataset\n",
    "df[\"last_order_date\"].max() # 2021-05-30\n",
    "analysis_date = dt.datetime(2021,6,1)\n"
   ],
   "metadata": {
    "collapsed": false
   }
  },
  {
   "cell_type": "code",
   "execution_count": 10,
   "outputs": [
    {
     "data": {
      "text/plain": "                            customer_id  recency  frequency  monetary\n0  cc294636-19f0-11eb-8d74-000d3a38a36f    95.00       5.00    939.37\n1  f431bd5a-ab7b-11e9-a2fc-000d3a38a36f   105.00      21.00   2013.55\n2  69b69676-1a40-11ea-941b-000d3a38a36f   186.00       5.00    585.32\n3  1854e56c-491f-11eb-806e-000d3a38a36f   135.00       2.00    121.97\n4  d6ea1074-f1f5-11e9-9346-000d3a38a36f    86.00       2.00    209.98",
      "text/html": "<div>\n<style scoped>\n    .dataframe tbody tr th:only-of-type {\n        vertical-align: middle;\n    }\n\n    .dataframe tbody tr th {\n        vertical-align: top;\n    }\n\n    .dataframe thead th {\n        text-align: right;\n    }\n</style>\n<table border=\"1\" class=\"dataframe\">\n  <thead>\n    <tr style=\"text-align: right;\">\n      <th></th>\n      <th>customer_id</th>\n      <th>recency</th>\n      <th>frequency</th>\n      <th>monetary</th>\n    </tr>\n  </thead>\n  <tbody>\n    <tr>\n      <th>0</th>\n      <td>cc294636-19f0-11eb-8d74-000d3a38a36f</td>\n      <td>95.00</td>\n      <td>5.00</td>\n      <td>939.37</td>\n    </tr>\n    <tr>\n      <th>1</th>\n      <td>f431bd5a-ab7b-11e9-a2fc-000d3a38a36f</td>\n      <td>105.00</td>\n      <td>21.00</td>\n      <td>2013.55</td>\n    </tr>\n    <tr>\n      <th>2</th>\n      <td>69b69676-1a40-11ea-941b-000d3a38a36f</td>\n      <td>186.00</td>\n      <td>5.00</td>\n      <td>585.32</td>\n    </tr>\n    <tr>\n      <th>3</th>\n      <td>1854e56c-491f-11eb-806e-000d3a38a36f</td>\n      <td>135.00</td>\n      <td>2.00</td>\n      <td>121.97</td>\n    </tr>\n    <tr>\n      <th>4</th>\n      <td>d6ea1074-f1f5-11e9-9346-000d3a38a36f</td>\n      <td>86.00</td>\n      <td>2.00</td>\n      <td>209.98</td>\n    </tr>\n  </tbody>\n</table>\n</div>"
     },
     "execution_count": 10,
     "metadata": {},
     "output_type": "execute_result"
    }
   ],
   "source": [
    "# steps of creating a new dataframe to work on it called as RFM indicating : recency,frequency and monetary values\n",
    "rfm = pd.DataFrame()\n",
    "rfm[\"customer_id\"] = df[\"master_id\"]\n",
    "rfm[\"recency\"] = (analysis_date - df[\"last_order_date\"]).astype('timedelta64[D]')\n",
    "rfm[\"frequency\"] = df[\"order_num_total\"]\n",
    "rfm[\"monetary\"] = df[\"customer_value_total\"]\n",
    "\n",
    "rfm.head()"
   ],
   "metadata": {
    "collapsed": false
   }
  },
  {
   "cell_type": "code",
   "execution_count": 11,
   "outputs": [
    {
     "data": {
      "text/plain": "                            customer_id  recency  frequency  monetary recency_score frequency_score monetary_score\n0  cc294636-19f0-11eb-8d74-000d3a38a36f    95.00       5.00    939.37             3               4              4\n1  f431bd5a-ab7b-11e9-a2fc-000d3a38a36f   105.00      21.00   2013.55             3               5              5\n2  69b69676-1a40-11ea-941b-000d3a38a36f   186.00       5.00    585.32             2               4              3\n3  1854e56c-491f-11eb-806e-000d3a38a36f   135.00       2.00    121.97             3               1              1\n4  d6ea1074-f1f5-11e9-9346-000d3a38a36f    86.00       2.00    209.98             3               1              1",
      "text/html": "<div>\n<style scoped>\n    .dataframe tbody tr th:only-of-type {\n        vertical-align: middle;\n    }\n\n    .dataframe tbody tr th {\n        vertical-align: top;\n    }\n\n    .dataframe thead th {\n        text-align: right;\n    }\n</style>\n<table border=\"1\" class=\"dataframe\">\n  <thead>\n    <tr style=\"text-align: right;\">\n      <th></th>\n      <th>customer_id</th>\n      <th>recency</th>\n      <th>frequency</th>\n      <th>monetary</th>\n      <th>recency_score</th>\n      <th>frequency_score</th>\n      <th>monetary_score</th>\n    </tr>\n  </thead>\n  <tbody>\n    <tr>\n      <th>0</th>\n      <td>cc294636-19f0-11eb-8d74-000d3a38a36f</td>\n      <td>95.00</td>\n      <td>5.00</td>\n      <td>939.37</td>\n      <td>3</td>\n      <td>4</td>\n      <td>4</td>\n    </tr>\n    <tr>\n      <th>1</th>\n      <td>f431bd5a-ab7b-11e9-a2fc-000d3a38a36f</td>\n      <td>105.00</td>\n      <td>21.00</td>\n      <td>2013.55</td>\n      <td>3</td>\n      <td>5</td>\n      <td>5</td>\n    </tr>\n    <tr>\n      <th>2</th>\n      <td>69b69676-1a40-11ea-941b-000d3a38a36f</td>\n      <td>186.00</td>\n      <td>5.00</td>\n      <td>585.32</td>\n      <td>2</td>\n      <td>4</td>\n      <td>3</td>\n    </tr>\n    <tr>\n      <th>3</th>\n      <td>1854e56c-491f-11eb-806e-000d3a38a36f</td>\n      <td>135.00</td>\n      <td>2.00</td>\n      <td>121.97</td>\n      <td>3</td>\n      <td>1</td>\n      <td>1</td>\n    </tr>\n    <tr>\n      <th>4</th>\n      <td>d6ea1074-f1f5-11e9-9346-000d3a38a36f</td>\n      <td>86.00</td>\n      <td>2.00</td>\n      <td>209.98</td>\n      <td>3</td>\n      <td>1</td>\n      <td>1</td>\n    </tr>\n  </tbody>\n</table>\n</div>"
     },
     "execution_count": 11,
     "metadata": {},
     "output_type": "execute_result"
    }
   ],
   "source": [
    "###############################################################\n",
    "# TASK 3:  Calculation of RF and RFM Scores\n",
    "###############################################################\n",
    "\n",
    "#  Firstly, we maintain scoring by using qcut tool\n",
    "# Then we save them as new variables\n",
    "rfm[\"recency_score\"] = pd.qcut(rfm['recency'], 5, labels=[5, 4, 3, 2, 1])\n",
    "rfm[\"frequency_score\"] = pd.qcut(rfm['frequency'].rank(method=\"first\"), 5, labels=[1, 2, 3, 4, 5])\n",
    "rfm[\"monetary_score\"] = pd.qcut(rfm['monetary'], 5, labels=[1, 2, 3, 4, 5])\n",
    "\n",
    "rfm.head()\n"
   ],
   "metadata": {
    "collapsed": false
   }
  },
  {
   "cell_type": "code",
   "execution_count": 12,
   "outputs": [
    {
     "data": {
      "text/plain": "                            customer_id  recency  frequency  monetary recency_score frequency_score monetary_score RF_SCORE RFM_SCORE\n0  cc294636-19f0-11eb-8d74-000d3a38a36f    95.00       5.00    939.37             3               4              4       34       344\n1  f431bd5a-ab7b-11e9-a2fc-000d3a38a36f   105.00      21.00   2013.55             3               5              5       35       355\n2  69b69676-1a40-11ea-941b-000d3a38a36f   186.00       5.00    585.32             2               4              3       24       243\n3  1854e56c-491f-11eb-806e-000d3a38a36f   135.00       2.00    121.97             3               1              1       31       311\n4  d6ea1074-f1f5-11e9-9346-000d3a38a36f    86.00       2.00    209.98             3               1              1       31       311",
      "text/html": "<div>\n<style scoped>\n    .dataframe tbody tr th:only-of-type {\n        vertical-align: middle;\n    }\n\n    .dataframe tbody tr th {\n        vertical-align: top;\n    }\n\n    .dataframe thead th {\n        text-align: right;\n    }\n</style>\n<table border=\"1\" class=\"dataframe\">\n  <thead>\n    <tr style=\"text-align: right;\">\n      <th></th>\n      <th>customer_id</th>\n      <th>recency</th>\n      <th>frequency</th>\n      <th>monetary</th>\n      <th>recency_score</th>\n      <th>frequency_score</th>\n      <th>monetary_score</th>\n      <th>RF_SCORE</th>\n      <th>RFM_SCORE</th>\n    </tr>\n  </thead>\n  <tbody>\n    <tr>\n      <th>0</th>\n      <td>cc294636-19f0-11eb-8d74-000d3a38a36f</td>\n      <td>95.00</td>\n      <td>5.00</td>\n      <td>939.37</td>\n      <td>3</td>\n      <td>4</td>\n      <td>4</td>\n      <td>34</td>\n      <td>344</td>\n    </tr>\n    <tr>\n      <th>1</th>\n      <td>f431bd5a-ab7b-11e9-a2fc-000d3a38a36f</td>\n      <td>105.00</td>\n      <td>21.00</td>\n      <td>2013.55</td>\n      <td>3</td>\n      <td>5</td>\n      <td>5</td>\n      <td>35</td>\n      <td>355</td>\n    </tr>\n    <tr>\n      <th>2</th>\n      <td>69b69676-1a40-11ea-941b-000d3a38a36f</td>\n      <td>186.00</td>\n      <td>5.00</td>\n      <td>585.32</td>\n      <td>2</td>\n      <td>4</td>\n      <td>3</td>\n      <td>24</td>\n      <td>243</td>\n    </tr>\n    <tr>\n      <th>3</th>\n      <td>1854e56c-491f-11eb-806e-000d3a38a36f</td>\n      <td>135.00</td>\n      <td>2.00</td>\n      <td>121.97</td>\n      <td>3</td>\n      <td>1</td>\n      <td>1</td>\n      <td>31</td>\n      <td>311</td>\n    </tr>\n    <tr>\n      <th>4</th>\n      <td>d6ea1074-f1f5-11e9-9346-000d3a38a36f</td>\n      <td>86.00</td>\n      <td>2.00</td>\n      <td>209.98</td>\n      <td>3</td>\n      <td>1</td>\n      <td>1</td>\n      <td>31</td>\n      <td>311</td>\n    </tr>\n  </tbody>\n</table>\n</div>"
     },
     "execution_count": 12,
     "metadata": {},
     "output_type": "execute_result"
    }
   ],
   "source": [
    "# Saving recency_score and frequency_score as a new variable in string format called RF_SCORE\n",
    "rfm[\"RF_SCORE\"] = (rfm['recency_score'].astype(str) + rfm['frequency_score'].astype(str))\n",
    "\n",
    "\n",
    "# Saving recency_score, frequency_score and monetary_score'u as a new variable called RFM_SCORE in string format\n",
    "rfm[\"RFM_SCORE\"] = (rfm['recency_score'].astype(str) + rfm['frequency_score'].astype(str) + rfm['monetary_score'].astype(str))\n",
    "\n",
    "rfm.head()"
   ],
   "metadata": {
    "collapsed": false
   }
  },
  {
   "cell_type": "code",
   "execution_count": 13,
   "outputs": [
    {
     "data": {
      "text/plain": "                            customer_id  recency  frequency  monetary recency_score frequency_score monetary_score RF_SCORE RFM_SCORE          segment\n0  cc294636-19f0-11eb-8d74-000d3a38a36f    95.00       5.00    939.37             3               4              4       34       344  loyal_customers\n1  f431bd5a-ab7b-11e9-a2fc-000d3a38a36f   105.00      21.00   2013.55             3               5              5       35       355  loyal_customers\n2  69b69676-1a40-11ea-941b-000d3a38a36f   186.00       5.00    585.32             2               4              3       24       243          at_Risk\n3  1854e56c-491f-11eb-806e-000d3a38a36f   135.00       2.00    121.97             3               1              1       31       311   about_to_sleep\n4  d6ea1074-f1f5-11e9-9346-000d3a38a36f    86.00       2.00    209.98             3               1              1       31       311   about_to_sleep",
      "text/html": "<div>\n<style scoped>\n    .dataframe tbody tr th:only-of-type {\n        vertical-align: middle;\n    }\n\n    .dataframe tbody tr th {\n        vertical-align: top;\n    }\n\n    .dataframe thead th {\n        text-align: right;\n    }\n</style>\n<table border=\"1\" class=\"dataframe\">\n  <thead>\n    <tr style=\"text-align: right;\">\n      <th></th>\n      <th>customer_id</th>\n      <th>recency</th>\n      <th>frequency</th>\n      <th>monetary</th>\n      <th>recency_score</th>\n      <th>frequency_score</th>\n      <th>monetary_score</th>\n      <th>RF_SCORE</th>\n      <th>RFM_SCORE</th>\n      <th>segment</th>\n    </tr>\n  </thead>\n  <tbody>\n    <tr>\n      <th>0</th>\n      <td>cc294636-19f0-11eb-8d74-000d3a38a36f</td>\n      <td>95.00</td>\n      <td>5.00</td>\n      <td>939.37</td>\n      <td>3</td>\n      <td>4</td>\n      <td>4</td>\n      <td>34</td>\n      <td>344</td>\n      <td>loyal_customers</td>\n    </tr>\n    <tr>\n      <th>1</th>\n      <td>f431bd5a-ab7b-11e9-a2fc-000d3a38a36f</td>\n      <td>105.00</td>\n      <td>21.00</td>\n      <td>2013.55</td>\n      <td>3</td>\n      <td>5</td>\n      <td>5</td>\n      <td>35</td>\n      <td>355</td>\n      <td>loyal_customers</td>\n    </tr>\n    <tr>\n      <th>2</th>\n      <td>69b69676-1a40-11ea-941b-000d3a38a36f</td>\n      <td>186.00</td>\n      <td>5.00</td>\n      <td>585.32</td>\n      <td>2</td>\n      <td>4</td>\n      <td>3</td>\n      <td>24</td>\n      <td>243</td>\n      <td>at_Risk</td>\n    </tr>\n    <tr>\n      <th>3</th>\n      <td>1854e56c-491f-11eb-806e-000d3a38a36f</td>\n      <td>135.00</td>\n      <td>2.00</td>\n      <td>121.97</td>\n      <td>3</td>\n      <td>1</td>\n      <td>1</td>\n      <td>31</td>\n      <td>311</td>\n      <td>about_to_sleep</td>\n    </tr>\n    <tr>\n      <th>4</th>\n      <td>d6ea1074-f1f5-11e9-9346-000d3a38a36f</td>\n      <td>86.00</td>\n      <td>2.00</td>\n      <td>209.98</td>\n      <td>3</td>\n      <td>1</td>\n      <td>1</td>\n      <td>31</td>\n      <td>311</td>\n      <td>about_to_sleep</td>\n    </tr>\n  </tbody>\n</table>\n</div>"
     },
     "execution_count": 13,
     "metadata": {},
     "output_type": "execute_result"
    }
   ],
   "source": [
    "###############################################################\n",
    "# TASK 4: SEGMENTATION PROCESS OF RF SCORES\n",
    "###############################################################\n",
    "\n",
    "#  BY USING REGEX TOOL HERE WE CREATE SEGMENT NAMES FOLLOWING THE CRITERIA DEFINED IN THE DICTIONARY BELOW\n",
    "seg_map = {\n",
    "    r'[1-2][1-2]': 'hibernating',\n",
    "    r'[1-2][3-4]': 'at_Risk',\n",
    "    r'[1-2]5': 'cant_loose',\n",
    "    r'3[1-2]': 'about_to_sleep',\n",
    "    r'33': 'need_attention',\n",
    "    r'[3-4][4-5]': 'loyal_customers',\n",
    "    r'41': 'promising',\n",
    "    r'51': 'new_customers',\n",
    "    r'[4-5][2-3]': 'potential_loyalists',\n",
    "    r'5[4-5]': 'champions'\n",
    "}\n",
    "\n",
    "rfm['segment'] = rfm['RF_SCORE'].replace(seg_map, regex=True)\n",
    "\n",
    "rfm.head()\n"
   ],
   "metadata": {
    "collapsed": false
   }
  },
  {
   "cell_type": "code",
   "execution_count": 14,
   "outputs": [
    {
     "data": {
      "text/plain": "                    recency       frequency       monetary      \n                       mean count      mean count     mean count\nsegment                                                         \nabout_to_sleep       113.79  1629      2.40  1629   359.01  1629\nat_Risk              241.61  3131      4.47  3131   646.61  3131\ncant_loose           235.44  1200     10.70  1200  1474.47  1200\nchampions             17.11  1932      8.93  1932  1406.63  1932\nhibernating          247.95  3604      2.39  3604   366.27  3604\nloyal_customers       82.59  3361      8.37  3361  1216.82  3361\nneed_attention       113.83   823      3.73   823   562.14   823\nnew_customers         17.92   680      2.00   680   339.96   680\npotential_loyalists   37.16  2938      3.30  2938   533.18  2938\npromising             58.92   647      2.00   647   335.67   647",
      "text/html": "<div>\n<style scoped>\n    .dataframe tbody tr th:only-of-type {\n        vertical-align: middle;\n    }\n\n    .dataframe tbody tr th {\n        vertical-align: top;\n    }\n\n    .dataframe thead tr th {\n        text-align: left;\n    }\n\n    .dataframe thead tr:last-of-type th {\n        text-align: right;\n    }\n</style>\n<table border=\"1\" class=\"dataframe\">\n  <thead>\n    <tr>\n      <th></th>\n      <th colspan=\"2\" halign=\"left\">recency</th>\n      <th colspan=\"2\" halign=\"left\">frequency</th>\n      <th colspan=\"2\" halign=\"left\">monetary</th>\n    </tr>\n    <tr>\n      <th></th>\n      <th>mean</th>\n      <th>count</th>\n      <th>mean</th>\n      <th>count</th>\n      <th>mean</th>\n      <th>count</th>\n    </tr>\n    <tr>\n      <th>segment</th>\n      <th></th>\n      <th></th>\n      <th></th>\n      <th></th>\n      <th></th>\n      <th></th>\n    </tr>\n  </thead>\n  <tbody>\n    <tr>\n      <th>about_to_sleep</th>\n      <td>113.79</td>\n      <td>1629</td>\n      <td>2.40</td>\n      <td>1629</td>\n      <td>359.01</td>\n      <td>1629</td>\n    </tr>\n    <tr>\n      <th>at_Risk</th>\n      <td>241.61</td>\n      <td>3131</td>\n      <td>4.47</td>\n      <td>3131</td>\n      <td>646.61</td>\n      <td>3131</td>\n    </tr>\n    <tr>\n      <th>cant_loose</th>\n      <td>235.44</td>\n      <td>1200</td>\n      <td>10.70</td>\n      <td>1200</td>\n      <td>1474.47</td>\n      <td>1200</td>\n    </tr>\n    <tr>\n      <th>champions</th>\n      <td>17.11</td>\n      <td>1932</td>\n      <td>8.93</td>\n      <td>1932</td>\n      <td>1406.63</td>\n      <td>1932</td>\n    </tr>\n    <tr>\n      <th>hibernating</th>\n      <td>247.95</td>\n      <td>3604</td>\n      <td>2.39</td>\n      <td>3604</td>\n      <td>366.27</td>\n      <td>3604</td>\n    </tr>\n    <tr>\n      <th>loyal_customers</th>\n      <td>82.59</td>\n      <td>3361</td>\n      <td>8.37</td>\n      <td>3361</td>\n      <td>1216.82</td>\n      <td>3361</td>\n    </tr>\n    <tr>\n      <th>need_attention</th>\n      <td>113.83</td>\n      <td>823</td>\n      <td>3.73</td>\n      <td>823</td>\n      <td>562.14</td>\n      <td>823</td>\n    </tr>\n    <tr>\n      <th>new_customers</th>\n      <td>17.92</td>\n      <td>680</td>\n      <td>2.00</td>\n      <td>680</td>\n      <td>339.96</td>\n      <td>680</td>\n    </tr>\n    <tr>\n      <th>potential_loyalists</th>\n      <td>37.16</td>\n      <td>2938</td>\n      <td>3.30</td>\n      <td>2938</td>\n      <td>533.18</td>\n      <td>2938</td>\n    </tr>\n    <tr>\n      <th>promising</th>\n      <td>58.92</td>\n      <td>647</td>\n      <td>2.00</td>\n      <td>647</td>\n      <td>335.67</td>\n      <td>647</td>\n    </tr>\n  </tbody>\n</table>\n</div>"
     },
     "execution_count": 14,
     "metadata": {},
     "output_type": "execute_result"
    }
   ],
   "source": [
    "###############################################################\n",
    "# DATA ANALYSIS and MINING OF RFM DATASET\n",
    "###############################################################\n",
    "\n",
    "# 1. Exploring the new data by checking mean values of recency, frequency and monetary grouped by SEGMENT.\n",
    "rfm[[\"segment\", \"recency\", \"frequency\", \"monetary\"]].groupby(\"segment\").agg([\"mean\", \"count\"])\n"
   ],
   "metadata": {
    "collapsed": false
   }
  },
  {
   "cell_type": "code",
   "execution_count": 17,
   "outputs": [
    {
     "data": {
      "text/plain": "(2497,)"
     },
     "execution_count": 17,
     "metadata": {},
     "output_type": "execute_result"
    }
   ],
   "source": [
    "#If we like to save master'ids of champions and loyal customers from the group called \"KADIN\" meaning women in Turkish\n",
    "target_segments_customer_ids = rfm[rfm[\"segment\"].isin([\"champions\",\"loyal_customers\"])][\"customer_id\"]\n",
    "cust_ids = df[(df[\"master_id\"].isin(target_segments_customer_ids)) &(df[\"interested_in_categories_12\"].str.contains(\"KADIN\"))][\"master_id\"]\n",
    "cust_ids.to_csv(\"new_targetedcustomers_id.csv\", index=False)\n",
    "cust_ids.shape"
   ],
   "metadata": {
    "collapsed": false
   }
  },
  {
   "cell_type": "code",
   "execution_count": 20,
   "outputs": [],
   "source": [
    "# IF we like to see \"ERKEK\" Meaning male customers filtered as \"cant_loose\",\"hibernating\",\"new_customers\" and who are shopping from thedd\n",
    "# product category called \"COCUK\" meaning kids\n",
    "target_segments_customer_ids = rfm[rfm[\"segment\"].isin([\"cant_loose\",\"hibernating\",\"new_customers\"])][\"customer_id\"]\n",
    "cust_ids = df[(df[\"master_id\"].isin(target_segments_customer_ids)) & ((df[\"interested_in_categories_12\"].str.contains(\"ERKEK\"))|(df[\"interested_in_categories_12\"].str.contains(\"COCUK\")))][\"master_id\"]\n",
    "#cust_ids.to_csv(\"indirim_hedef_müşteri_ids.csv\", index=False)"
   ],
   "metadata": {
    "collapsed": false
   }
  },
  {
   "cell_type": "code",
   "execution_count": 22,
   "outputs": [
    {
     "data": {
      "text/plain": "7     3f1b4dc8-8a7d-11ea-8ec0-000d3a38a36f\n10    ae608ece-c9d8-11ea-a31e-000d3a38a36f\n15    13ed97a4-b167-11e9-89fa-000d3a38a36f\n19    2730793e-3908-11ea-85d6-000d3a38a36f\n21    7b289956-d691-11e9-93bc-000d3a38a36f\nName: master_id, dtype: object"
     },
     "execution_count": 22,
     "metadata": {},
     "output_type": "execute_result"
    }
   ],
   "source": [
    "cust_ids.head()"
   ],
   "metadata": {
    "collapsed": false
   }
  },
  {
   "cell_type": "code",
   "execution_count": null,
   "outputs": [],
   "source": [
    "#  FUNCTIONING THE RFM STEPS\n",
    "\n",
    "\n",
    "def create_rfm(dataframe):\n",
    "    # Veriyi Hazırlma\n",
    "    dataframe[\"order_num_total\"] = dataframe[\"order_num_total_ever_online\"] + dataframe[\"order_num_total_ever_offline\"]\n",
    "    dataframe[\"customer_value_total\"] = dataframe[\"customer_value_total_ever_offline\"] + dataframe[\"customer_value_total_ever_online\"]\n",
    "    date_columns = dataframe.columns[dataframe.columns.str.contains(\"date\")]\n",
    "    dataframe[date_columns] = dataframe[date_columns].apply(pd.to_datetime)\n",
    "\n",
    "\n",
    "    # RFM METRIKLERININ HESAPLANMASI\n",
    "    dataframe[\"last_order_date\"].max()  # 2021-05-30\n",
    "    analysis_date = dt.datetime(2021, 6, 1)\n",
    "    rfm = pd.DataFrame()\n",
    "    rfm[\"customer_id\"] = dataframe[\"master_id\"]\n",
    "    rfm[\"recency\"] = (analysis_date - dataframe[\"last_order_date\"]).astype('timedelta64[D]')\n",
    "    rfm[\"frequency\"] = dataframe[\"order_num_total\"]\n",
    "    rfm[\"monetary\"] = dataframe[\"customer_value_total\"]\n",
    "\n",
    "    # RF ve RFM SKORLARININ HESAPLANMASI\n",
    "    rfm[\"recency_score\"] = pd.qcut(rfm['recency'], 5, labels=[5, 4, 3, 2, 1])\n",
    "    rfm[\"frequency_score\"] = pd.qcut(rfm['frequency'].rank(method=\"first\"), 5, labels=[1, 2, 3, 4, 5])\n",
    "    rfm[\"monetary_score\"] = pd.qcut(rfm['monetary'], 5, labels=[1, 2, 3, 4, 5])\n",
    "    rfm[\"RF_SCORE\"] = (rfm['recency_score'].astype(str) + rfm['frequency_score'].astype(str))\n",
    "    rfm[\"RFM_SCORE\"] = (rfm['recency_score'].astype(str) + rfm['frequency_score'].astype(str) + rfm['monetary_score'].astype(str))\n",
    "\n",
    "\n",
    "    # SEGMENTLERIN ISIMLENDIRILMESI\n",
    "    seg_map = {\n",
    "        r'[1-2][1-2]': 'hibernating',\n",
    "        r'[1-2][3-4]': 'at_Risk',\n",
    "        r'[1-2]5': 'cant_loose',\n",
    "        r'3[1-2]': 'about_to_sleep',\n",
    "        r'33': 'need_attention',\n",
    "        r'[3-4][4-5]': 'loyal_customers',\n",
    "        r'41': 'promising',\n",
    "        r'51': 'new_customers',\n",
    "        r'[4-5][2-3]': 'potential_loyalists',\n",
    "        r'5[4-5]': 'champions'\n",
    "    }\n",
    "    rfm['segment'] = rfm['RF_SCORE'].replace(seg_map, regex=True)\n",
    "\n",
    "    return rfm[[\"customer_id\", \"recency\",\"frequency\",\"monetary\",\"RF_SCORE\",\"RFM_SCORE\",\"segment\"]]\n",
    "\n",
    "rfm_df = create_rfm(df)\n"
   ],
   "metadata": {
    "collapsed": false
   }
  }
 ],
 "metadata": {
  "kernelspec": {
   "display_name": "Python 3",
   "language": "python",
   "name": "python3"
  },
  "language_info": {
   "codemirror_mode": {
    "name": "ipython",
    "version": 2
   },
   "file_extension": ".py",
   "mimetype": "text/x-python",
   "name": "python",
   "nbconvert_exporter": "python",
   "pygments_lexer": "ipython2",
   "version": "2.7.6"
  }
 },
 "nbformat": 4,
 "nbformat_minor": 0
}
