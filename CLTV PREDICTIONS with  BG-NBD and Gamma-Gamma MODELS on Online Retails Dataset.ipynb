{
 "cells": [
  {
   "cell_type": "code",
   "execution_count": 36,
   "metadata": {
    "collapsed": true
   },
   "outputs": [],
   "source": [
    "##############################################################\n",
    "## CLTV PREDICTIONS with  BG-NBD and Gamma-Gamma MODELS on Online Retails Dataset\n",
    "##############################################################"
   ]
  },
  {
   "cell_type": "markdown",
   "source": [
    "#####################################################\n",
    "# DATASET\n",
    "#####################################################\n",
    "#This is a transnational data set which contains all the transactions occurring between 01/12/2010 and 09/12/2011 for a UK-based and registered #non-store online retail.The company mainly sells unique all-occasion gifts. Many customers of the company are wholesalers.\n",
    "## https://archive.ics.uci.edu/ml/datasets/Online+Retail+II\n",
    "\n",
    "#Attribute Information\n",
    "#Additional Information\n",
    "\n",
    "#InvoiceNo: Invoice number. Nominal, a 6-digit integral number uniquely assigned to each transaction. If this code starts with letter 'c', it #indicates a cancellation.\n",
    "#StockCode: Product (item) code. Nominal, a 5-digit integral number uniquely assigned to each distinct product.\n",
    "#Description: Product (item) name. Nominal.\n",
    "#Quantity: The quantities of each product (item) per transaction. Numeric.\n",
    "#InvoiceDate: Invice Date and time. Numeric, the day and time when each transaction was generated.\n",
    "#UnitPrice: Unit price. Numeric, Product price per unit in sterling.\n",
    "#CustomerID: Customer number. Nominal, a 5-digit integral number uniquely assigned to each customer.\n",
    "#Country: Country name. Nominal, the name of the country where each customer resides."
   ],
   "metadata": {
    "collapsed": false
   }
  },
  {
   "cell_type": "code",
   "execution_count": 37,
   "outputs": [
    {
     "name": "stdout",
     "output_type": "stream",
     "text": [
      "Requirement already satisfied: lifetimes in c:\\users\\huseyinburakbolat\\anaconda3\\lib\\site-packages (0.11.3)\n",
      "Requirement already satisfied: numpy>=1.10.0 in c:\\users\\huseyinburakbolat\\anaconda3\\lib\\site-packages (from lifetimes) (1.21.5)\n",
      "Requirement already satisfied: dill>=0.2.6 in c:\\users\\huseyinburakbolat\\anaconda3\\lib\\site-packages (from lifetimes) (0.3.4)\n",
      "Requirement already satisfied: scipy>=1.0.0 in c:\\users\\huseyinburakbolat\\anaconda3\\lib\\site-packages (from lifetimes) (1.7.3)\n",
      "Requirement already satisfied: pandas>=0.24.0 in c:\\users\\huseyinburakbolat\\anaconda3\\lib\\site-packages (from lifetimes) (1.3.5)\n",
      "Requirement already satisfied: autograd>=1.2.0 in c:\\users\\huseyinburakbolat\\anaconda3\\lib\\site-packages (from lifetimes) (1.5)\n",
      "Requirement already satisfied: future>=0.15.2 in c:\\users\\huseyinburakbolat\\anaconda3\\lib\\site-packages (from autograd>=1.2.0->lifetimes) (0.18.2)\n",
      "Requirement already satisfied: pytz>=2017.3 in c:\\users\\huseyinburakbolat\\anaconda3\\lib\\site-packages (from pandas>=0.24.0->lifetimes) (2022.1)\n",
      "Requirement already satisfied: python-dateutil>=2.7.3 in c:\\users\\huseyinburakbolat\\anaconda3\\lib\\site-packages (from pandas>=0.24.0->lifetimes) (2.8.2)\n",
      "Requirement already satisfied: six>=1.5 in c:\\users\\huseyinburakbolat\\anaconda3\\lib\\site-packages (from python-dateutil>=2.7.3->pandas>=0.24.0->lifetimes) (1.16.0)\n"
     ]
    }
   ],
   "source": [
    "###############################################################\n",
    "#DATA PREPROCESSING\n",
    "###############################################################\n",
    "#Importing Libraries\n",
    "\n",
    "! pip install lifetimes\n",
    "import datetime as dt\n",
    "import pandas as pd\n",
    "import matplotlib.pyplot as plt\n",
    "from lifetimes import BetaGeoFitter\n",
    "from lifetimes import GammaGammaFitter\n",
    "from lifetimes.plotting import plot_period_transactions\n",
    "\n",
    "pd.set_option('display.max_columns', None)\n",
    "pd.set_option('display.width', 500)\n",
    "pd.set_option('display.float_format', lambda x: '%.4f' % x)\n",
    "from sklearn.preprocessing import MinMaxScaler"
   ],
   "metadata": {
    "collapsed": false
   }
  },
  {
   "cell_type": "code",
   "execution_count": 38,
   "outputs": [],
   "source": [
    "###############################################################\n",
    "#  OUTLIER DETECTION AND REPLACING WITH THRESHOLDS FUNCTIONS\n",
    "###############################################################\n",
    "def outlier_thresholds(dataframe, variable):\n",
    "    quartile1 = dataframe[variable].quantile(0.01)\n",
    "    quartile3 = dataframe[variable].quantile(0.99)\n",
    "    interquantile_range = quartile3 - quartile1\n",
    "    up_limit = quartile3 + 1.5 * interquantile_range\n",
    "    low_limit = quartile1 - 1.5 * interquantile_range\n",
    "    return low_limit, up_limit\n",
    "\n",
    "\n",
    "def replace_with_thresholds(dataframe, variable):\n",
    "    low_limit, up_limit = outlier_thresholds(dataframe, variable)\n",
    "    # dataframe.loc[(dataframe[variable] < low_limit), variable] = low_limit\n",
    "    dataframe.loc[(dataframe[variable] > up_limit), variable] = up_limit"
   ],
   "metadata": {
    "collapsed": false
   }
  },
  {
   "cell_type": "code",
   "execution_count": 39,
   "outputs": [
    {
     "data": {
      "text/plain": "                  count       mean       std         min        25%        50%        75%        max\nQuantity    541910.0000     9.5522  218.0810 -80995.0000     1.0000     3.0000    10.0000 80995.0000\nPrice       541910.0000     4.6111   96.7598 -11062.0600     1.2500     2.0800     4.1300 38970.0000\nCustomer ID 406830.0000 15287.6842 1713.6031  12346.0000 13953.0000 15152.0000 16791.0000 18287.0000",
      "text/html": "<div>\n<style scoped>\n    .dataframe tbody tr th:only-of-type {\n        vertical-align: middle;\n    }\n\n    .dataframe tbody tr th {\n        vertical-align: top;\n    }\n\n    .dataframe thead th {\n        text-align: right;\n    }\n</style>\n<table border=\"1\" class=\"dataframe\">\n  <thead>\n    <tr style=\"text-align: right;\">\n      <th></th>\n      <th>count</th>\n      <th>mean</th>\n      <th>std</th>\n      <th>min</th>\n      <th>25%</th>\n      <th>50%</th>\n      <th>75%</th>\n      <th>max</th>\n    </tr>\n  </thead>\n  <tbody>\n    <tr>\n      <th>Quantity</th>\n      <td>541910.0000</td>\n      <td>9.5522</td>\n      <td>218.0810</td>\n      <td>-80995.0000</td>\n      <td>1.0000</td>\n      <td>3.0000</td>\n      <td>10.0000</td>\n      <td>80995.0000</td>\n    </tr>\n    <tr>\n      <th>Price</th>\n      <td>541910.0000</td>\n      <td>4.6111</td>\n      <td>96.7598</td>\n      <td>-11062.0600</td>\n      <td>1.2500</td>\n      <td>2.0800</td>\n      <td>4.1300</td>\n      <td>38970.0000</td>\n    </tr>\n    <tr>\n      <th>Customer ID</th>\n      <td>406830.0000</td>\n      <td>15287.6842</td>\n      <td>1713.6031</td>\n      <td>12346.0000</td>\n      <td>13953.0000</td>\n      <td>15152.0000</td>\n      <td>16791.0000</td>\n      <td>18287.0000</td>\n    </tr>\n  </tbody>\n</table>\n</div>"
     },
     "execution_count": 39,
     "metadata": {},
     "output_type": "execute_result"
    }
   ],
   "source": [
    "#########################\n",
    "# READ THE DATA\n",
    "#########################\n",
    "\n",
    "df_ = pd.read_excel(\"online_retail_II.xlsx\",\n",
    "                    sheet_name=\"Year 2010-2011\")\n",
    "df = df_.copy()\n",
    "df.describe().T"
   ],
   "metadata": {
    "collapsed": false
   }
  },
  {
   "cell_type": "code",
   "execution_count": 40,
   "outputs": [
    {
     "data": {
      "text/plain": "  Invoice StockCode                          Description  Quantity         InvoiceDate  Price  Customer ID         Country\n0  536365    85123A   WHITE HANGING HEART T-LIGHT HOLDER         6 2010-12-01 08:26:00 2.5500   17850.0000  United Kingdom\n1  536365     71053                  WHITE METAL LANTERN         6 2010-12-01 08:26:00 3.3900   17850.0000  United Kingdom\n2  536365    84406B       CREAM CUPID HEARTS COAT HANGER         8 2010-12-01 08:26:00 2.7500   17850.0000  United Kingdom\n3  536365    84029G  KNITTED UNION FLAG HOT WATER BOTTLE         6 2010-12-01 08:26:00 3.3900   17850.0000  United Kingdom\n4  536365    84029E       RED WOOLLY HOTTIE WHITE HEART.         6 2010-12-01 08:26:00 3.3900   17850.0000  United Kingdom",
      "text/html": "<div>\n<style scoped>\n    .dataframe tbody tr th:only-of-type {\n        vertical-align: middle;\n    }\n\n    .dataframe tbody tr th {\n        vertical-align: top;\n    }\n\n    .dataframe thead th {\n        text-align: right;\n    }\n</style>\n<table border=\"1\" class=\"dataframe\">\n  <thead>\n    <tr style=\"text-align: right;\">\n      <th></th>\n      <th>Invoice</th>\n      <th>StockCode</th>\n      <th>Description</th>\n      <th>Quantity</th>\n      <th>InvoiceDate</th>\n      <th>Price</th>\n      <th>Customer ID</th>\n      <th>Country</th>\n    </tr>\n  </thead>\n  <tbody>\n    <tr>\n      <th>0</th>\n      <td>536365</td>\n      <td>85123A</td>\n      <td>WHITE HANGING HEART T-LIGHT HOLDER</td>\n      <td>6</td>\n      <td>2010-12-01 08:26:00</td>\n      <td>2.5500</td>\n      <td>17850.0000</td>\n      <td>United Kingdom</td>\n    </tr>\n    <tr>\n      <th>1</th>\n      <td>536365</td>\n      <td>71053</td>\n      <td>WHITE METAL LANTERN</td>\n      <td>6</td>\n      <td>2010-12-01 08:26:00</td>\n      <td>3.3900</td>\n      <td>17850.0000</td>\n      <td>United Kingdom</td>\n    </tr>\n    <tr>\n      <th>2</th>\n      <td>536365</td>\n      <td>84406B</td>\n      <td>CREAM CUPID HEARTS COAT HANGER</td>\n      <td>8</td>\n      <td>2010-12-01 08:26:00</td>\n      <td>2.7500</td>\n      <td>17850.0000</td>\n      <td>United Kingdom</td>\n    </tr>\n    <tr>\n      <th>3</th>\n      <td>536365</td>\n      <td>84029G</td>\n      <td>KNITTED UNION FLAG HOT WATER BOTTLE</td>\n      <td>6</td>\n      <td>2010-12-01 08:26:00</td>\n      <td>3.3900</td>\n      <td>17850.0000</td>\n      <td>United Kingdom</td>\n    </tr>\n    <tr>\n      <th>4</th>\n      <td>536365</td>\n      <td>84029E</td>\n      <td>RED WOOLLY HOTTIE WHITE HEART.</td>\n      <td>6</td>\n      <td>2010-12-01 08:26:00</td>\n      <td>3.3900</td>\n      <td>17850.0000</td>\n      <td>United Kingdom</td>\n    </tr>\n  </tbody>\n</table>\n</div>"
     },
     "execution_count": 40,
     "metadata": {},
     "output_type": "execute_result"
    }
   ],
   "source": [
    "df.head()\n"
   ],
   "metadata": {
    "collapsed": false
   }
  },
  {
   "cell_type": "code",
   "execution_count": 41,
   "outputs": [],
   "source": [
    "#Let's drop NULL values, our dataset is rich enough\n",
    "df.dropna(inplace=True)"
   ],
   "metadata": {
    "collapsed": false
   }
  },
  {
   "cell_type": "code",
   "execution_count": 42,
   "outputs": [],
   "source": [
    "#There was a known issue in the story of this dataset. In the Invoice part, there were statements with C at the beginning.\n",
    "# These are returned purchases. And causing – (negative) values. These observations negatively affects the variables of quantity and price.\n",
    "# Let's delete these negative values first.\n",
    "df = df[~df[\"Invoice\"].str.contains(\"C\", na=False)]"
   ],
   "metadata": {
    "collapsed": false
   }
  },
  {
   "cell_type": "code",
   "execution_count": 43,
   "outputs": [],
   "source": [
    "# After A describe query, here we see negative values in quantity and price variable. We need to fix this problem as well\n",
    "df = df[(df['Quantity'] > 0)]"
   ],
   "metadata": {
    "collapsed": false
   }
  },
  {
   "cell_type": "code",
   "execution_count": 44,
   "outputs": [],
   "source": [
    "# Lets fix price variable\n",
    "df = df[(df[\"Price\"] >0)]"
   ],
   "metadata": {
    "collapsed": false
   }
  },
  {
   "cell_type": "code",
   "execution_count": 45,
   "outputs": [],
   "source": [
    "# Now, we can run our functions to replace outliers with thresholds\n",
    "replace_with_thresholds(df, \"Quantity\")\n",
    "replace_with_thresholds(df, \"Price\")\n",
    "\n",
    "# We need to create new variable called \"TotalPrice\" to calculate CLTV score\n",
    "df[\"TotalPrice\"] = df[\"Quantity\"] * df[\"Price\"]"
   ],
   "metadata": {
    "collapsed": false
   }
  },
  {
   "cell_type": "code",
   "execution_count": 46,
   "outputs": [
    {
     "data": {
      "text/plain": "Timestamp('2011-12-09 12:50:00')"
     },
     "execution_count": 46,
     "metadata": {},
     "output_type": "execute_result"
    }
   ],
   "source": [
    "# IN order to analyze, firstly an analysis date should be set which is 2 days later than the latest order date in dataset\n",
    "df[\"InvoiceDate\"].max()"
   ],
   "metadata": {
    "collapsed": false
   }
  },
  {
   "cell_type": "code",
   "execution_count": 47,
   "outputs": [],
   "source": [
    "today_date = dt.datetime(2011, 12, 11)"
   ],
   "metadata": {
    "collapsed": false
   }
  },
  {
   "cell_type": "code",
   "execution_count": 48,
   "outputs": [
    {
     "data": {
      "text/plain": "              count     mean      std    min      25%      50%      75%       max\nrecency   4338.0000 130.4486 132.0396 0.0000   0.0000  92.5000 251.7500  373.0000\nT         4338.0000 223.8310 117.8546 1.0000 113.0000 249.0000 327.0000  374.0000\nfrequency 4338.0000   4.2720   7.6980 1.0000   1.0000   2.0000   5.0000  209.0000\nmonetary  4338.0000 364.1185 367.2582 3.4500 176.8512 288.2255 422.0294 6207.6700",
      "text/html": "<div>\n<style scoped>\n    .dataframe tbody tr th:only-of-type {\n        vertical-align: middle;\n    }\n\n    .dataframe tbody tr th {\n        vertical-align: top;\n    }\n\n    .dataframe thead th {\n        text-align: right;\n    }\n</style>\n<table border=\"1\" class=\"dataframe\">\n  <thead>\n    <tr style=\"text-align: right;\">\n      <th></th>\n      <th>count</th>\n      <th>mean</th>\n      <th>std</th>\n      <th>min</th>\n      <th>25%</th>\n      <th>50%</th>\n      <th>75%</th>\n      <th>max</th>\n    </tr>\n  </thead>\n  <tbody>\n    <tr>\n      <th>recency</th>\n      <td>4338.0000</td>\n      <td>130.4486</td>\n      <td>132.0396</td>\n      <td>0.0000</td>\n      <td>0.0000</td>\n      <td>92.5000</td>\n      <td>251.7500</td>\n      <td>373.0000</td>\n    </tr>\n    <tr>\n      <th>T</th>\n      <td>4338.0000</td>\n      <td>223.8310</td>\n      <td>117.8546</td>\n      <td>1.0000</td>\n      <td>113.0000</td>\n      <td>249.0000</td>\n      <td>327.0000</td>\n      <td>374.0000</td>\n    </tr>\n    <tr>\n      <th>frequency</th>\n      <td>4338.0000</td>\n      <td>4.2720</td>\n      <td>7.6980</td>\n      <td>1.0000</td>\n      <td>1.0000</td>\n      <td>2.0000</td>\n      <td>5.0000</td>\n      <td>209.0000</td>\n    </tr>\n    <tr>\n      <th>monetary</th>\n      <td>4338.0000</td>\n      <td>364.1185</td>\n      <td>367.2582</td>\n      <td>3.4500</td>\n      <td>176.8512</td>\n      <td>288.2255</td>\n      <td>422.0294</td>\n      <td>6207.6700</td>\n    </tr>\n  </tbody>\n</table>\n</div>"
     },
     "execution_count": 48,
     "metadata": {},
     "output_type": "execute_result"
    }
   ],
   "source": [
    "# steps of creating a new dataframe to work on it called as cltv_df :\"recency', 'T', 'frequency', 'monetary\"\n",
    "\n",
    "cltv_df = df.groupby('Customer ID').agg(\n",
    "    {'InvoiceDate': [lambda InvoiceDate: (InvoiceDate.max() - InvoiceDate.min()).days,\n",
    "                     lambda InvoiceDate: (today_date - InvoiceDate.min()).days],\n",
    "     'Invoice': lambda Invoice: Invoice.nunique(),\n",
    "     'TotalPrice': lambda TotalPrice: TotalPrice.sum()})\n",
    "\n",
    "cltv_df.columns = cltv_df.columns.droplevel(0)\n",
    "\n",
    "cltv_df.columns = ['recency', 'T', 'frequency', 'monetary']\n",
    "\n",
    "cltv_df[\"monetary\"] = cltv_df[\"monetary\"] / cltv_df[\"frequency\"]\n",
    "\n",
    "cltv_df.describe().T"
   ],
   "metadata": {
    "collapsed": false
   }
  },
  {
   "cell_type": "code",
   "execution_count": 49,
   "outputs": [],
   "source": [
    "# Frequency should be at least 2 to filter repeated customers\n",
    "cltv_df = cltv_df[(cltv_df['frequency'] > 1)]"
   ],
   "metadata": {
    "collapsed": false
   }
  },
  {
   "cell_type": "code",
   "execution_count": 50,
   "outputs": [],
   "source": [
    "#receny and T values should be in weeks\n",
    "cltv_df[\"recency\"] = cltv_df[\"recency\"] / 7\n",
    "\n",
    "cltv_df[\"T\"] = cltv_df[\"T\"] / 7"
   ],
   "metadata": {
    "collapsed": false
   }
  },
  {
   "cell_type": "code",
   "execution_count": 51,
   "outputs": [],
   "source": [
    "##############################################################\n",
    "# 2. BG-NBD Model\n",
    "##############################################################"
   ],
   "metadata": {
    "collapsed": false
   }
  },
  {
   "cell_type": "code",
   "execution_count": 52,
   "outputs": [
    {
     "data": {
      "text/plain": "<lifetimes.BetaGeoFitter: fitted with 2845 subjects, a: 0.12, alpha: 11.41, b: 2.49, r: 2.18>"
     },
     "execution_count": 52,
     "metadata": {},
     "output_type": "execute_result"
    }
   ],
   "source": [
    "\n",
    "bgf = BetaGeoFitter(penalizer_coef=0.001)\n",
    "\n",
    "bgf.fit(cltv_df['frequency'],\n",
    "        cltv_df['recency'],\n",
    "        cltv_df['T'])"
   ],
   "metadata": {
    "collapsed": false
   }
  },
  {
   "cell_type": "code",
   "execution_count": 56,
   "outputs": [
    {
     "data": {
      "text/plain": "Customer ID\n12748.0000   3.2495\n14911.0000   3.1264\n17841.0000   1.9402\n13089.0000   1.5374\n14606.0000   1.4639\n15311.0000   1.4336\n12971.0000   1.3569\n14646.0000   1.2064\n13408.0000   0.9862\n18102.0000   0.9685\ndtype: float64"
     },
     "execution_count": 56,
     "metadata": {},
     "output_type": "execute_result"
    }
   ],
   "source": [
    "################################################################\n",
    "# Let's predict top 10 customers expected in next 1 week period\n",
    "################################################################\n",
    "\n",
    "bgf.conditional_expected_number_of_purchases_up_to_time(1,\n",
    "                                                        cltv_df['frequency'],\n",
    "                                                        cltv_df['recency'],\n",
    "                                                        cltv_df['T']).sort_values(ascending=False).head(10)\n",
    "# Same function\n",
    "bgf.predict(1,\n",
    "            cltv_df['frequency'],\n",
    "            cltv_df['recency'],\n",
    "            cltv_df['T']).sort_values(ascending=False).head(10)\n"
   ],
   "metadata": {
    "collapsed": false
   }
  },
  {
   "cell_type": "code",
   "execution_count": 57,
   "outputs": [
    {
     "data": {
      "text/plain": "             recency       T  frequency  monetary  expected_purc_1_week\nCustomer ID                                                            \n12347.0000   52.1429 52.5714          7  615.7143                0.1413\n12348.0000   40.2857 51.2857          4  442.6950                0.0920\n12352.0000   37.1429 42.4286          8  219.5425                0.1824\n12356.0000   43.1429 46.5714          3  937.1433                0.0862\n12358.0000   21.2857 21.5714          2  575.2100                0.1223",
      "text/html": "<div>\n<style scoped>\n    .dataframe tbody tr th:only-of-type {\n        vertical-align: middle;\n    }\n\n    .dataframe tbody tr th {\n        vertical-align: top;\n    }\n\n    .dataframe thead th {\n        text-align: right;\n    }\n</style>\n<table border=\"1\" class=\"dataframe\">\n  <thead>\n    <tr style=\"text-align: right;\">\n      <th></th>\n      <th>recency</th>\n      <th>T</th>\n      <th>frequency</th>\n      <th>monetary</th>\n      <th>expected_purc_1_week</th>\n    </tr>\n    <tr>\n      <th>Customer ID</th>\n      <th></th>\n      <th></th>\n      <th></th>\n      <th></th>\n      <th></th>\n    </tr>\n  </thead>\n  <tbody>\n    <tr>\n      <th>12347.0000</th>\n      <td>52.1429</td>\n      <td>52.5714</td>\n      <td>7</td>\n      <td>615.7143</td>\n      <td>0.1413</td>\n    </tr>\n    <tr>\n      <th>12348.0000</th>\n      <td>40.2857</td>\n      <td>51.2857</td>\n      <td>4</td>\n      <td>442.6950</td>\n      <td>0.0920</td>\n    </tr>\n    <tr>\n      <th>12352.0000</th>\n      <td>37.1429</td>\n      <td>42.4286</td>\n      <td>8</td>\n      <td>219.5425</td>\n      <td>0.1824</td>\n    </tr>\n    <tr>\n      <th>12356.0000</th>\n      <td>43.1429</td>\n      <td>46.5714</td>\n      <td>3</td>\n      <td>937.1433</td>\n      <td>0.0862</td>\n    </tr>\n    <tr>\n      <th>12358.0000</th>\n      <td>21.2857</td>\n      <td>21.5714</td>\n      <td>2</td>\n      <td>575.2100</td>\n      <td>0.1223</td>\n    </tr>\n  </tbody>\n</table>\n</div>"
     },
     "execution_count": 57,
     "metadata": {},
     "output_type": "execute_result"
    }
   ],
   "source": [
    "# let'precdict CLTV Scores for all customers\n",
    "cltv_df[\"expected_purc_1_week\"] = bgf.predict(1,\n",
    "                                              cltv_df['frequency'],\n",
    "                                              cltv_df['recency'],\n",
    "                                              cltv_df['T'])\n",
    "cltv_df.head()"
   ],
   "metadata": {
    "collapsed": false
   }
  },
  {
   "cell_type": "code",
   "execution_count": 58,
   "outputs": [
    {
     "data": {
      "text/plain": "Customer ID\n12748.0000   12.9633\n14911.0000   12.4722\n17841.0000    7.7398\n13089.0000    6.1330\n14606.0000    5.8399\ndtype: float64"
     },
     "execution_count": 58,
     "metadata": {},
     "output_type": "execute_result"
    }
   ],
   "source": [
    "################################################################\n",
    "# Let's predict top 5 customers expected in next 1 month period\n",
    "################################################################\n",
    "bgf.predict(4,\n",
    "            cltv_df['frequency'],\n",
    "            cltv_df['recency'],\n",
    "            cltv_df['T']).sort_values(ascending=False).head(5)\n"
   ],
   "metadata": {
    "collapsed": false
   }
  },
  {
   "cell_type": "code",
   "execution_count": 62,
   "outputs": [
    {
     "data": {
      "text/plain": "5271.112433826359"
     },
     "execution_count": 62,
     "metadata": {},
     "output_type": "execute_result"
    }
   ],
   "source": [
    "################################################################\n",
    "# Let's predict all revenues for next 3 months\n",
    "################################################################\n",
    "\n",
    "bgf.predict(4 * 3,\n",
    "            cltv_df['frequency'],\n",
    "            cltv_df['recency'],\n",
    "            cltv_df['T']).sum()"
   ],
   "metadata": {
    "collapsed": false
   }
  },
  {
   "cell_type": "code",
   "execution_count": 63,
   "outputs": [
    {
     "data": {
      "text/plain": "             recency       T  frequency  monetary  expected_purc_1_week  expected_purc_3_month\nCustomer ID                                                                                   \n12347.0000   52.1429 52.5714          7  615.7143                0.1413                 1.6784\n12348.0000   40.2857 51.2857          4  442.6950                0.0920                 1.0920\n12352.0000   37.1429 42.4286          8  219.5425                0.1824                 2.1631\n12356.0000   43.1429 46.5714          3  937.1433                0.0862                 1.0222\n12358.0000   21.2857 21.5714          2  575.2100                0.1223                 1.4388",
      "text/html": "<div>\n<style scoped>\n    .dataframe tbody tr th:only-of-type {\n        vertical-align: middle;\n    }\n\n    .dataframe tbody tr th {\n        vertical-align: top;\n    }\n\n    .dataframe thead th {\n        text-align: right;\n    }\n</style>\n<table border=\"1\" class=\"dataframe\">\n  <thead>\n    <tr style=\"text-align: right;\">\n      <th></th>\n      <th>recency</th>\n      <th>T</th>\n      <th>frequency</th>\n      <th>monetary</th>\n      <th>expected_purc_1_week</th>\n      <th>expected_purc_3_month</th>\n    </tr>\n    <tr>\n      <th>Customer ID</th>\n      <th></th>\n      <th></th>\n      <th></th>\n      <th></th>\n      <th></th>\n      <th></th>\n    </tr>\n  </thead>\n  <tbody>\n    <tr>\n      <th>12347.0000</th>\n      <td>52.1429</td>\n      <td>52.5714</td>\n      <td>7</td>\n      <td>615.7143</td>\n      <td>0.1413</td>\n      <td>1.6784</td>\n    </tr>\n    <tr>\n      <th>12348.0000</th>\n      <td>40.2857</td>\n      <td>51.2857</td>\n      <td>4</td>\n      <td>442.6950</td>\n      <td>0.0920</td>\n      <td>1.0920</td>\n    </tr>\n    <tr>\n      <th>12352.0000</th>\n      <td>37.1429</td>\n      <td>42.4286</td>\n      <td>8</td>\n      <td>219.5425</td>\n      <td>0.1824</td>\n      <td>2.1631</td>\n    </tr>\n    <tr>\n      <th>12356.0000</th>\n      <td>43.1429</td>\n      <td>46.5714</td>\n      <td>3</td>\n      <td>937.1433</td>\n      <td>0.0862</td>\n      <td>1.0222</td>\n    </tr>\n    <tr>\n      <th>12358.0000</th>\n      <td>21.2857</td>\n      <td>21.5714</td>\n      <td>2</td>\n      <td>575.2100</td>\n      <td>0.1223</td>\n      <td>1.4388</td>\n    </tr>\n  </tbody>\n</table>\n</div>"
     },
     "execution_count": 63,
     "metadata": {},
     "output_type": "execute_result"
    }
   ],
   "source": [
    "#Here we save it to dataframe\n",
    "cltv_df[\"expected_purc_3_month\"] = bgf.predict(4 * 3,\n",
    "                                               cltv_df['frequency'],\n",
    "                                               cltv_df['recency'],\n",
    "                                               cltv_df['T'])\n",
    "cltv_df.head()"
   ],
   "metadata": {
    "collapsed": false
   }
  },
  {
   "cell_type": "code",
   "execution_count": 64,
   "outputs": [
    {
     "data": {
      "text/plain": "<Figure size 640x480 with 1 Axes>",
      "image/png": "[encoded data removed]"
     },
     "metadata": {},
     "output_type": "display_data"
    }
   ],
   "source": [
    "################################################################\n",
    "# Evaluation of Prediction Results\n",
    "################################################################\n",
    "\n",
    "plot_period_transactions(bgf)\n",
    "plt.show()"
   ],
   "metadata": {
    "collapsed": false
   }
  },
  {
   "cell_type": "code",
   "execution_count": 65,
   "outputs": [
    {
     "data": {
      "text/plain": "Customer ID\n12415.0000   5772.1782\n12590.0000   5029.4196\n12435.0000   4288.9440\n12409.0000   3918.8128\n14088.0000   3917.1297\n18102.0000   3870.9969\n12753.0000   3678.5783\n14646.0000   3654.8148\n15749.0000   3216.0523\n14096.0000   3196.4361\ndtype: float64"
     },
     "execution_count": 65,
     "metadata": {},
     "output_type": "execute_result"
    }
   ],
   "source": [
    "##############################################################\n",
    "# 3. GAMMA-GAMMA Model\n",
    "##############################################################\n",
    "\n",
    "ggf = GammaGammaFitter(penalizer_coef=0.01)\n",
    "\n",
    "ggf.fit(cltv_df['frequency'], cltv_df['monetary'])\n",
    "\n",
    "ggf.conditional_expected_average_profit(cltv_df['frequency'],\n",
    "                                        cltv_df['monetary']).head(10)\n",
    "#Let's see top ten customers with expected average profit\n",
    "ggf.conditional_expected_average_profit(cltv_df['frequency'],\n",
    "                                        cltv_df['monetary']).sort_values(ascending=False).head(10)"
   ],
   "metadata": {
    "collapsed": false
   }
  },
  {
   "cell_type": "code",
   "execution_count": 66,
   "outputs": [
    {
     "data": {
      "text/plain": "             recency       T  frequency  monetary  expected_purc_1_week  expected_purc_3_month  expected_average_profit\nCustomer ID                                                                                                            \n12415.0000   44.7143 48.2857         21 5724.3026                0.3796                 4.5080                5772.1782\n12590.0000    0.0000 30.2857          2 4591.1725                0.0115                 0.1363                5029.4196\n12435.0000   26.8571 38.2857          2 3914.9450                0.0763                 0.9035                4288.9440\n12409.0000   14.7143 26.1429          3 3690.8900                0.1174                 1.3854                3918.8128\n14088.0000   44.5714 46.1429         13 3864.5546                0.2603                 3.0896                3917.1297",
      "text/html": "<div>\n<style scoped>\n    .dataframe tbody tr th:only-of-type {\n        vertical-align: middle;\n    }\n\n    .dataframe tbody tr th {\n        vertical-align: top;\n    }\n\n    .dataframe thead th {\n        text-align: right;\n    }\n</style>\n<table border=\"1\" class=\"dataframe\">\n  <thead>\n    <tr style=\"text-align: right;\">\n      <th></th>\n      <th>recency</th>\n      <th>T</th>\n      <th>frequency</th>\n      <th>monetary</th>\n      <th>expected_purc_1_week</th>\n      <th>expected_purc_3_month</th>\n      <th>expected_average_profit</th>\n    </tr>\n    <tr>\n      <th>Customer ID</th>\n      <th></th>\n      <th></th>\n      <th></th>\n      <th></th>\n      <th></th>\n      <th></th>\n      <th></th>\n    </tr>\n  </thead>\n  <tbody>\n    <tr>\n      <th>12415.0000</th>\n      <td>44.7143</td>\n      <td>48.2857</td>\n      <td>21</td>\n      <td>5724.3026</td>\n      <td>0.3796</td>\n      <td>4.5080</td>\n      <td>5772.1782</td>\n    </tr>\n    <tr>\n      <th>12590.0000</th>\n      <td>0.0000</td>\n      <td>30.2857</td>\n      <td>2</td>\n      <td>4591.1725</td>\n      <td>0.0115</td>\n      <td>0.1363</td>\n      <td>5029.4196</td>\n    </tr>\n    <tr>\n      <th>12435.0000</th>\n      <td>26.8571</td>\n      <td>38.2857</td>\n      <td>2</td>\n      <td>3914.9450</td>\n      <td>0.0763</td>\n      <td>0.9035</td>\n      <td>4288.9440</td>\n    </tr>\n    <tr>\n      <th>12409.0000</th>\n      <td>14.7143</td>\n      <td>26.1429</td>\n      <td>3</td>\n      <td>3690.8900</td>\n      <td>0.1174</td>\n      <td>1.3854</td>\n      <td>3918.8128</td>\n    </tr>\n    <tr>\n      <th>14088.0000</th>\n      <td>44.5714</td>\n      <td>46.1429</td>\n      <td>13</td>\n      <td>3864.5546</td>\n      <td>0.2603</td>\n      <td>3.0896</td>\n      <td>3917.1297</td>\n    </tr>\n  </tbody>\n</table>\n</div>"
     },
     "execution_count": 66,
     "metadata": {},
     "output_type": "execute_result"
    }
   ],
   "source": [
    "# Let's save it to dataframe\n",
    "cltv_df[\"expected_average_profit\"] = ggf.conditional_expected_average_profit(cltv_df['frequency'],\n",
    "                                                                             cltv_df['monetary'])\n",
    "cltv_df.sort_values(\"expected_average_profit\", ascending=False).head(5)"
   ],
   "metadata": {
    "collapsed": false
   }
  },
  {
   "cell_type": "code",
   "execution_count": 67,
   "outputs": [
    {
     "data": {
      "text/plain": "Customer ID\n12347.0000   1128.4477\n12348.0000    538.8089\n12352.0000    517.5000\n12356.0000   1083.0903\n12358.0000    966.6727\nName: clv, dtype: float64"
     },
     "execution_count": 67,
     "metadata": {},
     "output_type": "execute_result"
    }
   ],
   "source": [
    "##############################################################\n",
    "# CALCULATION OF CLTV SCORES WITH BG-NBD and GAMMA GAMMA MODELS.\n",
    "##############################################################\n",
    "\n",
    "cltv = ggf.customer_lifetime_value(bgf,\n",
    "                                   cltv_df['frequency'],\n",
    "                                   cltv_df['recency'],\n",
    "                                   cltv_df['T'],\n",
    "                                   cltv_df['monetary'],\n",
    "                                   time=3,  # 3 months\n",
    "                                   freq=\"W\",  # freqeuency  value of \"T\" in weeks.\n",
    "                                   discount_rate=0.01)\n",
    "\n",
    "cltv.head()"
   ],
   "metadata": {
    "collapsed": false
   }
  },
  {
   "cell_type": "code",
   "execution_count": 68,
   "outputs": [
    {
     "data": {
      "text/plain": "   Customer ID       clv\n0   12347.0000 1128.4477\n1   12348.0000  538.8089\n2   12352.0000  517.5000\n3   12356.0000 1083.0903\n4   12358.0000  966.6727",
      "text/html": "<div>\n<style scoped>\n    .dataframe tbody tr th:only-of-type {\n        vertical-align: middle;\n    }\n\n    .dataframe tbody tr th {\n        vertical-align: top;\n    }\n\n    .dataframe thead th {\n        text-align: right;\n    }\n</style>\n<table border=\"1\" class=\"dataframe\">\n  <thead>\n    <tr style=\"text-align: right;\">\n      <th></th>\n      <th>Customer ID</th>\n      <th>clv</th>\n    </tr>\n  </thead>\n  <tbody>\n    <tr>\n      <th>0</th>\n      <td>12347.0000</td>\n      <td>1128.4477</td>\n    </tr>\n    <tr>\n      <th>1</th>\n      <td>12348.0000</td>\n      <td>538.8089</td>\n    </tr>\n    <tr>\n      <th>2</th>\n      <td>12352.0000</td>\n      <td>517.5000</td>\n    </tr>\n    <tr>\n      <th>3</th>\n      <td>12356.0000</td>\n      <td>1083.0903</td>\n    </tr>\n    <tr>\n      <th>4</th>\n      <td>12358.0000</td>\n      <td>966.6727</td>\n    </tr>\n  </tbody>\n</table>\n</div>"
     },
     "execution_count": 68,
     "metadata": {},
     "output_type": "execute_result"
    }
   ],
   "source": [
    "cltv = cltv.reset_index()\n",
    "\n",
    "cltv.head()"
   ],
   "metadata": {
    "collapsed": false
   }
  },
  {
   "cell_type": "code",
   "execution_count": 69,
   "outputs": [
    {
     "data": {
      "text/plain": "      Customer ID  recency       T  frequency  monetary  expected_purc_1_week  expected_purc_3_month  expected_average_profit        clv\n1122   14646.0000  50.4286 50.7143         73 3646.0757                1.2064                14.3340                3654.8148 55741.0845\n2761   18102.0000  52.2857 52.5714         60 3859.7391                0.9685                11.5112                3870.9969 47412.5801\n843    14096.0000  13.8571 14.5714         17 3163.5882                0.7287                 8.5526                3196.4361 29061.6614\n36     12415.0000  44.7143 48.2857         21 5724.3026                0.3796                 4.5080                5772.1782 27685.1000\n1257   14911.0000  53.1429 53.4286        201  691.7101                3.1264                37.1641                 692.3264 27377.4115\n2458   17450.0000  51.2857 52.5714         46 2863.2749                0.7474                 8.8830                2874.1987 27166.0643\n874    14156.0000  51.5714 53.1429         55 2104.0267                0.8775                10.4298                2110.7542 23424.4032\n2487   17511.0000  52.8571 53.4286         31 2933.9431                0.5088                 6.0476                2950.5801 18986.6123\n2075   16684.0000  50.4286 51.2857         28 2209.9691                0.4781                 5.6801                2223.8850 13440.4131\n650    13694.0000  52.7143 53.4286         50 1275.7005                0.8008                 9.5186                1280.2183 12966.1347",
      "text/html": "<div>\n<style scoped>\n    .dataframe tbody tr th:only-of-type {\n        vertical-align: middle;\n    }\n\n    .dataframe tbody tr th {\n        vertical-align: top;\n    }\n\n    .dataframe thead th {\n        text-align: right;\n    }\n</style>\n<table border=\"1\" class=\"dataframe\">\n  <thead>\n    <tr style=\"text-align: right;\">\n      <th></th>\n      <th>Customer ID</th>\n      <th>recency</th>\n      <th>T</th>\n      <th>frequency</th>\n      <th>monetary</th>\n      <th>expected_purc_1_week</th>\n      <th>expected_purc_3_month</th>\n      <th>expected_average_profit</th>\n      <th>clv</th>\n    </tr>\n  </thead>\n  <tbody>\n    <tr>\n      <th>1122</th>\n      <td>14646.0000</td>\n      <td>50.4286</td>\n      <td>50.7143</td>\n      <td>73</td>\n      <td>3646.0757</td>\n      <td>1.2064</td>\n      <td>14.3340</td>\n      <td>3654.8148</td>\n      <td>55741.0845</td>\n    </tr>\n    <tr>\n      <th>2761</th>\n      <td>18102.0000</td>\n      <td>52.2857</td>\n      <td>52.5714</td>\n      <td>60</td>\n      <td>3859.7391</td>\n      <td>0.9685</td>\n      <td>11.5112</td>\n      <td>3870.9969</td>\n      <td>47412.5801</td>\n    </tr>\n    <tr>\n      <th>843</th>\n      <td>14096.0000</td>\n      <td>13.8571</td>\n      <td>14.5714</td>\n      <td>17</td>\n      <td>3163.5882</td>\n      <td>0.7287</td>\n      <td>8.5526</td>\n      <td>3196.4361</td>\n      <td>29061.6614</td>\n    </tr>\n    <tr>\n      <th>36</th>\n      <td>12415.0000</td>\n      <td>44.7143</td>\n      <td>48.2857</td>\n      <td>21</td>\n      <td>5724.3026</td>\n      <td>0.3796</td>\n      <td>4.5080</td>\n      <td>5772.1782</td>\n      <td>27685.1000</td>\n    </tr>\n    <tr>\n      <th>1257</th>\n      <td>14911.0000</td>\n      <td>53.1429</td>\n      <td>53.4286</td>\n      <td>201</td>\n      <td>691.7101</td>\n      <td>3.1264</td>\n      <td>37.1641</td>\n      <td>692.3264</td>\n      <td>27377.4115</td>\n    </tr>\n    <tr>\n      <th>2458</th>\n      <td>17450.0000</td>\n      <td>51.2857</td>\n      <td>52.5714</td>\n      <td>46</td>\n      <td>2863.2749</td>\n      <td>0.7474</td>\n      <td>8.8830</td>\n      <td>2874.1987</td>\n      <td>27166.0643</td>\n    </tr>\n    <tr>\n      <th>874</th>\n      <td>14156.0000</td>\n      <td>51.5714</td>\n      <td>53.1429</td>\n      <td>55</td>\n      <td>2104.0267</td>\n      <td>0.8775</td>\n      <td>10.4298</td>\n      <td>2110.7542</td>\n      <td>23424.4032</td>\n    </tr>\n    <tr>\n      <th>2487</th>\n      <td>17511.0000</td>\n      <td>52.8571</td>\n      <td>53.4286</td>\n      <td>31</td>\n      <td>2933.9431</td>\n      <td>0.5088</td>\n      <td>6.0476</td>\n      <td>2950.5801</td>\n      <td>18986.6123</td>\n    </tr>\n    <tr>\n      <th>2075</th>\n      <td>16684.0000</td>\n      <td>50.4286</td>\n      <td>51.2857</td>\n      <td>28</td>\n      <td>2209.9691</td>\n      <td>0.4781</td>\n      <td>5.6801</td>\n      <td>2223.8850</td>\n      <td>13440.4131</td>\n    </tr>\n    <tr>\n      <th>650</th>\n      <td>13694.0000</td>\n      <td>52.7143</td>\n      <td>53.4286</td>\n      <td>50</td>\n      <td>1275.7005</td>\n      <td>0.8008</td>\n      <td>9.5186</td>\n      <td>1280.2183</td>\n      <td>12966.1347</td>\n    </tr>\n  </tbody>\n</table>\n</div>"
     },
     "execution_count": 69,
     "metadata": {},
     "output_type": "execute_result"
    }
   ],
   "source": [
    "# MERGE IT TO CLTV_DF\n",
    "cltv_final = cltv_df.merge(cltv, on=\"Customer ID\", how=\"left\")\n",
    "cltv_final.sort_values(by=\"clv\", ascending=False).head(10)"
   ],
   "metadata": {
    "collapsed": false
   }
  },
  {
   "cell_type": "code",
   "execution_count": 70,
   "outputs": [
    {
     "data": {
      "text/plain": "      Customer ID  recency       T  frequency  monetary  expected_purc_1_week  expected_purc_3_month  expected_average_profit        clv segment\n1122   14646.0000  50.4286 50.7143         73 3646.0757                1.2064                14.3340                3654.8148 55741.0845       A\n2761   18102.0000  52.2857 52.5714         60 3859.7391                0.9685                11.5112                3870.9969 47412.5801       A\n843    14096.0000  13.8571 14.5714         17 3163.5882                0.7287                 8.5526                3196.4361 29061.6614       A\n36     12415.0000  44.7143 48.2857         21 5724.3026                0.3796                 4.5080                5772.1782 27685.1000       A\n1257   14911.0000  53.1429 53.4286        201  691.7101                3.1264                37.1641                 692.3264 27377.4115       A",
      "text/html": "<div>\n<style scoped>\n    .dataframe tbody tr th:only-of-type {\n        vertical-align: middle;\n    }\n\n    .dataframe tbody tr th {\n        vertical-align: top;\n    }\n\n    .dataframe thead th {\n        text-align: right;\n    }\n</style>\n<table border=\"1\" class=\"dataframe\">\n  <thead>\n    <tr style=\"text-align: right;\">\n      <th></th>\n      <th>Customer ID</th>\n      <th>recency</th>\n      <th>T</th>\n      <th>frequency</th>\n      <th>monetary</th>\n      <th>expected_purc_1_week</th>\n      <th>expected_purc_3_month</th>\n      <th>expected_average_profit</th>\n      <th>clv</th>\n      <th>segment</th>\n    </tr>\n  </thead>\n  <tbody>\n    <tr>\n      <th>1122</th>\n      <td>14646.0000</td>\n      <td>50.4286</td>\n      <td>50.7143</td>\n      <td>73</td>\n      <td>3646.0757</td>\n      <td>1.2064</td>\n      <td>14.3340</td>\n      <td>3654.8148</td>\n      <td>55741.0845</td>\n      <td>A</td>\n    </tr>\n    <tr>\n      <th>2761</th>\n      <td>18102.0000</td>\n      <td>52.2857</td>\n      <td>52.5714</td>\n      <td>60</td>\n      <td>3859.7391</td>\n      <td>0.9685</td>\n      <td>11.5112</td>\n      <td>3870.9969</td>\n      <td>47412.5801</td>\n      <td>A</td>\n    </tr>\n    <tr>\n      <th>843</th>\n      <td>14096.0000</td>\n      <td>13.8571</td>\n      <td>14.5714</td>\n      <td>17</td>\n      <td>3163.5882</td>\n      <td>0.7287</td>\n      <td>8.5526</td>\n      <td>3196.4361</td>\n      <td>29061.6614</td>\n      <td>A</td>\n    </tr>\n    <tr>\n      <th>36</th>\n      <td>12415.0000</td>\n      <td>44.7143</td>\n      <td>48.2857</td>\n      <td>21</td>\n      <td>5724.3026</td>\n      <td>0.3796</td>\n      <td>4.5080</td>\n      <td>5772.1782</td>\n      <td>27685.1000</td>\n      <td>A</td>\n    </tr>\n    <tr>\n      <th>1257</th>\n      <td>14911.0000</td>\n      <td>53.1429</td>\n      <td>53.4286</td>\n      <td>201</td>\n      <td>691.7101</td>\n      <td>3.1264</td>\n      <td>37.1641</td>\n      <td>692.3264</td>\n      <td>27377.4115</td>\n      <td>A</td>\n    </tr>\n  </tbody>\n</table>\n</div>"
     },
     "execution_count": 70,
     "metadata": {},
     "output_type": "execute_result"
    }
   ],
   "source": [
    "##############################################################\n",
    "# 5. Identifying New CLTV Segments\n",
    "##############################################################\n",
    "# New 4 segments have been identified from the bottom \"D\" to top \"A\" segments\n",
    "cltv_final\n",
    "\n",
    "cltv_final[\"segment\"] = pd.qcut(cltv_final[\"clv\"], 4, labels=[\"D\", \"C\", \"B\", \"A\"])\n",
    "\n",
    "cltv_final.sort_values(by=\"clv\", ascending=False).head()"
   ],
   "metadata": {
    "collapsed": false
   }
  },
  {
   "cell_type": "code",
   "execution_count": 71,
   "outputs": [
    {
     "data": {
      "text/plain": "          Customer ID                     recency                        T               frequency                  monetary                expected_purc_1_week              expected_purc_3_month              expected_average_profit                         clv                \n                  sum       mean count        sum    mean count        sum    mean count       sum    mean count         sum     mean count                  sum   mean count                   sum   mean count                     sum     mean count          sum      mean count\nsegment                                                                                                                                                                                                                                                                             \nD       11077635.0000 15558.4761   712 15716.5714 22.0738   712 28811.0000 40.4649   712      2182  3.0646   712 130981.7123 183.9631   712              50.5898 0.0711   712              598.0905 0.8400   712             141999.6650 199.4377   712  102027.4901  143.2970   712\nC       10885150.0000 15309.6343   711 21806.1429 30.6697   711 27097.0000 38.1111   711      2912  4.0956   711 193174.9847 271.6948   711              85.7309 0.1206   711             1013.2176 1.4251   711             206179.7461 289.9856   711  270743.0065  380.7919   711\nB       10915854.0000 15352.8186   711 20985.0000 29.5148   711 24751.1429 34.8117   711      3869  5.4416   711 265517.6312 373.4425   711             115.5066 0.1625   711             1362.6595 1.9165   711             280058.9431 393.8944   711  489356.3925  688.2650   711\nA       10627572.0000 14947.3586   711 22333.1429 31.4109   711 24518.1429 34.4840   711      8076 11.3586   711 469159.4581 659.8586   711             194.4993 0.2736   711             2297.1448 3.2309   711             487674.7239 685.8998   711 1580097.9284 2222.3600   711",
      "text/html": "<div>\n<style scoped>\n    .dataframe tbody tr th:only-of-type {\n        vertical-align: middle;\n    }\n\n    .dataframe tbody tr th {\n        vertical-align: top;\n    }\n\n    .dataframe thead tr th {\n        text-align: left;\n    }\n\n    .dataframe thead tr:last-of-type th {\n        text-align: right;\n    }\n</style>\n<table border=\"1\" class=\"dataframe\">\n  <thead>\n    <tr>\n      <th></th>\n      <th colspan=\"3\" halign=\"left\">Customer ID</th>\n      <th colspan=\"3\" halign=\"left\">recency</th>\n      <th colspan=\"3\" halign=\"left\">T</th>\n      <th colspan=\"3\" halign=\"left\">frequency</th>\n      <th colspan=\"3\" halign=\"left\">monetary</th>\n      <th colspan=\"3\" halign=\"left\">expected_purc_1_week</th>\n      <th colspan=\"3\" halign=\"left\">expected_purc_3_month</th>\n      <th colspan=\"3\" halign=\"left\">expected_average_profit</th>\n      <th colspan=\"3\" halign=\"left\">clv</th>\n    </tr>\n    <tr>\n      <th></th>\n      <th>sum</th>\n      <th>mean</th>\n      <th>count</th>\n      <th>sum</th>\n      <th>mean</th>\n      <th>count</th>\n      <th>sum</th>\n      <th>mean</th>\n      <th>count</th>\n      <th>sum</th>\n      <th>mean</th>\n      <th>count</th>\n      <th>sum</th>\n      <th>mean</th>\n      <th>count</th>\n      <th>sum</th>\n      <th>mean</th>\n      <th>count</th>\n      <th>sum</th>\n      <th>mean</th>\n      <th>count</th>\n      <th>sum</th>\n      <th>mean</th>\n      <th>count</th>\n      <th>sum</th>\n      <th>mean</th>\n      <th>count</th>\n    </tr>\n    <tr>\n      <th>segment</th>\n      <th></th>\n      <th></th>\n      <th></th>\n      <th></th>\n      <th></th>\n      <th></th>\n      <th></th>\n      <th></th>\n      <th></th>\n      <th></th>\n      <th></th>\n      <th></th>\n      <th></th>\n      <th></th>\n      <th></th>\n      <th></th>\n      <th></th>\n      <th></th>\n      <th></th>\n      <th></th>\n      <th></th>\n      <th></th>\n      <th></th>\n      <th></th>\n      <th></th>\n      <th></th>\n      <th></th>\n    </tr>\n  </thead>\n  <tbody>\n    <tr>\n      <th>D</th>\n      <td>11077635.0000</td>\n      <td>15558.4761</td>\n      <td>712</td>\n      <td>15716.5714</td>\n      <td>22.0738</td>\n      <td>712</td>\n      <td>28811.0000</td>\n      <td>40.4649</td>\n      <td>712</td>\n      <td>2182</td>\n      <td>3.0646</td>\n      <td>712</td>\n      <td>130981.7123</td>\n      <td>183.9631</td>\n      <td>712</td>\n      <td>50.5898</td>\n      <td>0.0711</td>\n      <td>712</td>\n      <td>598.0905</td>\n      <td>0.8400</td>\n      <td>712</td>\n      <td>141999.6650</td>\n      <td>199.4377</td>\n      <td>712</td>\n      <td>102027.4901</td>\n      <td>143.2970</td>\n      <td>712</td>\n    </tr>\n    <tr>\n      <th>C</th>\n      <td>10885150.0000</td>\n      <td>15309.6343</td>\n      <td>711</td>\n      <td>21806.1429</td>\n      <td>30.6697</td>\n      <td>711</td>\n      <td>27097.0000</td>\n      <td>38.1111</td>\n      <td>711</td>\n      <td>2912</td>\n      <td>4.0956</td>\n      <td>711</td>\n      <td>193174.9847</td>\n      <td>271.6948</td>\n      <td>711</td>\n      <td>85.7309</td>\n      <td>0.1206</td>\n      <td>711</td>\n      <td>1013.2176</td>\n      <td>1.4251</td>\n      <td>711</td>\n      <td>206179.7461</td>\n      <td>289.9856</td>\n      <td>711</td>\n      <td>270743.0065</td>\n      <td>380.7919</td>\n      <td>711</td>\n    </tr>\n    <tr>\n      <th>B</th>\n      <td>10915854.0000</td>\n      <td>15352.8186</td>\n      <td>711</td>\n      <td>20985.0000</td>\n      <td>29.5148</td>\n      <td>711</td>\n      <td>24751.1429</td>\n      <td>34.8117</td>\n      <td>711</td>\n      <td>3869</td>\n      <td>5.4416</td>\n      <td>711</td>\n      <td>265517.6312</td>\n      <td>373.4425</td>\n      <td>711</td>\n      <td>115.5066</td>\n      <td>0.1625</td>\n      <td>711</td>\n      <td>1362.6595</td>\n      <td>1.9165</td>\n      <td>711</td>\n      <td>280058.9431</td>\n      <td>393.8944</td>\n      <td>711</td>\n      <td>489356.3925</td>\n      <td>688.2650</td>\n      <td>711</td>\n    </tr>\n    <tr>\n      <th>A</th>\n      <td>10627572.0000</td>\n      <td>14947.3586</td>\n      <td>711</td>\n      <td>22333.1429</td>\n      <td>31.4109</td>\n      <td>711</td>\n      <td>24518.1429</td>\n      <td>34.4840</td>\n      <td>711</td>\n      <td>8076</td>\n      <td>11.3586</td>\n      <td>711</td>\n      <td>469159.4581</td>\n      <td>659.8586</td>\n      <td>711</td>\n      <td>194.4993</td>\n      <td>0.2736</td>\n      <td>711</td>\n      <td>2297.1448</td>\n      <td>3.2309</td>\n      <td>711</td>\n      <td>487674.7239</td>\n      <td>685.8998</td>\n      <td>711</td>\n      <td>1580097.9284</td>\n      <td>2222.3600</td>\n      <td>711</td>\n    </tr>\n  </tbody>\n</table>\n</div>"
     },
     "execution_count": 71,
     "metadata": {},
     "output_type": "execute_result"
    }
   ],
   "source": [
    "#Here we take descriptive statistics for the segments\n",
    "cltv_c.groupby(\"segment\").agg({\"count\", \"mean\", \"sum\"})\n",
    "cltv_final.groupby(\"segment\").agg(\n",
    "    {\"count\", \"mean\", \"sum\"})\n"
   ],
   "metadata": {
    "collapsed": false
   }
  },
  {
   "cell_type": "code",
   "execution_count": null,
   "outputs": [],
   "source": [],
   "metadata": {
    "collapsed": false
   }
  }
 ],
 "metadata": {
  "kernelspec": {
   "display_name": "Python 3",
   "language": "python",
   "name": "python3"
  },
  "language_info": {
   "codemirror_mode": {
    "name": "ipython",
    "version": 2
   },
   "file_extension": ".py",
   "mimetype": "text/x-python",
   "name": "python",
   "nbconvert_exporter": "python",
   "pygments_lexer": "ipython2",
   "version": "2.7.6"
  }
 },
 "nbformat": 4,
 "nbformat_minor": 0
}
