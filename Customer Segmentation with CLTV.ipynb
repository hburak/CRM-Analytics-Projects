{
 "cells": [
  {
   "cell_type": "code",
   "execution_count": 14,
   "outputs": [],
   "source": [
    "############################################\n",
    "# CUSTOMER LIFETIME VALUE SEGMENTATION ON ONLINE RETAILS DATASET\n",
    "############################################\n"
   ],
   "metadata": {
    "collapsed": false
   }
  },
  {
   "cell_type": "markdown",
   "source": [
    "#####################################################\n",
    "# DATASET\n",
    "#####################################################\n",
    "#This is a transnational data set which contains all the transactions occurring between 01/12/2010 and 09/12/2011 for a UK-based and registered #non-store online retail.The company mainly sells unique all-occasion gifts. Many customers of the company are wholesalers.\n",
    "## https://archive.ics.uci.edu/ml/datasets/Online+Retail+II\n",
    "\n",
    "#Attribute Information\n",
    "#Additional Information\n",
    "\n",
    "#InvoiceNo: Invoice number. Nominal, a 6-digit integral number uniquely assigned to each transaction. If this code starts with letter 'c', it #indicates a cancellation.\n",
    "#StockCode: Product (item) code. Nominal, a 5-digit integral number uniquely assigned to each distinct product.\n",
    "#Description: Product (item) name. Nominal.\n",
    "#Quantity: The quantities of each product (item) per transaction. Numeric.\n",
    "#InvoiceDate: Invice Date and time. Numeric, the day and time when each transaction was generated.\n",
    "#UnitPrice: Unit price. Numeric, Product price per unit in sterling.\n",
    "#CustomerID: Customer number. Nominal, a 5-digit integral number uniquely assigned to each customer.\n",
    "#Country: Country name. Nominal, the name of the country where each customer resides.\n",
    "\n"
   ],
   "metadata": {
    "collapsed": false
   }
  },
  {
   "cell_type": "code",
   "execution_count": 15,
   "outputs": [
    {
     "data": {
      "text/plain": "  Invoice StockCode                          Description  Quantity  \\\n0  489434     85048  15CM CHRISTMAS GLASS BALL 20 LIGHTS        12   \n1  489434    79323P                   PINK CHERRY LIGHTS        12   \n2  489434    79323W                  WHITE CHERRY LIGHTS        12   \n3  489434     22041         RECORD FRAME 7\" SINGLE SIZE         48   \n4  489434     21232       STRAWBERRY CERAMIC TRINKET BOX        24   \n\n          InvoiceDate   Price  Customer ID         Country  \n0 2009-12-01 07:45:00 6.95000  13085.00000  United Kingdom  \n1 2009-12-01 07:45:00 6.75000  13085.00000  United Kingdom  \n2 2009-12-01 07:45:00 6.75000  13085.00000  United Kingdom  \n3 2009-12-01 07:45:00 2.10000  13085.00000  United Kingdom  \n4 2009-12-01 07:45:00 1.25000  13085.00000  United Kingdom  ",
      "text/html": "<div>\n<style scoped>\n    .dataframe tbody tr th:only-of-type {\n        vertical-align: middle;\n    }\n\n    .dataframe tbody tr th {\n        vertical-align: top;\n    }\n\n    .dataframe thead th {\n        text-align: right;\n    }\n</style>\n<table border=\"1\" class=\"dataframe\">\n  <thead>\n    <tr style=\"text-align: right;\">\n      <th></th>\n      <th>Invoice</th>\n      <th>StockCode</th>\n      <th>Description</th>\n      <th>Quantity</th>\n      <th>InvoiceDate</th>\n      <th>Price</th>\n      <th>Customer ID</th>\n      <th>Country</th>\n    </tr>\n  </thead>\n  <tbody>\n    <tr>\n      <th>0</th>\n      <td>489434</td>\n      <td>85048</td>\n      <td>15CM CHRISTMAS GLASS BALL 20 LIGHTS</td>\n      <td>12</td>\n      <td>2009-12-01 07:45:00</td>\n      <td>6.95000</td>\n      <td>13085.00000</td>\n      <td>United Kingdom</td>\n    </tr>\n    <tr>\n      <th>1</th>\n      <td>489434</td>\n      <td>79323P</td>\n      <td>PINK CHERRY LIGHTS</td>\n      <td>12</td>\n      <td>2009-12-01 07:45:00</td>\n      <td>6.75000</td>\n      <td>13085.00000</td>\n      <td>United Kingdom</td>\n    </tr>\n    <tr>\n      <th>2</th>\n      <td>489434</td>\n      <td>79323W</td>\n      <td>WHITE CHERRY LIGHTS</td>\n      <td>12</td>\n      <td>2009-12-01 07:45:00</td>\n      <td>6.75000</td>\n      <td>13085.00000</td>\n      <td>United Kingdom</td>\n    </tr>\n    <tr>\n      <th>3</th>\n      <td>489434</td>\n      <td>22041</td>\n      <td>RECORD FRAME 7\" SINGLE SIZE</td>\n      <td>48</td>\n      <td>2009-12-01 07:45:00</td>\n      <td>2.10000</td>\n      <td>13085.00000</td>\n      <td>United Kingdom</td>\n    </tr>\n    <tr>\n      <th>4</th>\n      <td>489434</td>\n      <td>21232</td>\n      <td>STRAWBERRY CERAMIC TRINKET BOX</td>\n      <td>24</td>\n      <td>2009-12-01 07:45:00</td>\n      <td>1.25000</td>\n      <td>13085.00000</td>\n      <td>United Kingdom</td>\n    </tr>\n  </tbody>\n</table>\n</div>"
     },
     "execution_count": 15,
     "metadata": {},
     "output_type": "execute_result"
    }
   ],
   "source": [
    "###############################################################\n",
    "# TASK 1: DATA PREPROCESSING and INITIAL ANALYSIS\n",
    "###############################################################\n",
    "\n",
    "import pandas as pd\n",
    "from sklearn.preprocessing import MinMaxScaler\n",
    "pd.set_option('display.max_columns', None)\n",
    "# pd.set_option('display.max_rows', None)\n",
    "pd.set_option('display.float_format', lambda x: '%.5f' % x)\n",
    "\n",
    "# Here we read the data\n",
    "df_ = pd.read_excel(\"online_retail_II.xlsx\", sheet_name=\"Year 2009-2010\")\n",
    "df = df_.copy()\n",
    "df.head()"
   ],
   "metadata": {
    "collapsed": false
   }
  },
  {
   "cell_type": "code",
   "execution_count": 16,
   "outputs": [
    {
     "data": {
      "text/plain": "Invoice             0\nStockCode           0\nDescription      2928\nQuantity            0\nInvoiceDate         0\nPrice               0\nCustomer ID    107927\nCountry             0\ndtype: int64"
     },
     "execution_count": 16,
     "metadata": {},
     "output_type": "execute_result"
    }
   ],
   "source": [
    "df.isnull().sum()"
   ],
   "metadata": {
    "collapsed": false
   }
  },
  {
   "cell_type": "code",
   "execution_count": 17,
   "outputs": [
    {
     "data": {
      "text/plain": "                   count        mean        std          min         25%  \\\nQuantity    525461.00000    10.33767  107.42411  -9600.00000     1.00000   \nPrice       525461.00000     4.68883  146.12691 -53594.36000     1.25000   \nCustomer ID 417534.00000 15360.64548 1680.81132  12346.00000 13983.00000   \n\n                    50%         75%         max  \nQuantity        3.00000    10.00000 19152.00000  \nPrice           2.10000     4.21000 25111.09000  \nCustomer ID 15311.00000 16799.00000 18287.00000  ",
      "text/html": "<div>\n<style scoped>\n    .dataframe tbody tr th:only-of-type {\n        vertical-align: middle;\n    }\n\n    .dataframe tbody tr th {\n        vertical-align: top;\n    }\n\n    .dataframe thead th {\n        text-align: right;\n    }\n</style>\n<table border=\"1\" class=\"dataframe\">\n  <thead>\n    <tr style=\"text-align: right;\">\n      <th></th>\n      <th>count</th>\n      <th>mean</th>\n      <th>std</th>\n      <th>min</th>\n      <th>25%</th>\n      <th>50%</th>\n      <th>75%</th>\n      <th>max</th>\n    </tr>\n  </thead>\n  <tbody>\n    <tr>\n      <th>Quantity</th>\n      <td>525461.00000</td>\n      <td>10.33767</td>\n      <td>107.42411</td>\n      <td>-9600.00000</td>\n      <td>1.00000</td>\n      <td>3.00000</td>\n      <td>10.00000</td>\n      <td>19152.00000</td>\n    </tr>\n    <tr>\n      <th>Price</th>\n      <td>525461.00000</td>\n      <td>4.68883</td>\n      <td>146.12691</td>\n      <td>-53594.36000</td>\n      <td>1.25000</td>\n      <td>2.10000</td>\n      <td>4.21000</td>\n      <td>25111.09000</td>\n    </tr>\n    <tr>\n      <th>Customer ID</th>\n      <td>417534.00000</td>\n      <td>15360.64548</td>\n      <td>1680.81132</td>\n      <td>12346.00000</td>\n      <td>13983.00000</td>\n      <td>15311.00000</td>\n      <td>16799.00000</td>\n      <td>18287.00000</td>\n    </tr>\n  </tbody>\n</table>\n</div>"
     },
     "execution_count": 17,
     "metadata": {},
     "output_type": "execute_result"
    }
   ],
   "source": [
    "df.describe().T"
   ],
   "metadata": {
    "collapsed": false
   }
  },
  {
   "cell_type": "code",
   "execution_count": 18,
   "outputs": [],
   "source": [
    "#There was a known issue in the story of this dataset. In the Invoice part, there were statements with C at the beginning.\n",
    "# These are returned purchases. And causing – (negative) values. These observations negatively affects the variables of quantity and price.\n",
    "# Let's delete these negative values first.\n",
    "df = df[~df[\"Invoice\"].str.contains(\"C\", na=False)]"
   ],
   "metadata": {
    "collapsed": false
   }
  },
  {
   "cell_type": "code",
   "execution_count": 19,
   "outputs": [
    {
     "data": {
      "text/plain": "                   count        mean        std          min         25%  \\\nQuantity    515255.00000    10.95663  104.35401  -9600.00000     1.00000   \nPrice       515255.00000     3.95637  127.68856 -53594.36000     1.25000   \nCustomer ID 407695.00000 15368.50411 1679.79570  12346.00000 13997.00000   \n\n                    50%         75%         max  \nQuantity        3.00000    10.00000 19152.00000  \nPrice           2.10000     4.21000 25111.09000  \nCustomer ID 15321.00000 16812.00000 18287.00000  ",
      "text/html": "<div>\n<style scoped>\n    .dataframe tbody tr th:only-of-type {\n        vertical-align: middle;\n    }\n\n    .dataframe tbody tr th {\n        vertical-align: top;\n    }\n\n    .dataframe thead th {\n        text-align: right;\n    }\n</style>\n<table border=\"1\" class=\"dataframe\">\n  <thead>\n    <tr style=\"text-align: right;\">\n      <th></th>\n      <th>count</th>\n      <th>mean</th>\n      <th>std</th>\n      <th>min</th>\n      <th>25%</th>\n      <th>50%</th>\n      <th>75%</th>\n      <th>max</th>\n    </tr>\n  </thead>\n  <tbody>\n    <tr>\n      <th>Quantity</th>\n      <td>515255.00000</td>\n      <td>10.95663</td>\n      <td>104.35401</td>\n      <td>-9600.00000</td>\n      <td>1.00000</td>\n      <td>3.00000</td>\n      <td>10.00000</td>\n      <td>19152.00000</td>\n    </tr>\n    <tr>\n      <th>Price</th>\n      <td>515255.00000</td>\n      <td>3.95637</td>\n      <td>127.68856</td>\n      <td>-53594.36000</td>\n      <td>1.25000</td>\n      <td>2.10000</td>\n      <td>4.21000</td>\n      <td>25111.09000</td>\n    </tr>\n    <tr>\n      <th>Customer ID</th>\n      <td>407695.00000</td>\n      <td>15368.50411</td>\n      <td>1679.79570</td>\n      <td>12346.00000</td>\n      <td>13997.00000</td>\n      <td>15321.00000</td>\n      <td>16812.00000</td>\n      <td>18287.00000</td>\n    </tr>\n  </tbody>\n</table>\n</div>"
     },
     "execution_count": 19,
     "metadata": {},
     "output_type": "execute_result"
    }
   ],
   "source": [
    "df.describe().T"
   ],
   "metadata": {
    "collapsed": false
   }
  },
  {
   "cell_type": "code",
   "execution_count": 20,
   "outputs": [],
   "source": [
    "# After A describe query, here we see negative values in quantity and price variable. We need to fix this problem as well\n",
    "df = df[(df['Quantity'] > 0)]"
   ],
   "metadata": {
    "collapsed": false
   }
  },
  {
   "cell_type": "code",
   "execution_count": 21,
   "outputs": [],
   "source": [
    "# Lets fix price variable\n",
    "df = df[(df[\"Price\"] >0)]"
   ],
   "metadata": {
    "collapsed": false
   }
  },
  {
   "cell_type": "code",
   "execution_count": 22,
   "outputs": [],
   "source": [
    "# We need to create new variable called \"TotalPrice\" in order to use it in CLTV score\n",
    "df[\"TotalPrice\"] = df[\"Quantity\"] * df[\"Price\"]"
   ],
   "metadata": {
    "collapsed": false
   }
  },
  {
   "cell_type": "code",
   "execution_count": 23,
   "outputs": [],
   "source": [
    "#Let's drop NULL values, our dataset is rich enough\n",
    "df.dropna(inplace=True)"
   ],
   "metadata": {
    "collapsed": false
   }
  },
  {
   "cell_type": "code",
   "execution_count": 24,
   "outputs": [],
   "source": [
    "#Below is a function that calculates the invoice and total_price variables that required for calculating cltv score, for each customer . #Cltvcalculation will be made according to these results.\n",
    "\n",
    "cltv_c = df.groupby('Customer ID').agg({'Invoice': lambda x: x.nunique(),\n",
    "                                        'Quantity': lambda x: x.sum(),\n",
    "                                        'TotalPrice': lambda x: x.sum()})\n",
    "# Here we rename our new variable\n",
    "cltv_c.columns = ['total_transaction', 'total_unit', 'total_price']"
   ],
   "metadata": {
    "collapsed": false
   }
  },
  {
   "cell_type": "code",
   "execution_count": 25,
   "outputs": [],
   "source": [
    "##################################################\n",
    "# 2. Average Order Value (average_order_value = total_price / total_transaction)\n",
    "##################################################\n",
    "\n",
    "#Below, we have calculated and saved the Average Order Value for each customer, which is required for the customer value calculation.\n",
    "\n",
    "cltv_c.head()\n",
    "cltv_c[\"average_order_value\"] = cltv_c[\"total_price\"] / cltv_c[\"total_transaction\"]\n"
   ],
   "metadata": {
    "collapsed": false
   }
  },
  {
   "cell_type": "code",
   "execution_count": 26,
   "outputs": [],
   "source": [
    "##################################################\n",
    "# 3. Purchase Frequency (total_transaction / total_number_of_customers)\n",
    "##################################################\n",
    "# Since we have listed all purchases grouped by each unique customer, now we can see Purchase Frequency variable which is needed as well\n",
    "cltv_c.head()\n",
    "# shape of cltv_c dataframe gives the total number of all our customers.\n",
    "cltv_c.shape[0]\n",
    "cltv_c[\"purchase_frequency\"] = cltv_c[\"total_transaction\"] / cltv_c.shape[0]"
   ],
   "metadata": {
    "collapsed": false
   }
  },
  {
   "cell_type": "code",
   "execution_count": 27,
   "outputs": [
    {
     "data": {
      "text/plain": "(4312, 5)"
     },
     "execution_count": 27,
     "metadata": {},
     "output_type": "execute_result"
    }
   ],
   "source": [
    "cltv_c.shape"
   ],
   "metadata": {
    "collapsed": false
   }
  },
  {
   "cell_type": "code",
   "execution_count": 29,
   "outputs": [],
   "source": [
    "##################################################\n",
    "# 4. Repeat Rate & Churn Rate (birden fazla alışveriş yapan müşteri sayısı / tüm müşteriler)\n",
    "##################################################\n",
    "\n",
    "#If we take indexing shape of total transactions which indicate at least 2 transactions, that will give us the nr. of repeated customers.\n",
    "# then we need to divide to nr. of  all the customers.\n",
    "\n",
    "repeat_rate = cltv_c[cltv_c[\"total_transaction\"] > 1].shape[0] / cltv_c.shape[0]\n",
    "\n",
    "churn_rate = 1 - repeat_rate"
   ],
   "metadata": {
    "collapsed": false
   }
  },
  {
   "cell_type": "code",
   "execution_count": 30,
   "outputs": [
    {
     "data": {
      "text/plain": "0.32908163265306123"
     },
     "execution_count": 30,
     "metadata": {},
     "output_type": "execute_result"
    }
   ],
   "source": [
    "churn_rate"
   ],
   "metadata": {
    "collapsed": false
   }
  },
  {
   "cell_type": "code",
   "execution_count": 31,
   "outputs": [
    {
     "data": {
      "text/plain": "             total_transaction  total_unit  total_price  average_order_value  \\\nCustomer ID                                                                    \n12346.00000                 11          70    372.86000             33.89636   \n12347.00000                  2         828   1323.32000            661.66000   \n12348.00000                  1         373    222.16000            222.16000   \n12349.00000                  3         993   2671.14000            890.38000   \n12351.00000                  1         261    300.93000            300.93000   \n\n             purchase_frequency  profit_margin  \nCustomer ID                                     \n12346.00000             0.00255       37.28600  \n12347.00000             0.00046      132.33200  \n12348.00000             0.00023       22.21600  \n12349.00000             0.00070      267.11400  \n12351.00000             0.00023       30.09300  ",
      "text/html": "<div>\n<style scoped>\n    .dataframe tbody tr th:only-of-type {\n        vertical-align: middle;\n    }\n\n    .dataframe tbody tr th {\n        vertical-align: top;\n    }\n\n    .dataframe thead th {\n        text-align: right;\n    }\n</style>\n<table border=\"1\" class=\"dataframe\">\n  <thead>\n    <tr style=\"text-align: right;\">\n      <th></th>\n      <th>total_transaction</th>\n      <th>total_unit</th>\n      <th>total_price</th>\n      <th>average_order_value</th>\n      <th>purchase_frequency</th>\n      <th>profit_margin</th>\n    </tr>\n    <tr>\n      <th>Customer ID</th>\n      <th></th>\n      <th></th>\n      <th></th>\n      <th></th>\n      <th></th>\n      <th></th>\n    </tr>\n  </thead>\n  <tbody>\n    <tr>\n      <th>12346.00000</th>\n      <td>11</td>\n      <td>70</td>\n      <td>372.86000</td>\n      <td>33.89636</td>\n      <td>0.00255</td>\n      <td>37.28600</td>\n    </tr>\n    <tr>\n      <th>12347.00000</th>\n      <td>2</td>\n      <td>828</td>\n      <td>1323.32000</td>\n      <td>661.66000</td>\n      <td>0.00046</td>\n      <td>132.33200</td>\n    </tr>\n    <tr>\n      <th>12348.00000</th>\n      <td>1</td>\n      <td>373</td>\n      <td>222.16000</td>\n      <td>222.16000</td>\n      <td>0.00023</td>\n      <td>22.21600</td>\n    </tr>\n    <tr>\n      <th>12349.00000</th>\n      <td>3</td>\n      <td>993</td>\n      <td>2671.14000</td>\n      <td>890.38000</td>\n      <td>0.00070</td>\n      <td>267.11400</td>\n    </tr>\n    <tr>\n      <th>12351.00000</th>\n      <td>1</td>\n      <td>261</td>\n      <td>300.93000</td>\n      <td>300.93000</td>\n      <td>0.00023</td>\n      <td>30.09300</td>\n    </tr>\n  </tbody>\n</table>\n</div>"
     },
     "execution_count": 31,
     "metadata": {},
     "output_type": "execute_result"
    }
   ],
   "source": [
    "##################################################\n",
    "# 5. Profit Margin (profit_margin =  total_price * 0.10)\n",
    "##################################################\n",
    "#If we set Profit Margin as 0.10\n",
    "cltv_c['profit_margin'] = cltv_c['total_price'] * 0.10\n",
    "cltv_c.head()"
   ],
   "metadata": {
    "collapsed": false
   }
  },
  {
   "cell_type": "code",
   "execution_count": 32,
   "outputs": [],
   "source": [
    "##################################################\n",
    "# 6. Customer Value (customer_value = average_order_value * purchase_frequency)\n",
    "##################################################\n",
    "# Customer Value is calculated as below\n",
    "cltv_c['customer_value'] = cltv_c['average_order_value'] * cltv_c[\"purchase_frequency\"]"
   ],
   "metadata": {
    "collapsed": false
   }
  },
  {
   "cell_type": "code",
   "execution_count": 33,
   "outputs": [
    {
     "data": {
      "text/plain": "             total_transaction  total_unit  total_price  average_order_value  \\\nCustomer ID                                                                    \n12346.00000                 11          70    372.86000             33.89636   \n12347.00000                  2         828   1323.32000            661.66000   \n12348.00000                  1         373    222.16000            222.16000   \n12349.00000                  3         993   2671.14000            890.38000   \n12351.00000                  1         261    300.93000            300.93000   \n\n             purchase_frequency  profit_margin  customer_value  \nCustomer ID                                                     \n12346.00000             0.00255       37.28600         0.08647  \n12347.00000             0.00046      132.33200         0.30689  \n12348.00000             0.00023       22.21600         0.05152  \n12349.00000             0.00070      267.11400         0.61947  \n12351.00000             0.00023       30.09300         0.06979  ",
      "text/html": "<div>\n<style scoped>\n    .dataframe tbody tr th:only-of-type {\n        vertical-align: middle;\n    }\n\n    .dataframe tbody tr th {\n        vertical-align: top;\n    }\n\n    .dataframe thead th {\n        text-align: right;\n    }\n</style>\n<table border=\"1\" class=\"dataframe\">\n  <thead>\n    <tr style=\"text-align: right;\">\n      <th></th>\n      <th>total_transaction</th>\n      <th>total_unit</th>\n      <th>total_price</th>\n      <th>average_order_value</th>\n      <th>purchase_frequency</th>\n      <th>profit_margin</th>\n      <th>customer_value</th>\n    </tr>\n    <tr>\n      <th>Customer ID</th>\n      <th></th>\n      <th></th>\n      <th></th>\n      <th></th>\n      <th></th>\n      <th></th>\n      <th></th>\n    </tr>\n  </thead>\n  <tbody>\n    <tr>\n      <th>12346.00000</th>\n      <td>11</td>\n      <td>70</td>\n      <td>372.86000</td>\n      <td>33.89636</td>\n      <td>0.00255</td>\n      <td>37.28600</td>\n      <td>0.08647</td>\n    </tr>\n    <tr>\n      <th>12347.00000</th>\n      <td>2</td>\n      <td>828</td>\n      <td>1323.32000</td>\n      <td>661.66000</td>\n      <td>0.00046</td>\n      <td>132.33200</td>\n      <td>0.30689</td>\n    </tr>\n    <tr>\n      <th>12348.00000</th>\n      <td>1</td>\n      <td>373</td>\n      <td>222.16000</td>\n      <td>222.16000</td>\n      <td>0.00023</td>\n      <td>22.21600</td>\n      <td>0.05152</td>\n    </tr>\n    <tr>\n      <th>12349.00000</th>\n      <td>3</td>\n      <td>993</td>\n      <td>2671.14000</td>\n      <td>890.38000</td>\n      <td>0.00070</td>\n      <td>267.11400</td>\n      <td>0.61947</td>\n    </tr>\n    <tr>\n      <th>12351.00000</th>\n      <td>1</td>\n      <td>261</td>\n      <td>300.93000</td>\n      <td>300.93000</td>\n      <td>0.00023</td>\n      <td>30.09300</td>\n      <td>0.06979</td>\n    </tr>\n  </tbody>\n</table>\n</div>"
     },
     "execution_count": 33,
     "metadata": {},
     "output_type": "execute_result"
    }
   ],
   "source": [
    "cltv_c.head()"
   ],
   "metadata": {
    "collapsed": false
   }
  },
  {
   "cell_type": "code",
   "execution_count": 34,
   "outputs": [
    {
     "data": {
      "text/plain": "             total_transaction  total_unit  total_price  average_order_value  \\\nCustomer ID                                                                    \n18102.00000                 89      124216 349164.35000           3923.19494   \n14646.00000                 78      170278 248396.50000           3184.57051   \n14156.00000                102      108107 196566.74000           1927.12490   \n14911.00000                205       69722 152147.57000            742.18327   \n13694.00000                 94      125893 131443.19000           1398.33181   \n\n             purchase_frequency  profit_margin  customer_value          cltv  \nCustomer ID                                                                   \n18102.00000             0.02064    34916.43500        80.97503 8591666.19527  \n14646.00000             0.01809    24839.65000        57.60587 4348190.36027  \n14156.00000             0.02365    19656.67400        45.58598 2722937.51052  \n14911.00000             0.04754    15214.75700        35.28469 1631351.87152  \n13694.00000             0.02180    13144.31900        30.48311 1217569.56993  ",
      "text/html": "<div>\n<style scoped>\n    .dataframe tbody tr th:only-of-type {\n        vertical-align: middle;\n    }\n\n    .dataframe tbody tr th {\n        vertical-align: top;\n    }\n\n    .dataframe thead th {\n        text-align: right;\n    }\n</style>\n<table border=\"1\" class=\"dataframe\">\n  <thead>\n    <tr style=\"text-align: right;\">\n      <th></th>\n      <th>total_transaction</th>\n      <th>total_unit</th>\n      <th>total_price</th>\n      <th>average_order_value</th>\n      <th>purchase_frequency</th>\n      <th>profit_margin</th>\n      <th>customer_value</th>\n      <th>cltv</th>\n    </tr>\n    <tr>\n      <th>Customer ID</th>\n      <th></th>\n      <th></th>\n      <th></th>\n      <th></th>\n      <th></th>\n      <th></th>\n      <th></th>\n      <th></th>\n    </tr>\n  </thead>\n  <tbody>\n    <tr>\n      <th>18102.00000</th>\n      <td>89</td>\n      <td>124216</td>\n      <td>349164.35000</td>\n      <td>3923.19494</td>\n      <td>0.02064</td>\n      <td>34916.43500</td>\n      <td>80.97503</td>\n      <td>8591666.19527</td>\n    </tr>\n    <tr>\n      <th>14646.00000</th>\n      <td>78</td>\n      <td>170278</td>\n      <td>248396.50000</td>\n      <td>3184.57051</td>\n      <td>0.01809</td>\n      <td>24839.65000</td>\n      <td>57.60587</td>\n      <td>4348190.36027</td>\n    </tr>\n    <tr>\n      <th>14156.00000</th>\n      <td>102</td>\n      <td>108107</td>\n      <td>196566.74000</td>\n      <td>1927.12490</td>\n      <td>0.02365</td>\n      <td>19656.67400</td>\n      <td>45.58598</td>\n      <td>2722937.51052</td>\n    </tr>\n    <tr>\n      <th>14911.00000</th>\n      <td>205</td>\n      <td>69722</td>\n      <td>152147.57000</td>\n      <td>742.18327</td>\n      <td>0.04754</td>\n      <td>15214.75700</td>\n      <td>35.28469</td>\n      <td>1631351.87152</td>\n    </tr>\n    <tr>\n      <th>13694.00000</th>\n      <td>94</td>\n      <td>125893</td>\n      <td>131443.19000</td>\n      <td>1398.33181</td>\n      <td>0.02180</td>\n      <td>13144.31900</td>\n      <td>30.48311</td>\n      <td>1217569.56993</td>\n    </tr>\n  </tbody>\n</table>\n</div>"
     },
     "execution_count": 34,
     "metadata": {},
     "output_type": "execute_result"
    }
   ],
   "source": [
    "##################################################\n",
    "# 7. Customer Lifetime Value (CLTV = (customer_value / churn_rate) x profit_margin)\n",
    "##################################################\n",
    "# Now the cltv dataframe is ready to calculate CLTV values for each customer, Lets see top 5\n",
    "cltv_c[\"cltv\"] = (cltv_c[\"customer_value\"] / churn_rate) * cltv_c[\"profit_margin\"]\n",
    "\n",
    "cltv_c.sort_values(by=\"cltv\", ascending=False).head()"
   ],
   "metadata": {
    "collapsed": false
   }
  },
  {
   "cell_type": "code",
   "execution_count": 35,
   "outputs": [
    {
     "data": {
      "text/plain": "             total_transaction  total_unit  total_price  average_order_value  \\\nCustomer ID                                                                    \n12346.00000                 11          70    372.86000             33.89636   \n12347.00000                  2         828   1323.32000            661.66000   \n12348.00000                  1         373    222.16000            222.16000   \n12349.00000                  3         993   2671.14000            890.38000   \n12351.00000                  1         261    300.93000            300.93000   \n\n             purchase_frequency  profit_margin  customer_value      cltv  \\\nCustomer ID                                                                \n12346.00000             0.00255       37.28600         0.08647   9.79736   \n12347.00000             0.00046      132.33200         0.30689 123.40915   \n12348.00000             0.00023       22.21600         0.05152   3.47816   \n12349.00000             0.00070      267.11400         0.61947 502.81810   \n12351.00000             0.00023       30.09300         0.06979   6.38188   \n\n            segment  \nCustomer ID          \n12346.00000       C  \n12347.00000       B  \n12348.00000       D  \n12349.00000       A  \n12351.00000       D  ",
      "text/html": "<div>\n<style scoped>\n    .dataframe tbody tr th:only-of-type {\n        vertical-align: middle;\n    }\n\n    .dataframe tbody tr th {\n        vertical-align: top;\n    }\n\n    .dataframe thead th {\n        text-align: right;\n    }\n</style>\n<table border=\"1\" class=\"dataframe\">\n  <thead>\n    <tr style=\"text-align: right;\">\n      <th></th>\n      <th>total_transaction</th>\n      <th>total_unit</th>\n      <th>total_price</th>\n      <th>average_order_value</th>\n      <th>purchase_frequency</th>\n      <th>profit_margin</th>\n      <th>customer_value</th>\n      <th>cltv</th>\n      <th>segment</th>\n    </tr>\n    <tr>\n      <th>Customer ID</th>\n      <th></th>\n      <th></th>\n      <th></th>\n      <th></th>\n      <th></th>\n      <th></th>\n      <th></th>\n      <th></th>\n      <th></th>\n    </tr>\n  </thead>\n  <tbody>\n    <tr>\n      <th>12346.00000</th>\n      <td>11</td>\n      <td>70</td>\n      <td>372.86000</td>\n      <td>33.89636</td>\n      <td>0.00255</td>\n      <td>37.28600</td>\n      <td>0.08647</td>\n      <td>9.79736</td>\n      <td>C</td>\n    </tr>\n    <tr>\n      <th>12347.00000</th>\n      <td>2</td>\n      <td>828</td>\n      <td>1323.32000</td>\n      <td>661.66000</td>\n      <td>0.00046</td>\n      <td>132.33200</td>\n      <td>0.30689</td>\n      <td>123.40915</td>\n      <td>B</td>\n    </tr>\n    <tr>\n      <th>12348.00000</th>\n      <td>1</td>\n      <td>373</td>\n      <td>222.16000</td>\n      <td>222.16000</td>\n      <td>0.00023</td>\n      <td>22.21600</td>\n      <td>0.05152</td>\n      <td>3.47816</td>\n      <td>D</td>\n    </tr>\n    <tr>\n      <th>12349.00000</th>\n      <td>3</td>\n      <td>993</td>\n      <td>2671.14000</td>\n      <td>890.38000</td>\n      <td>0.00070</td>\n      <td>267.11400</td>\n      <td>0.61947</td>\n      <td>502.81810</td>\n      <td>A</td>\n    </tr>\n    <tr>\n      <th>12351.00000</th>\n      <td>1</td>\n      <td>261</td>\n      <td>300.93000</td>\n      <td>300.93000</td>\n      <td>0.00023</td>\n      <td>30.09300</td>\n      <td>0.06979</td>\n      <td>6.38188</td>\n      <td>D</td>\n    </tr>\n  </tbody>\n</table>\n</div>"
     },
     "execution_count": 35,
     "metadata": {},
     "output_type": "execute_result"
    }
   ],
   "source": [
    "##################################################\n",
    "# 8. Identifying New CLTV Segments\n",
    "##################################################\n",
    "# New 4 segments have been identified from the bottom \"D\" to top \"A\" segments \n",
    "\n",
    "cltv_c.sort_values(by=\"cltv\", ascending=False).tail()\n",
    "\n",
    "cltv_c[\"segment\"] = pd.qcut(cltv_c[\"cltv\"], 4, labels=[\"D\", \"C\", \"B\", \"A\"])\n",
    "\n",
    "cltv_c.head()"
   ],
   "metadata": {
    "collapsed": false
   }
  },
  {
   "cell_type": "code",
   "execution_count": 36,
   "outputs": [
    {
     "data": {
      "text/plain": "             total_transaction  total_unit  total_price  average_order_value  \\\nCustomer ID                                                                    \n18102.00000                 89      124216 349164.35000           3923.19494   \n14646.00000                 78      170278 248396.50000           3184.57051   \n14156.00000                102      108107 196566.74000           1927.12490   \n14911.00000                205       69722 152147.57000            742.18327   \n13694.00000                 94      125893 131443.19000           1398.33181   \n\n             purchase_frequency  profit_margin  customer_value          cltv  \\\nCustomer ID                                                                    \n18102.00000             0.02064    34916.43500        80.97503 8591666.19527   \n14646.00000             0.01809    24839.65000        57.60587 4348190.36027   \n14156.00000             0.02365    19656.67400        45.58598 2722937.51052   \n14911.00000             0.04754    15214.75700        35.28469 1631351.87152   \n13694.00000             0.02180    13144.31900        30.48311 1217569.56993   \n\n            segment  \nCustomer ID          \n18102.00000       A  \n14646.00000       A  \n14156.00000       A  \n14911.00000       A  \n13694.00000       A  ",
      "text/html": "<div>\n<style scoped>\n    .dataframe tbody tr th:only-of-type {\n        vertical-align: middle;\n    }\n\n    .dataframe tbody tr th {\n        vertical-align: top;\n    }\n\n    .dataframe thead th {\n        text-align: right;\n    }\n</style>\n<table border=\"1\" class=\"dataframe\">\n  <thead>\n    <tr style=\"text-align: right;\">\n      <th></th>\n      <th>total_transaction</th>\n      <th>total_unit</th>\n      <th>total_price</th>\n      <th>average_order_value</th>\n      <th>purchase_frequency</th>\n      <th>profit_margin</th>\n      <th>customer_value</th>\n      <th>cltv</th>\n      <th>segment</th>\n    </tr>\n    <tr>\n      <th>Customer ID</th>\n      <th></th>\n      <th></th>\n      <th></th>\n      <th></th>\n      <th></th>\n      <th></th>\n      <th></th>\n      <th></th>\n      <th></th>\n    </tr>\n  </thead>\n  <tbody>\n    <tr>\n      <th>18102.00000</th>\n      <td>89</td>\n      <td>124216</td>\n      <td>349164.35000</td>\n      <td>3923.19494</td>\n      <td>0.02064</td>\n      <td>34916.43500</td>\n      <td>80.97503</td>\n      <td>8591666.19527</td>\n      <td>A</td>\n    </tr>\n    <tr>\n      <th>14646.00000</th>\n      <td>78</td>\n      <td>170278</td>\n      <td>248396.50000</td>\n      <td>3184.57051</td>\n      <td>0.01809</td>\n      <td>24839.65000</td>\n      <td>57.60587</td>\n      <td>4348190.36027</td>\n      <td>A</td>\n    </tr>\n    <tr>\n      <th>14156.00000</th>\n      <td>102</td>\n      <td>108107</td>\n      <td>196566.74000</td>\n      <td>1927.12490</td>\n      <td>0.02365</td>\n      <td>19656.67400</td>\n      <td>45.58598</td>\n      <td>2722937.51052</td>\n      <td>A</td>\n    </tr>\n    <tr>\n      <th>14911.00000</th>\n      <td>205</td>\n      <td>69722</td>\n      <td>152147.57000</td>\n      <td>742.18327</td>\n      <td>0.04754</td>\n      <td>15214.75700</td>\n      <td>35.28469</td>\n      <td>1631351.87152</td>\n      <td>A</td>\n    </tr>\n    <tr>\n      <th>13694.00000</th>\n      <td>94</td>\n      <td>125893</td>\n      <td>131443.19000</td>\n      <td>1398.33181</td>\n      <td>0.02180</td>\n      <td>13144.31900</td>\n      <td>30.48311</td>\n      <td>1217569.56993</td>\n      <td>A</td>\n    </tr>\n  </tbody>\n</table>\n</div>"
     },
     "execution_count": 36,
     "metadata": {},
     "output_type": "execute_result"
    }
   ],
   "source": [
    "#Lets see our top class segment called A\n",
    "cltv_c.sort_values(by=\"cltv\", ascending=False).head()"
   ],
   "metadata": {
    "collapsed": false
   }
  },
  {
   "cell_type": "code",
   "execution_count": 38,
   "outputs": [
    {
     "data": {
      "text/plain": "        total_transaction              total_unit                total_price  \\\n                     mean    sum count       mean      sum count        mean   \nsegment                                                                        \nD                 1.22913   1325  1078  109.20686   117725  1078   178.63922   \nC                 2.00649   2163  1078  283.47217   305583  1078   476.26545   \nB                 3.76809   4062  1078  680.71614   733812  1078  1132.30296   \nA                10.81911  11663  1078 4064.22449  4381234  1078  6405.74532   \n\n                            average_order_value                     \\\n                  sum count                mean          sum count   \nsegment                                                              \nD        192573.08000  1078           157.80465 170113.41550  1078   \nC        513414.15300  1078           294.33285 317290.81764  1078   \nB       1220622.59000  1078           390.09746 420525.05782  1078   \nA       6905393.45100  1078           671.05554 723397.87680  1078   \n\n        purchase_frequency               profit_margin                     \\\n                      mean     sum count          mean          sum count   \nsegment                                                                     \nD                  0.00029 0.30728  1078      17.86392  19257.30800  1078   \nC                  0.00047 0.50162  1078      47.62654  51341.41530  1078   \nB                  0.00087 0.94202  1078     113.23030 122062.25900  1078   \nA                  0.00251 2.70478  1078     640.57453 690539.34510  1078   \n\n        customer_value                         cltv                       \n                  mean        sum count        mean            sum count  \nsegment                                                                   \nD              0.04143   44.65981  1078     2.65309     2860.02697  1078  \nC              0.11045  119.06636  1078    16.91865    18238.30105  1078  \nB              0.26259  283.07574  1078    96.35431   103869.94237  1078  \nA              1.48556 1601.43633  1078 23462.60162 25292684.54322  1078  ",
      "text/html": "<div>\n<style scoped>\n    .dataframe tbody tr th:only-of-type {\n        vertical-align: middle;\n    }\n\n    .dataframe tbody tr th {\n        vertical-align: top;\n    }\n\n    .dataframe thead tr th {\n        text-align: left;\n    }\n\n    .dataframe thead tr:last-of-type th {\n        text-align: right;\n    }\n</style>\n<table border=\"1\" class=\"dataframe\">\n  <thead>\n    <tr>\n      <th></th>\n      <th colspan=\"3\" halign=\"left\">total_transaction</th>\n      <th colspan=\"3\" halign=\"left\">total_unit</th>\n      <th colspan=\"3\" halign=\"left\">total_price</th>\n      <th colspan=\"3\" halign=\"left\">average_order_value</th>\n      <th colspan=\"3\" halign=\"left\">purchase_frequency</th>\n      <th colspan=\"3\" halign=\"left\">profit_margin</th>\n      <th colspan=\"3\" halign=\"left\">customer_value</th>\n      <th colspan=\"3\" halign=\"left\">cltv</th>\n    </tr>\n    <tr>\n      <th></th>\n      <th>mean</th>\n      <th>sum</th>\n      <th>count</th>\n      <th>mean</th>\n      <th>sum</th>\n      <th>count</th>\n      <th>mean</th>\n      <th>sum</th>\n      <th>count</th>\n      <th>mean</th>\n      <th>sum</th>\n      <th>count</th>\n      <th>mean</th>\n      <th>sum</th>\n      <th>count</th>\n      <th>mean</th>\n      <th>sum</th>\n      <th>count</th>\n      <th>mean</th>\n      <th>sum</th>\n      <th>count</th>\n      <th>mean</th>\n      <th>sum</th>\n      <th>count</th>\n    </tr>\n    <tr>\n      <th>segment</th>\n      <th></th>\n      <th></th>\n      <th></th>\n      <th></th>\n      <th></th>\n      <th></th>\n      <th></th>\n      <th></th>\n      <th></th>\n      <th></th>\n      <th></th>\n      <th></th>\n      <th></th>\n      <th></th>\n      <th></th>\n      <th></th>\n      <th></th>\n      <th></th>\n      <th></th>\n      <th></th>\n      <th></th>\n      <th></th>\n      <th></th>\n      <th></th>\n    </tr>\n  </thead>\n  <tbody>\n    <tr>\n      <th>D</th>\n      <td>1.22913</td>\n      <td>1325</td>\n      <td>1078</td>\n      <td>109.20686</td>\n      <td>117725</td>\n      <td>1078</td>\n      <td>178.63922</td>\n      <td>192573.08000</td>\n      <td>1078</td>\n      <td>157.80465</td>\n      <td>170113.41550</td>\n      <td>1078</td>\n      <td>0.00029</td>\n      <td>0.30728</td>\n      <td>1078</td>\n      <td>17.86392</td>\n      <td>19257.30800</td>\n      <td>1078</td>\n      <td>0.04143</td>\n      <td>44.65981</td>\n      <td>1078</td>\n      <td>2.65309</td>\n      <td>2860.02697</td>\n      <td>1078</td>\n    </tr>\n    <tr>\n      <th>C</th>\n      <td>2.00649</td>\n      <td>2163</td>\n      <td>1078</td>\n      <td>283.47217</td>\n      <td>305583</td>\n      <td>1078</td>\n      <td>476.26545</td>\n      <td>513414.15300</td>\n      <td>1078</td>\n      <td>294.33285</td>\n      <td>317290.81764</td>\n      <td>1078</td>\n      <td>0.00047</td>\n      <td>0.50162</td>\n      <td>1078</td>\n      <td>47.62654</td>\n      <td>51341.41530</td>\n      <td>1078</td>\n      <td>0.11045</td>\n      <td>119.06636</td>\n      <td>1078</td>\n      <td>16.91865</td>\n      <td>18238.30105</td>\n      <td>1078</td>\n    </tr>\n    <tr>\n      <th>B</th>\n      <td>3.76809</td>\n      <td>4062</td>\n      <td>1078</td>\n      <td>680.71614</td>\n      <td>733812</td>\n      <td>1078</td>\n      <td>1132.30296</td>\n      <td>1220622.59000</td>\n      <td>1078</td>\n      <td>390.09746</td>\n      <td>420525.05782</td>\n      <td>1078</td>\n      <td>0.00087</td>\n      <td>0.94202</td>\n      <td>1078</td>\n      <td>113.23030</td>\n      <td>122062.25900</td>\n      <td>1078</td>\n      <td>0.26259</td>\n      <td>283.07574</td>\n      <td>1078</td>\n      <td>96.35431</td>\n      <td>103869.94237</td>\n      <td>1078</td>\n    </tr>\n    <tr>\n      <th>A</th>\n      <td>10.81911</td>\n      <td>11663</td>\n      <td>1078</td>\n      <td>4064.22449</td>\n      <td>4381234</td>\n      <td>1078</td>\n      <td>6405.74532</td>\n      <td>6905393.45100</td>\n      <td>1078</td>\n      <td>671.05554</td>\n      <td>723397.87680</td>\n      <td>1078</td>\n      <td>0.00251</td>\n      <td>2.70478</td>\n      <td>1078</td>\n      <td>640.57453</td>\n      <td>690539.34510</td>\n      <td>1078</td>\n      <td>1.48556</td>\n      <td>1601.43633</td>\n      <td>1078</td>\n      <td>23462.60162</td>\n      <td>25292684.54322</td>\n      <td>1078</td>\n    </tr>\n  </tbody>\n</table>\n</div>"
     },
     "execution_count": 38,
     "metadata": {},
     "output_type": "execute_result"
    }
   ],
   "source": [
    "#Here we take descriptive statistics for the segments\n",
    "cltv_c.groupby(\"segment\").agg({\"count\", \"mean\", \"sum\"})"
   ],
   "metadata": {
    "collapsed": false
   }
  },
  {
   "cell_type": "code",
   "execution_count": null,
   "outputs": [],
   "source": [],
   "metadata": {
    "collapsed": false
   }
  }
 ],
 "metadata": {
  "kernelspec": {
   "display_name": "Python 3",
   "language": "python",
   "name": "python3"
  },
  "language_info": {
   "codemirror_mode": {
    "name": "ipython",
    "version": 2
   },
   "file_extension": ".py",
   "mimetype": "text/x-python",
   "name": "python",
   "nbconvert_exporter": "python",
   "pygments_lexer": "ipython2",
   "version": "2.7.6"
  }
 },
 "nbformat": 4,
 "nbformat_minor": 0
}
